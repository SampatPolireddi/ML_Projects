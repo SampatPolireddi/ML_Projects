{
  "nbformat": 4,
  "nbformat_minor": 0,
  "metadata": {
    "colab": {
      "provenance": [],
      "include_colab_link": true
    },
    "kernelspec": {
      "name": "python3",
      "display_name": "Python 3"
    },
    "language_info": {
      "name": "python"
    }
  },
  "cells": [
    {
      "cell_type": "markdown",
      "metadata": {
        "id": "view-in-github",
        "colab_type": "text"
      },
      "source": [
        "<a href=\"https://colab.research.google.com/github/SampatPolireddi/ML_Projects/blob/main/Hand_Gestures_ML.ipynb\" target=\"_parent\"><img src=\"https://colab.research.google.com/assets/colab-badge.svg\" alt=\"Open In Colab\"/></a>"
      ]
    },
    {
      "cell_type": "code",
      "metadata": {
        "id": "Gs_xHs-YKZ6F"
      },
      "source": [
        "%matplotlib inline\n",
        "from google.colab import files\n",
        "import os\n",
        "import tensorflow as tf\n",
        "from tensorflow import keras\n",
        "import numpy as np\n",
        "import matplotlib.pyplot as plt\n",
        "import cv2\n",
        "import pandas as pd\n",
        "from sklearn.model_selection import train_test_split "
      ],
      "execution_count": null,
      "outputs": []
    },
    {
      "cell_type": "code",
      "metadata": {
        "colab": {
          "base_uri": "https://localhost:8080/"
        },
        "id": "qpay7p2ivXTA",
        "outputId": "af46d8e2-8876-4a9a-fa7e-ecd2201d8397"
      },
      "source": [
        "#Connecting google drive, since dataset is present in drive\n",
        "import os\n",
        "from google.colab import drive\n",
        "drive.mount('/content/drive')\n",
        "\n",
        "os.chdir('/content/drive/My Drive/ML Project Dataset/leapGestRecog')"
      ],
      "execution_count": null,
      "outputs": [
        {
          "output_type": "stream",
          "name": "stdout",
          "text": [
            "Mounted at /content/drive\n"
          ]
        }
      ]
    },
    {
      "cell_type": "code",
      "metadata": {
        "id": "_7kSWrbdcL-H"
      },
      "source": [
        "imagepaths = []\n",
        "i=0\n",
        "#Going through sub folders in dataset\n",
        "for root, dirs, files in os.walk(\".\", topdown=False): \n",
        "  for name in files:\n",
        "    if(i<5000):\n",
        "      path = os.path.join(root, name)\n",
        "      if path.endswith(\"png\"):\n",
        "        imagepaths.append(path)\n",
        "        i=i+1\n",
        "\n",
        "def plot_image(path):\n",
        "  img = cv2.imread(path)\n",
        "  img_cvt = cv2.cvtColor(img, cv2.COLOR_BGR2GRAY)\n",
        "  print(img_cvt.shape)"
      ],
      "execution_count": null,
      "outputs": []
    },
    {
      "cell_type": "code",
      "metadata": {
        "colab": {
          "base_uri": "https://localhost:8080/"
        },
        "id": "vWYhfZ7ccmkE",
        "outputId": "760a2bff-8bd9-4f41-8b94-33fcf2e4dc34"
      },
      "source": [
        "X = [] # Images\n",
        "y = [] # Labels\n",
        "\n",
        "# loading the images and labels into arrays\n",
        "for path in imagepaths:\n",
        "  img = cv2.imread(path)\n",
        "  img = cv2.cvtColor(img, cv2.COLOR_BGR2GRAY) # Converts into the corret colorspace (GRAY)\n",
        "  img = cv2.resize(img, (320, 120))\n",
        "  X.append(img)\n",
        "  \n",
        "  #print(path)\n",
        "  category = path.split(\"/\")[3]\n",
        "  #print( category)\n",
        "  label = int(category.split(\"_\")[1][1]) \n",
        "  y.append(label)\n",
        "\n",
        "# Converting X and y into np arrays\n",
        "X = np.array(X, dtype=\"uint8\")\n",
        "X = X.reshape(len(imagepaths), 120, 320, 1) #Reshaping for CNN to differentiate images\n",
        "y = np.array(y)\n",
        "\n",
        "print(\"Images: \", len(X))\n",
        "print(\"Labels: \", len(y))"
      ],
      "execution_count": null,
      "outputs": [
        {
          "output_type": "stream",
          "name": "stdout",
          "text": [
            "Images:  5000\n",
            "Labels:  5000\n"
          ]
        }
      ]
    },
    {
      "cell_type": "code",
      "metadata": {
        "id": "Nx0BzeQ0iq3i"
      },
      "source": [
        "#Splitting the dataset into test and train samples\n",
        "X_train, X_test, y_train, y_test = train_test_split(X, y, test_size=0.3, random_state=42)"
      ],
      "execution_count": null,
      "outputs": []
    },
    {
      "cell_type": "code",
      "metadata": {
        "id": "N9b9l_igDYwj"
      },
      "source": [
        "from keras.models import Sequential\n",
        "from keras.layers.convolutional import Conv2D, MaxPooling2D\n",
        "from keras.layers import Dense, Flatten\n",
        "\n",
        "model = Sequential()\n",
        "model.add(Conv2D(32, (5, 5), activation='relu', input_shape=(120, 320, 1))) \n",
        "model.add(MaxPooling2D((2, 2)))\n",
        "model.add(Conv2D(64, (3, 3), activation='relu')) \n",
        "model.add(MaxPooling2D((2, 2)))\n",
        "model.add(Conv2D(64, (3, 3), activation='relu'))\n",
        "model.add(MaxPooling2D((2, 2)))\n",
        "model.add(Flatten())\n",
        "model.add(Dense(128, activation='relu'))\n",
        "model.add(Dense(10, activation='softmax'))"
      ],
      "execution_count": null,
      "outputs": []
    },
    {
      "cell_type": "code",
      "metadata": {
        "id": "BGKBlj6rDY67",
        "colab": {
          "base_uri": "https://localhost:8080/"
        },
        "outputId": "fdaff6cf-29da-4e23-f30b-5f7d9fc604ee"
      },
      "source": [
        "model.compile(optimizer='adam',loss='sparse_categorical_crossentropy',metrics=['accuracy']) \n",
        "M=model.fit(X_train, y_train, epochs=5, validation_data=(X_test, y_test))"
      ],
      "execution_count": null,
      "outputs": [
        {
          "output_type": "stream",
          "name": "stdout",
          "text": [
            "Epoch 1/5\n",
            "110/110 [==============================] - 223s 2s/step - loss: 0.0538 - accuracy: 0.9954 - val_loss: 0.1369 - val_accuracy: 0.9913\n",
            "Epoch 2/5\n",
            "110/110 [==============================] - 222s 2s/step - loss: 0.1109 - accuracy: 0.9957 - val_loss: 1.5932 - val_accuracy: 0.9027\n",
            "Epoch 3/5\n",
            "110/110 [==============================] - 221s 2s/step - loss: 0.0483 - accuracy: 0.9974 - val_loss: 0.0024 - val_accuracy: 0.9993\n",
            "Epoch 4/5\n",
            "110/110 [==============================] - 222s 2s/step - loss: 2.7996e-04 - accuracy: 0.9997 - val_loss: 0.0052 - val_accuracy: 0.9993\n",
            "Epoch 5/5\n",
            "110/110 [==============================] - 224s 2s/step - loss: 1.0971e-06 - accuracy: 1.0000 - val_loss: 0.0044 - val_accuracy: 0.9993\n"
          ]
        }
      ]
    },
    {
      "cell_type": "code",
      "metadata": {
        "id": "9cKUnzSPDn9K",
        "colab": {
          "base_uri": "https://localhost:8080/"
        },
        "outputId": "96863345-fde8-460f-ebd1-dec31137e161"
      },
      "source": [
        "print(test_acc*100)"
      ],
      "execution_count": null,
      "outputs": [
        {
          "output_type": "stream",
          "name": "stdout",
          "text": [
            "99.93333220481873\n"
          ]
        }
      ]
    }
  ]
}