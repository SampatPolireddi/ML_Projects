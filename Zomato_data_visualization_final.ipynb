{
  "nbformat": 4,
  "nbformat_minor": 0,
  "metadata": {
    "colab": {
      "name": "Zomato_data_visualization_final",
      "provenance": [],
      "authorship_tag": "ABX9TyO44wynKVA/JDsyaX2hr5Ey",
      "include_colab_link": true
    },
    "kernelspec": {
      "name": "python3",
      "display_name": "Python 3"
    },
    "language_info": {
      "name": "python"
    }
  },
  "cells": [
    {
      "cell_type": "markdown",
      "metadata": {
        "id": "view-in-github",
        "colab_type": "text"
      },
      "source": [
        "<a href=\"https://colab.research.google.com/github/SampatPolireddi/ML_Projects/blob/main/Zomato_data_visualization_final.ipynb\" target=\"_parent\"><img src=\"https://colab.research.google.com/assets/colab-badge.svg\" alt=\"Open In Colab\"/></a>"
      ]
    },
    {
      "cell_type": "code",
      "source": [
        "from google.colab import drive\n",
        "drive.mount('/content/drive')"
      ],
      "metadata": {
        "colab": {
          "base_uri": "https://localhost:8080/"
        },
        "id": "bmpLMX0va0EA",
        "outputId": "80cee95f-4d8a-4877-80f3-7caf205b247b"
      },
      "execution_count": null,
      "outputs": [
        {
          "output_type": "stream",
          "name": "stdout",
          "text": [
            "Drive already mounted at /content/drive; to attempt to forcibly remount, call drive.mount(\"/content/drive\", force_remount=True).\n"
          ]
        }
      ]
    },
    {
      "cell_type": "code",
      "execution_count": null,
      "metadata": {
        "id": "Fk6jlRtyaqCP"
      },
      "outputs": [],
      "source": [
        "import pandas as pd\n",
        "import numpy as np\n",
        "import matplotlib.pyplot as plt\n",
        "import seaborn as sns\n",
        "\n",
        "df=pd.read_csv(\"/content/drive/MyDrive/Zomato/zomato.csv\")"
      ]
    },
    {
      "cell_type": "code",
      "source": [
        "df.head()"
      ],
      "metadata": {
        "colab": {
          "base_uri": "https://localhost:8080/",
          "height": 652
        },
        "id": "sv4OcCYebQ-j",
        "outputId": "42be07e1-b25a-44c9-be74-d833f3ecaaf0"
      },
      "execution_count": null,
      "outputs": [
        {
          "output_type": "execute_result",
          "data": {
            "text/html": [
              "\n",
              "  <div id=\"df-348c414c-edd1-4a94-abd5-f05ad193f294\">\n",
              "    <div class=\"colab-df-container\">\n",
              "      <div>\n",
              "<style scoped>\n",
              "    .dataframe tbody tr th:only-of-type {\n",
              "        vertical-align: middle;\n",
              "    }\n",
              "\n",
              "    .dataframe tbody tr th {\n",
              "        vertical-align: top;\n",
              "    }\n",
              "\n",
              "    .dataframe thead th {\n",
              "        text-align: right;\n",
              "    }\n",
              "</style>\n",
              "<table border=\"1\" class=\"dataframe\">\n",
              "  <thead>\n",
              "    <tr style=\"text-align: right;\">\n",
              "      <th></th>\n",
              "      <th>url</th>\n",
              "      <th>address</th>\n",
              "      <th>name</th>\n",
              "      <th>online_order</th>\n",
              "      <th>book_table</th>\n",
              "      <th>rate</th>\n",
              "      <th>votes</th>\n",
              "      <th>phone</th>\n",
              "      <th>location</th>\n",
              "      <th>rest_type</th>\n",
              "      <th>dish_liked</th>\n",
              "      <th>cuisines</th>\n",
              "      <th>approx_cost(for two people)</th>\n",
              "      <th>reviews_list</th>\n",
              "      <th>menu_item</th>\n",
              "      <th>listed_in(type)</th>\n",
              "      <th>listed_in(city)</th>\n",
              "    </tr>\n",
              "  </thead>\n",
              "  <tbody>\n",
              "    <tr>\n",
              "      <th>0</th>\n",
              "      <td>https://www.zomato.com/bangalore/jalsa-banasha...</td>\n",
              "      <td>942, 21st Main Road, 2nd Stage, Banashankari, ...</td>\n",
              "      <td>Jalsa</td>\n",
              "      <td>Yes</td>\n",
              "      <td>Yes</td>\n",
              "      <td>4.1/5</td>\n",
              "      <td>775</td>\n",
              "      <td>080 42297555\\r\\n+91 9743772233</td>\n",
              "      <td>Banashankari</td>\n",
              "      <td>Casual Dining</td>\n",
              "      <td>Pasta, Lunch Buffet, Masala Papad, Paneer Laja...</td>\n",
              "      <td>North Indian, Mughlai, Chinese</td>\n",
              "      <td>800</td>\n",
              "      <td>[('Rated 4.0', 'RATED\\n  A beautiful place to ...</td>\n",
              "      <td>[]</td>\n",
              "      <td>Buffet</td>\n",
              "      <td>Banashankari</td>\n",
              "    </tr>\n",
              "    <tr>\n",
              "      <th>1</th>\n",
              "      <td>https://www.zomato.com/bangalore/spice-elephan...</td>\n",
              "      <td>2nd Floor, 80 Feet Road, Near Big Bazaar, 6th ...</td>\n",
              "      <td>Spice Elephant</td>\n",
              "      <td>Yes</td>\n",
              "      <td>No</td>\n",
              "      <td>4.1/5</td>\n",
              "      <td>787</td>\n",
              "      <td>080 41714161</td>\n",
              "      <td>Banashankari</td>\n",
              "      <td>Casual Dining</td>\n",
              "      <td>Momos, Lunch Buffet, Chocolate Nirvana, Thai G...</td>\n",
              "      <td>Chinese, North Indian, Thai</td>\n",
              "      <td>800</td>\n",
              "      <td>[('Rated 4.0', 'RATED\\n  Had been here for din...</td>\n",
              "      <td>[]</td>\n",
              "      <td>Buffet</td>\n",
              "      <td>Banashankari</td>\n",
              "    </tr>\n",
              "    <tr>\n",
              "      <th>2</th>\n",
              "      <td>https://www.zomato.com/SanchurroBangalore?cont...</td>\n",
              "      <td>1112, Next to KIMS Medical College, 17th Cross...</td>\n",
              "      <td>San Churro Cafe</td>\n",
              "      <td>Yes</td>\n",
              "      <td>No</td>\n",
              "      <td>3.8/5</td>\n",
              "      <td>918</td>\n",
              "      <td>+91 9663487993</td>\n",
              "      <td>Banashankari</td>\n",
              "      <td>Cafe, Casual Dining</td>\n",
              "      <td>Churros, Cannelloni, Minestrone Soup, Hot Choc...</td>\n",
              "      <td>Cafe, Mexican, Italian</td>\n",
              "      <td>800</td>\n",
              "      <td>[('Rated 3.0', \"RATED\\n  Ambience is not that ...</td>\n",
              "      <td>[]</td>\n",
              "      <td>Buffet</td>\n",
              "      <td>Banashankari</td>\n",
              "    </tr>\n",
              "    <tr>\n",
              "      <th>3</th>\n",
              "      <td>https://www.zomato.com/bangalore/addhuri-udupi...</td>\n",
              "      <td>1st Floor, Annakuteera, 3rd Stage, Banashankar...</td>\n",
              "      <td>Addhuri Udupi Bhojana</td>\n",
              "      <td>No</td>\n",
              "      <td>No</td>\n",
              "      <td>3.7/5</td>\n",
              "      <td>88</td>\n",
              "      <td>+91 9620009302</td>\n",
              "      <td>Banashankari</td>\n",
              "      <td>Quick Bites</td>\n",
              "      <td>Masala Dosa</td>\n",
              "      <td>South Indian, North Indian</td>\n",
              "      <td>300</td>\n",
              "      <td>[('Rated 4.0', \"RATED\\n  Great food and proper...</td>\n",
              "      <td>[]</td>\n",
              "      <td>Buffet</td>\n",
              "      <td>Banashankari</td>\n",
              "    </tr>\n",
              "    <tr>\n",
              "      <th>4</th>\n",
              "      <td>https://www.zomato.com/bangalore/grand-village...</td>\n",
              "      <td>10, 3rd Floor, Lakshmi Associates, Gandhi Baza...</td>\n",
              "      <td>Grand Village</td>\n",
              "      <td>No</td>\n",
              "      <td>No</td>\n",
              "      <td>3.8/5</td>\n",
              "      <td>166</td>\n",
              "      <td>+91 8026612447\\r\\n+91 9901210005</td>\n",
              "      <td>Basavanagudi</td>\n",
              "      <td>Casual Dining</td>\n",
              "      <td>Panipuri, Gol Gappe</td>\n",
              "      <td>North Indian, Rajasthani</td>\n",
              "      <td>600</td>\n",
              "      <td>[('Rated 4.0', 'RATED\\n  Very good restaurant ...</td>\n",
              "      <td>[]</td>\n",
              "      <td>Buffet</td>\n",
              "      <td>Banashankari</td>\n",
              "    </tr>\n",
              "  </tbody>\n",
              "</table>\n",
              "</div>\n",
              "      <button class=\"colab-df-convert\" onclick=\"convertToInteractive('df-348c414c-edd1-4a94-abd5-f05ad193f294')\"\n",
              "              title=\"Convert this dataframe to an interactive table.\"\n",
              "              style=\"display:none;\">\n",
              "        \n",
              "  <svg xmlns=\"http://www.w3.org/2000/svg\" height=\"24px\"viewBox=\"0 0 24 24\"\n",
              "       width=\"24px\">\n",
              "    <path d=\"M0 0h24v24H0V0z\" fill=\"none\"/>\n",
              "    <path d=\"M18.56 5.44l.94 2.06.94-2.06 2.06-.94-2.06-.94-.94-2.06-.94 2.06-2.06.94zm-11 1L8.5 8.5l.94-2.06 2.06-.94-2.06-.94L8.5 2.5l-.94 2.06-2.06.94zm10 10l.94 2.06.94-2.06 2.06-.94-2.06-.94-.94-2.06-.94 2.06-2.06.94z\"/><path d=\"M17.41 7.96l-1.37-1.37c-.4-.4-.92-.59-1.43-.59-.52 0-1.04.2-1.43.59L10.3 9.45l-7.72 7.72c-.78.78-.78 2.05 0 2.83L4 21.41c.39.39.9.59 1.41.59.51 0 1.02-.2 1.41-.59l7.78-7.78 2.81-2.81c.8-.78.8-2.07 0-2.86zM5.41 20L4 18.59l7.72-7.72 1.47 1.35L5.41 20z\"/>\n",
              "  </svg>\n",
              "      </button>\n",
              "      \n",
              "  <style>\n",
              "    .colab-df-container {\n",
              "      display:flex;\n",
              "      flex-wrap:wrap;\n",
              "      gap: 12px;\n",
              "    }\n",
              "\n",
              "    .colab-df-convert {\n",
              "      background-color: #E8F0FE;\n",
              "      border: none;\n",
              "      border-radius: 50%;\n",
              "      cursor: pointer;\n",
              "      display: none;\n",
              "      fill: #1967D2;\n",
              "      height: 32px;\n",
              "      padding: 0 0 0 0;\n",
              "      width: 32px;\n",
              "    }\n",
              "\n",
              "    .colab-df-convert:hover {\n",
              "      background-color: #E2EBFA;\n",
              "      box-shadow: 0px 1px 2px rgba(60, 64, 67, 0.3), 0px 1px 3px 1px rgba(60, 64, 67, 0.15);\n",
              "      fill: #174EA6;\n",
              "    }\n",
              "\n",
              "    [theme=dark] .colab-df-convert {\n",
              "      background-color: #3B4455;\n",
              "      fill: #D2E3FC;\n",
              "    }\n",
              "\n",
              "    [theme=dark] .colab-df-convert:hover {\n",
              "      background-color: #434B5C;\n",
              "      box-shadow: 0px 1px 3px 1px rgba(0, 0, 0, 0.15);\n",
              "      filter: drop-shadow(0px 1px 2px rgba(0, 0, 0, 0.3));\n",
              "      fill: #FFFFFF;\n",
              "    }\n",
              "  </style>\n",
              "\n",
              "      <script>\n",
              "        const buttonEl =\n",
              "          document.querySelector('#df-348c414c-edd1-4a94-abd5-f05ad193f294 button.colab-df-convert');\n",
              "        buttonEl.style.display =\n",
              "          google.colab.kernel.accessAllowed ? 'block' : 'none';\n",
              "\n",
              "        async function convertToInteractive(key) {\n",
              "          const element = document.querySelector('#df-348c414c-edd1-4a94-abd5-f05ad193f294');\n",
              "          const dataTable =\n",
              "            await google.colab.kernel.invokeFunction('convertToInteractive',\n",
              "                                                     [key], {});\n",
              "          if (!dataTable) return;\n",
              "\n",
              "          const docLinkHtml = 'Like what you see? Visit the ' +\n",
              "            '<a target=\"_blank\" href=https://colab.research.google.com/notebooks/data_table.ipynb>data table notebook</a>'\n",
              "            + ' to learn more about interactive tables.';\n",
              "          element.innerHTML = '';\n",
              "          dataTable['output_type'] = 'display_data';\n",
              "          await google.colab.output.renderOutput(dataTable, element);\n",
              "          const docLink = document.createElement('div');\n",
              "          docLink.innerHTML = docLinkHtml;\n",
              "          element.appendChild(docLink);\n",
              "        }\n",
              "      </script>\n",
              "    </div>\n",
              "  </div>\n",
              "  "
            ],
            "text/plain": [
              "                                                 url  ... listed_in(city)\n",
              "0  https://www.zomato.com/bangalore/jalsa-banasha...  ...    Banashankari\n",
              "1  https://www.zomato.com/bangalore/spice-elephan...  ...    Banashankari\n",
              "2  https://www.zomato.com/SanchurroBangalore?cont...  ...    Banashankari\n",
              "3  https://www.zomato.com/bangalore/addhuri-udupi...  ...    Banashankari\n",
              "4  https://www.zomato.com/bangalore/grand-village...  ...    Banashankari\n",
              "\n",
              "[5 rows x 17 columns]"
            ]
          },
          "metadata": {},
          "execution_count": 352
        }
      ]
    },
    {
      "cell_type": "code",
      "source": [
        "df.shape"
      ],
      "metadata": {
        "colab": {
          "base_uri": "https://localhost:8080/"
        },
        "id": "5B0M56xydGH2",
        "outputId": "0ec22e0b-f961-406a-efd6-d5bdc46c87d2"
      },
      "execution_count": null,
      "outputs": [
        {
          "output_type": "execute_result",
          "data": {
            "text/plain": [
              "(51717, 17)"
            ]
          },
          "metadata": {},
          "execution_count": 353
        }
      ]
    },
    {
      "cell_type": "markdown",
      "source": [
        "**Data Cleaning**"
      ],
      "metadata": {
        "id": "-CxqiHK5qmmU"
      }
    },
    {
      "cell_type": "code",
      "source": [
        "#Removing unimportant col\n",
        "df=df.drop(['url','address','phone','dish_liked','menu_item','reviews_list','listed_in(city)'],axis=1)"
      ],
      "metadata": {
        "id": "M-cNNe79bafe"
      },
      "execution_count": null,
      "outputs": []
    },
    {
      "cell_type": "code",
      "source": [
        "#Renaming col\n",
        "df.rename(columns = {'approx_cost(for two people)':'Cost_per_plate', 'listed_in(type)':'Type','rest_type':'Dining_type'}, inplace = True)\n",
        "df.head()"
      ],
      "metadata": {
        "colab": {
          "base_uri": "https://localhost:8080/",
          "height": 206
        },
        "id": "gjrzVhhivv9r",
        "outputId": "1e03c2e7-9558-4bb6-b571-82f0a7972391"
      },
      "execution_count": null,
      "outputs": [
        {
          "output_type": "execute_result",
          "data": {
            "text/html": [
              "\n",
              "  <div id=\"df-6a094ff3-269d-4c6c-9d53-74d4bef2e254\">\n",
              "    <div class=\"colab-df-container\">\n",
              "      <div>\n",
              "<style scoped>\n",
              "    .dataframe tbody tr th:only-of-type {\n",
              "        vertical-align: middle;\n",
              "    }\n",
              "\n",
              "    .dataframe tbody tr th {\n",
              "        vertical-align: top;\n",
              "    }\n",
              "\n",
              "    .dataframe thead th {\n",
              "        text-align: right;\n",
              "    }\n",
              "</style>\n",
              "<table border=\"1\" class=\"dataframe\">\n",
              "  <thead>\n",
              "    <tr style=\"text-align: right;\">\n",
              "      <th></th>\n",
              "      <th>name</th>\n",
              "      <th>online_order</th>\n",
              "      <th>book_table</th>\n",
              "      <th>rate</th>\n",
              "      <th>votes</th>\n",
              "      <th>location</th>\n",
              "      <th>Dining_type</th>\n",
              "      <th>cuisines</th>\n",
              "      <th>Cost_per_plate</th>\n",
              "      <th>Type</th>\n",
              "    </tr>\n",
              "  </thead>\n",
              "  <tbody>\n",
              "    <tr>\n",
              "      <th>0</th>\n",
              "      <td>Jalsa</td>\n",
              "      <td>Yes</td>\n",
              "      <td>Yes</td>\n",
              "      <td>4.1/5</td>\n",
              "      <td>775</td>\n",
              "      <td>Banashankari</td>\n",
              "      <td>Casual Dining</td>\n",
              "      <td>North Indian, Mughlai, Chinese</td>\n",
              "      <td>800</td>\n",
              "      <td>Buffet</td>\n",
              "    </tr>\n",
              "    <tr>\n",
              "      <th>1</th>\n",
              "      <td>Spice Elephant</td>\n",
              "      <td>Yes</td>\n",
              "      <td>No</td>\n",
              "      <td>4.1/5</td>\n",
              "      <td>787</td>\n",
              "      <td>Banashankari</td>\n",
              "      <td>Casual Dining</td>\n",
              "      <td>Chinese, North Indian, Thai</td>\n",
              "      <td>800</td>\n",
              "      <td>Buffet</td>\n",
              "    </tr>\n",
              "    <tr>\n",
              "      <th>2</th>\n",
              "      <td>San Churro Cafe</td>\n",
              "      <td>Yes</td>\n",
              "      <td>No</td>\n",
              "      <td>3.8/5</td>\n",
              "      <td>918</td>\n",
              "      <td>Banashankari</td>\n",
              "      <td>Cafe, Casual Dining</td>\n",
              "      <td>Cafe, Mexican, Italian</td>\n",
              "      <td>800</td>\n",
              "      <td>Buffet</td>\n",
              "    </tr>\n",
              "    <tr>\n",
              "      <th>3</th>\n",
              "      <td>Addhuri Udupi Bhojana</td>\n",
              "      <td>No</td>\n",
              "      <td>No</td>\n",
              "      <td>3.7/5</td>\n",
              "      <td>88</td>\n",
              "      <td>Banashankari</td>\n",
              "      <td>Quick Bites</td>\n",
              "      <td>South Indian, North Indian</td>\n",
              "      <td>300</td>\n",
              "      <td>Buffet</td>\n",
              "    </tr>\n",
              "    <tr>\n",
              "      <th>4</th>\n",
              "      <td>Grand Village</td>\n",
              "      <td>No</td>\n",
              "      <td>No</td>\n",
              "      <td>3.8/5</td>\n",
              "      <td>166</td>\n",
              "      <td>Basavanagudi</td>\n",
              "      <td>Casual Dining</td>\n",
              "      <td>North Indian, Rajasthani</td>\n",
              "      <td>600</td>\n",
              "      <td>Buffet</td>\n",
              "    </tr>\n",
              "  </tbody>\n",
              "</table>\n",
              "</div>\n",
              "      <button class=\"colab-df-convert\" onclick=\"convertToInteractive('df-6a094ff3-269d-4c6c-9d53-74d4bef2e254')\"\n",
              "              title=\"Convert this dataframe to an interactive table.\"\n",
              "              style=\"display:none;\">\n",
              "        \n",
              "  <svg xmlns=\"http://www.w3.org/2000/svg\" height=\"24px\"viewBox=\"0 0 24 24\"\n",
              "       width=\"24px\">\n",
              "    <path d=\"M0 0h24v24H0V0z\" fill=\"none\"/>\n",
              "    <path d=\"M18.56 5.44l.94 2.06.94-2.06 2.06-.94-2.06-.94-.94-2.06-.94 2.06-2.06.94zm-11 1L8.5 8.5l.94-2.06 2.06-.94-2.06-.94L8.5 2.5l-.94 2.06-2.06.94zm10 10l.94 2.06.94-2.06 2.06-.94-2.06-.94-.94-2.06-.94 2.06-2.06.94z\"/><path d=\"M17.41 7.96l-1.37-1.37c-.4-.4-.92-.59-1.43-.59-.52 0-1.04.2-1.43.59L10.3 9.45l-7.72 7.72c-.78.78-.78 2.05 0 2.83L4 21.41c.39.39.9.59 1.41.59.51 0 1.02-.2 1.41-.59l7.78-7.78 2.81-2.81c.8-.78.8-2.07 0-2.86zM5.41 20L4 18.59l7.72-7.72 1.47 1.35L5.41 20z\"/>\n",
              "  </svg>\n",
              "      </button>\n",
              "      \n",
              "  <style>\n",
              "    .colab-df-container {\n",
              "      display:flex;\n",
              "      flex-wrap:wrap;\n",
              "      gap: 12px;\n",
              "    }\n",
              "\n",
              "    .colab-df-convert {\n",
              "      background-color: #E8F0FE;\n",
              "      border: none;\n",
              "      border-radius: 50%;\n",
              "      cursor: pointer;\n",
              "      display: none;\n",
              "      fill: #1967D2;\n",
              "      height: 32px;\n",
              "      padding: 0 0 0 0;\n",
              "      width: 32px;\n",
              "    }\n",
              "\n",
              "    .colab-df-convert:hover {\n",
              "      background-color: #E2EBFA;\n",
              "      box-shadow: 0px 1px 2px rgba(60, 64, 67, 0.3), 0px 1px 3px 1px rgba(60, 64, 67, 0.15);\n",
              "      fill: #174EA6;\n",
              "    }\n",
              "\n",
              "    [theme=dark] .colab-df-convert {\n",
              "      background-color: #3B4455;\n",
              "      fill: #D2E3FC;\n",
              "    }\n",
              "\n",
              "    [theme=dark] .colab-df-convert:hover {\n",
              "      background-color: #434B5C;\n",
              "      box-shadow: 0px 1px 3px 1px rgba(0, 0, 0, 0.15);\n",
              "      filter: drop-shadow(0px 1px 2px rgba(0, 0, 0, 0.3));\n",
              "      fill: #FFFFFF;\n",
              "    }\n",
              "  </style>\n",
              "\n",
              "      <script>\n",
              "        const buttonEl =\n",
              "          document.querySelector('#df-6a094ff3-269d-4c6c-9d53-74d4bef2e254 button.colab-df-convert');\n",
              "        buttonEl.style.display =\n",
              "          google.colab.kernel.accessAllowed ? 'block' : 'none';\n",
              "\n",
              "        async function convertToInteractive(key) {\n",
              "          const element = document.querySelector('#df-6a094ff3-269d-4c6c-9d53-74d4bef2e254');\n",
              "          const dataTable =\n",
              "            await google.colab.kernel.invokeFunction('convertToInteractive',\n",
              "                                                     [key], {});\n",
              "          if (!dataTable) return;\n",
              "\n",
              "          const docLinkHtml = 'Like what you see? Visit the ' +\n",
              "            '<a target=\"_blank\" href=https://colab.research.google.com/notebooks/data_table.ipynb>data table notebook</a>'\n",
              "            + ' to learn more about interactive tables.';\n",
              "          element.innerHTML = '';\n",
              "          dataTable['output_type'] = 'display_data';\n",
              "          await google.colab.output.renderOutput(dataTable, element);\n",
              "          const docLink = document.createElement('div');\n",
              "          docLink.innerHTML = docLinkHtml;\n",
              "          element.appendChild(docLink);\n",
              "        }\n",
              "      </script>\n",
              "    </div>\n",
              "  </div>\n",
              "  "
            ],
            "text/plain": [
              "                    name online_order  ... Cost_per_plate    Type\n",
              "0                  Jalsa          Yes  ...            800  Buffet\n",
              "1         Spice Elephant          Yes  ...            800  Buffet\n",
              "2        San Churro Cafe          Yes  ...            800  Buffet\n",
              "3  Addhuri Udupi Bhojana           No  ...            300  Buffet\n",
              "4          Grand Village           No  ...            600  Buffet\n",
              "\n",
              "[5 rows x 10 columns]"
            ]
          },
          "metadata": {},
          "execution_count": 355
        }
      ]
    },
    {
      "cell_type": "code",
      "source": [
        "#Removing unesscary char from 'rate' col \n",
        "#Converting 'rate' col to float\n",
        "from numpy.core.numeric import NaN\n",
        "count=0\n",
        "\n",
        "for i in df['rate']:\n",
        "  \n",
        "  if i=='NEW' or i=='-':\n",
        "    df['rate'][count]= NaN\n",
        "  else:\n",
        "    i = str(i).split('/')\n",
        "    i = i[0]\n",
        "    df['rate'][count]=float(i)\n",
        "  count+=1\n",
        "\n",
        "df['rate']=pd.to_numeric(df['rate'])\n",
        "#print(count)"
      ],
      "metadata": {
        "id": "UfWEvpaSdn8D"
      },
      "execution_count": null,
      "outputs": []
    },
    {
      "cell_type": "code",
      "source": [
        "df.drop_duplicates(inplace=True) #Removing duplicates\n",
        "df.shape"
      ],
      "metadata": {
        "colab": {
          "base_uri": "https://localhost:8080/"
        },
        "id": "oaSmuGN8e7IL",
        "outputId": "0cc7bacb-b6c1-4635-e6cd-52dd536b869a"
      },
      "execution_count": null,
      "outputs": [
        {
          "output_type": "execute_result",
          "data": {
            "text/plain": [
              "(31936, 10)"
            ]
          },
          "metadata": {},
          "execution_count": 357
        }
      ]
    },
    {
      "cell_type": "code",
      "source": [
        "#Filling null val with mean of the col\n",
        "df['rate'] = df['rate'].fillna(df['rate'].mean()).astype(float)"
      ],
      "metadata": {
        "id": "q0-eBVWHqVlN"
      },
      "execution_count": null,
      "outputs": []
    },
    {
      "cell_type": "code",
      "source": [
        "df['rate'].isnull().sum() #Checking no.of null val in 'rate' col\n",
        "df.rename(columns={'rate':'Ratings'},inplace=True)"
      ],
      "metadata": {
        "id": "ICIADCrYskx3"
      },
      "execution_count": null,
      "outputs": []
    },
    {
      "cell_type": "code",
      "source": [
        "df.info()"
      ],
      "metadata": {
        "colab": {
          "base_uri": "https://localhost:8080/"
        },
        "id": "ZeQup8iow3Mv",
        "outputId": "523f1dd3-6d8c-4f9c-981e-0ba3e54e2df6"
      },
      "execution_count": null,
      "outputs": [
        {
          "output_type": "stream",
          "name": "stdout",
          "text": [
            "<class 'pandas.core.frame.DataFrame'>\n",
            "Int64Index: 31936 entries, 0 to 51716\n",
            "Data columns (total 10 columns):\n",
            " #   Column          Non-Null Count  Dtype  \n",
            "---  ------          --------------  -----  \n",
            " 0   name            31936 non-null  object \n",
            " 1   online_order    31936 non-null  object \n",
            " 2   book_table      31936 non-null  object \n",
            " 3   Ratings         31936 non-null  float64\n",
            " 4   votes           31936 non-null  int64  \n",
            " 5   location        31922 non-null  object \n",
            " 6   Dining_type     31804 non-null  object \n",
            " 7   cuisines        31904 non-null  object \n",
            " 8   Cost_per_plate  31744 non-null  object \n",
            " 9   Type            31936 non-null  object \n",
            "dtypes: float64(1), int64(1), object(8)\n",
            "memory usage: 2.7+ MB\n"
          ]
        }
      ]
    },
    {
      "cell_type": "code",
      "source": [
        "df['Cost_per_plate']=df['Cost_per_plate'].replace({',':''},regex=True) #Removing char from the col val\n",
        "df['Cost_per_plate']=pd.to_numeric(df['Cost_per_plate']) #Converting col value from string to float"
      ],
      "metadata": {
        "id": "D3JfNpM1xlwQ"
      },
      "execution_count": null,
      "outputs": []
    },
    {
      "cell_type": "code",
      "source": [
        "#Filling null val with mean of the col\n",
        "df['Cost_per_plate'] = df['Cost_per_plate'].fillna(df['Cost_per_plate'].mean()).astype(float)"
      ],
      "metadata": {
        "id": "XXaKNmbaxZdJ"
      },
      "execution_count": null,
      "outputs": []
    },
    {
      "cell_type": "code",
      "source": [
        "df['Cost_per_plate'].isnull().sum()#Checking if no.of null val in 'Cost_per_plate' col are zero"
      ],
      "metadata": {
        "colab": {
          "base_uri": "https://localhost:8080/"
        },
        "id": "AMtW7RKqxPMj",
        "outputId": "66e6d8f3-88eb-4312-8ddc-c1afe59b7ab5"
      },
      "execution_count": null,
      "outputs": [
        {
          "output_type": "execute_result",
          "data": {
            "text/plain": [
              "0"
            ]
          },
          "metadata": {},
          "execution_count": 363
        }
      ]
    },
    {
      "cell_type": "code",
      "source": [
        "df.isnull().sum()"
      ],
      "metadata": {
        "colab": {
          "base_uri": "https://localhost:8080/"
        },
        "id": "ph5dcDoTzIE7",
        "outputId": "8f273c03-40e8-4dbc-e405-e1f1b3dcf900"
      },
      "execution_count": null,
      "outputs": [
        {
          "output_type": "execute_result",
          "data": {
            "text/plain": [
              "name                0\n",
              "online_order        0\n",
              "book_table          0\n",
              "Ratings             0\n",
              "votes               0\n",
              "location           14\n",
              "Dining_type       132\n",
              "cuisines           32\n",
              "Cost_per_plate      0\n",
              "Type                0\n",
              "dtype: int64"
            ]
          },
          "metadata": {},
          "execution_count": 364
        }
      ]
    },
    {
      "cell_type": "markdown",
      "source": [
        "Here there are some null values in 'location', 'rest_type','cuisines'"
      ],
      "metadata": {
        "id": "ZYo307nyzdlH"
      }
    },
    {
      "cell_type": "code",
      "source": [
        "#Removing those null values\n",
        "df.dropna(inplace=True)\n",
        "df.isnull().sum() #For conformation"
      ],
      "metadata": {
        "colab": {
          "base_uri": "https://localhost:8080/"
        },
        "id": "a3fImyDnzmB-",
        "outputId": "20c404e3-85b3-46bf-8fcf-28237cd5523e"
      },
      "execution_count": null,
      "outputs": [
        {
          "output_type": "execute_result",
          "data": {
            "text/plain": [
              "name              0\n",
              "online_order      0\n",
              "book_table        0\n",
              "Ratings           0\n",
              "votes             0\n",
              "location          0\n",
              "Dining_type       0\n",
              "cuisines          0\n",
              "Cost_per_plate    0\n",
              "Type              0\n",
              "dtype: int64"
            ]
          },
          "metadata": {},
          "execution_count": 365
        }
      ]
    },
    {
      "cell_type": "code",
      "source": [
        "#Note: Intially a 'Cost_per_plate' has the data for two people, now by dividing it by 2 will make it easier in data visualization\n",
        "count=0\n",
        "for i in df['Cost_per_plate']:\n",
        "  i=i/2\n",
        "  df['Cost_per_plate'][count]=i\n",
        "  count+=1"
      ],
      "metadata": {
        "id": "cKO6IaJo1uzk"
      },
      "execution_count": null,
      "outputs": []
    },
    {
      "cell_type": "markdown",
      "source": [
        "We have cleaned 'rate' and 'cost_per_plate'\n"
      ],
      "metadata": {
        "id": "zFmjahIi9URv"
      }
    },
    {
      "cell_type": "markdown",
      "source": [
        "Cleaning 'Type'"
      ],
      "metadata": {
        "id": "eVqv8_EL9v1v"
      }
    },
    {
      "cell_type": "code",
      "source": [
        "df['Type'].value_counts()"
      ],
      "metadata": {
        "colab": {
          "base_uri": "https://localhost:8080/"
        },
        "id": "pbYC3svU7iTd",
        "outputId": "cbf0d00b-b48c-4def-9596-adbf6262427a"
      },
      "execution_count": null,
      "outputs": [
        {
          "output_type": "execute_result",
          "data": {
            "text/plain": [
              "Delivery              14508\n",
              "Dine-out              11792\n",
              "Desserts               2244\n",
              "Cafes                  1165\n",
              "Drinks & nightlife      875\n",
              "Buffet                  623\n",
              "Pubs and bars           579\n",
              "Name: Type, dtype: int64"
            ]
          },
          "metadata": {},
          "execution_count": 367
        }
      ]
    },
    {
      "cell_type": "code",
      "source": [
        "#Rather than having my classes in 'Type', we can reduce the no.of variables.\n",
        "#We can keep 'Drinks & nightlife', 'Pubs and bars' in 'Others'\n",
        "#And 'Buffet' into 'Dine-out'\n",
        "\n",
        "df['Type']=df['Type'].replace({'Drinks & nightlife':'Others','Pubs and bars':'Others','Buffet':'Dine-out'})\n",
        "df['Type'].value_counts()"
      ],
      "metadata": {
        "colab": {
          "base_uri": "https://localhost:8080/"
        },
        "id": "dnkIQnBK_sG8",
        "outputId": "0b0a4fa1-5fdc-4180-db2f-8dd6ebcf67cb"
      },
      "execution_count": null,
      "outputs": [
        {
          "output_type": "execute_result",
          "data": {
            "text/plain": [
              "Delivery    14508\n",
              "Dine-out    12415\n",
              "Desserts     2244\n",
              "Others       1454\n",
              "Cafes        1165\n",
              "Name: Type, dtype: int64"
            ]
          },
          "metadata": {},
          "execution_count": 368
        }
      ]
    },
    {
      "cell_type": "markdown",
      "source": [
        "Cleaning 'cuisines'"
      ],
      "metadata": {
        "id": "NdedNF-vAwPV"
      }
    },
    {
      "cell_type": "code",
      "source": [
        "df['cuisines'].value_counts()"
      ],
      "metadata": {
        "colab": {
          "base_uri": "https://localhost:8080/"
        },
        "id": "Ci4vYo8TAVN6",
        "outputId": "55268cf4-fb4c-40e5-f896-717253082cf8"
      },
      "execution_count": null,
      "outputs": [
        {
          "output_type": "execute_result",
          "data": {
            "text/plain": [
              "North Indian                                                   1723\n",
              "North Indian, Chinese                                          1380\n",
              "South Indian                                                   1074\n",
              "Bakery, Desserts                                                544\n",
              "Biryani                                                         511\n",
              "                                                               ... \n",
              "Andhra, Hyderabadi                                                1\n",
              "North Indian, South Indian, Kerala, Chinese                       1\n",
              "South Indian, Kebab, Chinese, Biryani                             1\n",
              "Asian, Continental, Mediterranean, Salad, American, Biryani       1\n",
              "North Indian, Chinese, Arabian, Momos                             1\n",
              "Name: cuisines, Length: 2712, dtype: int64"
            ]
          },
          "metadata": {},
          "execution_count": 369
        }
      ]
    },
    {
      "cell_type": "code",
      "source": [
        "#Here we can put cuisines which are less than 200 into one group named 'Other\n",
        "cuisines = df['cuisines'].value_counts()\n",
        "cuisines_temp = cuisines[cuisines<200]\n",
        "\n",
        "\n",
        "def simplify_cuisines(i):\n",
        "    if i in cuisines_temp:\n",
        "        return 'Others'\n",
        "    else:\n",
        "        return i\n",
        "        \n",
        "df['cuisines'] = df['cuisines'].apply(simplify_cuisines)\n",
        "df['cuisines'].value_counts()"
      ],
      "metadata": {
        "colab": {
          "base_uri": "https://localhost:8080/"
        },
        "id": "F4KHIotPa76W",
        "outputId": "84c95e5a-4a98-4897-a640-a6b6adb83163"
      },
      "execution_count": null,
      "outputs": [
        {
          "output_type": "execute_result",
          "data": {
            "text/plain": [
              "Others                                 22902\n",
              "North Indian                            1723\n",
              "North Indian, Chinese                   1380\n",
              "South Indian                            1074\n",
              "Bakery, Desserts                         544\n",
              "Biryani                                  511\n",
              "Fast Food                                429\n",
              "South Indian, North Indian, Chinese      424\n",
              "Cafe                                     403\n",
              "Desserts                                 389\n",
              "Bakery                                   341\n",
              "Chinese                                  308\n",
              "Ice Cream, Desserts                      278\n",
              "Mithai, Street Food                      234\n",
              "Chinese, North Indian                    217\n",
              "Desserts, Ice Cream                      214\n",
              "North Indian, Chinese, Biryani           213\n",
              "North Indian, South Indian               202\n",
              "Name: cuisines, dtype: int64"
            ]
          },
          "metadata": {},
          "execution_count": 370
        }
      ]
    },
    {
      "cell_type": "code",
      "source": [
        "df.head()"
      ],
      "metadata": {
        "colab": {
          "base_uri": "https://localhost:8080/",
          "height": 206
        },
        "id": "Hk_TN4Y1cJLs",
        "outputId": "ad76fe47-e0e7-477c-8df4-bded1989eb2c"
      },
      "execution_count": null,
      "outputs": [
        {
          "output_type": "execute_result",
          "data": {
            "text/html": [
              "\n",
              "  <div id=\"df-03a2ad5e-a456-4551-a5de-e58a4958eb47\">\n",
              "    <div class=\"colab-df-container\">\n",
              "      <div>\n",
              "<style scoped>\n",
              "    .dataframe tbody tr th:only-of-type {\n",
              "        vertical-align: middle;\n",
              "    }\n",
              "\n",
              "    .dataframe tbody tr th {\n",
              "        vertical-align: top;\n",
              "    }\n",
              "\n",
              "    .dataframe thead th {\n",
              "        text-align: right;\n",
              "    }\n",
              "</style>\n",
              "<table border=\"1\" class=\"dataframe\">\n",
              "  <thead>\n",
              "    <tr style=\"text-align: right;\">\n",
              "      <th></th>\n",
              "      <th>name</th>\n",
              "      <th>online_order</th>\n",
              "      <th>book_table</th>\n",
              "      <th>Ratings</th>\n",
              "      <th>votes</th>\n",
              "      <th>location</th>\n",
              "      <th>Dining_type</th>\n",
              "      <th>cuisines</th>\n",
              "      <th>Cost_per_plate</th>\n",
              "      <th>Type</th>\n",
              "    </tr>\n",
              "  </thead>\n",
              "  <tbody>\n",
              "    <tr>\n",
              "      <th>0</th>\n",
              "      <td>Jalsa</td>\n",
              "      <td>Yes</td>\n",
              "      <td>Yes</td>\n",
              "      <td>4.1</td>\n",
              "      <td>775</td>\n",
              "      <td>Banashankari</td>\n",
              "      <td>Casual Dining</td>\n",
              "      <td>Others</td>\n",
              "      <td>400.0</td>\n",
              "      <td>Dine-out</td>\n",
              "    </tr>\n",
              "    <tr>\n",
              "      <th>1</th>\n",
              "      <td>Spice Elephant</td>\n",
              "      <td>Yes</td>\n",
              "      <td>No</td>\n",
              "      <td>4.1</td>\n",
              "      <td>787</td>\n",
              "      <td>Banashankari</td>\n",
              "      <td>Casual Dining</td>\n",
              "      <td>Others</td>\n",
              "      <td>400.0</td>\n",
              "      <td>Dine-out</td>\n",
              "    </tr>\n",
              "    <tr>\n",
              "      <th>2</th>\n",
              "      <td>San Churro Cafe</td>\n",
              "      <td>Yes</td>\n",
              "      <td>No</td>\n",
              "      <td>3.8</td>\n",
              "      <td>918</td>\n",
              "      <td>Banashankari</td>\n",
              "      <td>Cafe, Casual Dining</td>\n",
              "      <td>Others</td>\n",
              "      <td>400.0</td>\n",
              "      <td>Dine-out</td>\n",
              "    </tr>\n",
              "    <tr>\n",
              "      <th>3</th>\n",
              "      <td>Addhuri Udupi Bhojana</td>\n",
              "      <td>No</td>\n",
              "      <td>No</td>\n",
              "      <td>3.7</td>\n",
              "      <td>88</td>\n",
              "      <td>Banashankari</td>\n",
              "      <td>Quick Bites</td>\n",
              "      <td>Others</td>\n",
              "      <td>150.0</td>\n",
              "      <td>Dine-out</td>\n",
              "    </tr>\n",
              "    <tr>\n",
              "      <th>4</th>\n",
              "      <td>Grand Village</td>\n",
              "      <td>No</td>\n",
              "      <td>No</td>\n",
              "      <td>3.8</td>\n",
              "      <td>166</td>\n",
              "      <td>Basavanagudi</td>\n",
              "      <td>Casual Dining</td>\n",
              "      <td>Others</td>\n",
              "      <td>300.0</td>\n",
              "      <td>Dine-out</td>\n",
              "    </tr>\n",
              "  </tbody>\n",
              "</table>\n",
              "</div>\n",
              "      <button class=\"colab-df-convert\" onclick=\"convertToInteractive('df-03a2ad5e-a456-4551-a5de-e58a4958eb47')\"\n",
              "              title=\"Convert this dataframe to an interactive table.\"\n",
              "              style=\"display:none;\">\n",
              "        \n",
              "  <svg xmlns=\"http://www.w3.org/2000/svg\" height=\"24px\"viewBox=\"0 0 24 24\"\n",
              "       width=\"24px\">\n",
              "    <path d=\"M0 0h24v24H0V0z\" fill=\"none\"/>\n",
              "    <path d=\"M18.56 5.44l.94 2.06.94-2.06 2.06-.94-2.06-.94-.94-2.06-.94 2.06-2.06.94zm-11 1L8.5 8.5l.94-2.06 2.06-.94-2.06-.94L8.5 2.5l-.94 2.06-2.06.94zm10 10l.94 2.06.94-2.06 2.06-.94-2.06-.94-.94-2.06-.94 2.06-2.06.94z\"/><path d=\"M17.41 7.96l-1.37-1.37c-.4-.4-.92-.59-1.43-.59-.52 0-1.04.2-1.43.59L10.3 9.45l-7.72 7.72c-.78.78-.78 2.05 0 2.83L4 21.41c.39.39.9.59 1.41.59.51 0 1.02-.2 1.41-.59l7.78-7.78 2.81-2.81c.8-.78.8-2.07 0-2.86zM5.41 20L4 18.59l7.72-7.72 1.47 1.35L5.41 20z\"/>\n",
              "  </svg>\n",
              "      </button>\n",
              "      \n",
              "  <style>\n",
              "    .colab-df-container {\n",
              "      display:flex;\n",
              "      flex-wrap:wrap;\n",
              "      gap: 12px;\n",
              "    }\n",
              "\n",
              "    .colab-df-convert {\n",
              "      background-color: #E8F0FE;\n",
              "      border: none;\n",
              "      border-radius: 50%;\n",
              "      cursor: pointer;\n",
              "      display: none;\n",
              "      fill: #1967D2;\n",
              "      height: 32px;\n",
              "      padding: 0 0 0 0;\n",
              "      width: 32px;\n",
              "    }\n",
              "\n",
              "    .colab-df-convert:hover {\n",
              "      background-color: #E2EBFA;\n",
              "      box-shadow: 0px 1px 2px rgba(60, 64, 67, 0.3), 0px 1px 3px 1px rgba(60, 64, 67, 0.15);\n",
              "      fill: #174EA6;\n",
              "    }\n",
              "\n",
              "    [theme=dark] .colab-df-convert {\n",
              "      background-color: #3B4455;\n",
              "      fill: #D2E3FC;\n",
              "    }\n",
              "\n",
              "    [theme=dark] .colab-df-convert:hover {\n",
              "      background-color: #434B5C;\n",
              "      box-shadow: 0px 1px 3px 1px rgba(0, 0, 0, 0.15);\n",
              "      filter: drop-shadow(0px 1px 2px rgba(0, 0, 0, 0.3));\n",
              "      fill: #FFFFFF;\n",
              "    }\n",
              "  </style>\n",
              "\n",
              "      <script>\n",
              "        const buttonEl =\n",
              "          document.querySelector('#df-03a2ad5e-a456-4551-a5de-e58a4958eb47 button.colab-df-convert');\n",
              "        buttonEl.style.display =\n",
              "          google.colab.kernel.accessAllowed ? 'block' : 'none';\n",
              "\n",
              "        async function convertToInteractive(key) {\n",
              "          const element = document.querySelector('#df-03a2ad5e-a456-4551-a5de-e58a4958eb47');\n",
              "          const dataTable =\n",
              "            await google.colab.kernel.invokeFunction('convertToInteractive',\n",
              "                                                     [key], {});\n",
              "          if (!dataTable) return;\n",
              "\n",
              "          const docLinkHtml = 'Like what you see? Visit the ' +\n",
              "            '<a target=\"_blank\" href=https://colab.research.google.com/notebooks/data_table.ipynb>data table notebook</a>'\n",
              "            + ' to learn more about interactive tables.';\n",
              "          element.innerHTML = '';\n",
              "          dataTable['output_type'] = 'display_data';\n",
              "          await google.colab.output.renderOutput(dataTable, element);\n",
              "          const docLink = document.createElement('div');\n",
              "          docLink.innerHTML = docLinkHtml;\n",
              "          element.appendChild(docLink);\n",
              "        }\n",
              "      </script>\n",
              "    </div>\n",
              "  </div>\n",
              "  "
            ],
            "text/plain": [
              "                    name online_order  ... Cost_per_plate      Type\n",
              "0                  Jalsa          Yes  ...          400.0  Dine-out\n",
              "1         Spice Elephant          Yes  ...          400.0  Dine-out\n",
              "2        San Churro Cafe          Yes  ...          400.0  Dine-out\n",
              "3  Addhuri Udupi Bhojana           No  ...          150.0  Dine-out\n",
              "4          Grand Village           No  ...          300.0  Dine-out\n",
              "\n",
              "[5 rows x 10 columns]"
            ]
          },
          "metadata": {},
          "execution_count": 371
        }
      ]
    },
    {
      "cell_type": "markdown",
      "source": [
        "Cleaning 'Dining_type'"
      ],
      "metadata": {
        "id": "3aJUXrTVcWxA"
      }
    },
    {
      "cell_type": "code",
      "source": [
        "df['Dining_type'].value_counts()"
      ],
      "metadata": {
        "colab": {
          "base_uri": "https://localhost:8080/"
        },
        "id": "gF84niUVca6J",
        "outputId": "eed05234-114a-435a-d31e-5084dc53b2e5"
      },
      "execution_count": null,
      "outputs": [
        {
          "output_type": "execute_result",
          "data": {
            "text/plain": [
              "Quick Bites                   10957\n",
              "Casual Dining                  6997\n",
              "Cafe                           2396\n",
              "Dessert Parlor                 1360\n",
              "Delivery                       1334\n",
              "                              ...  \n",
              "Bakery, Sweet Shop                1\n",
              "Mess, Quick Bites                 1\n",
              "Quick Bites, Kiosk                1\n",
              "Dessert Parlor, Food Court        1\n",
              "Sweet Shop, Dessert Parlor        1\n",
              "Name: Dining_type, Length: 93, dtype: int64"
            ]
          },
          "metadata": {},
          "execution_count": 372
        }
      ]
    },
    {
      "cell_type": "code",
      "source": [
        "#Here we can put cuisines which are less than 200 into one group named 'Other'\n",
        "#Merging 'Bar','Casual dining, Bar' and 'Bar, Casual dining' into one\n",
        "\n",
        "Dining_type = df['Dining_type'].value_counts()\n",
        "Dining_type_temp = Dining_type[Dining_type<200]\n",
        "\n",
        "bar_temp=[]\n",
        "bar_temp.append('Bar')\n",
        "bar_temp.append('Casual Dining, Bar')\n",
        "bar_temp.append('Bar, Casual Dining')\n",
        "\n",
        "def simplify_Dining_type(i):\n",
        "\n",
        "    if i in Dining_type_temp:\n",
        "        return 'Others'\n",
        "    elif i in bar_temp:\n",
        "        return 'Bar'\n",
        "    else:\n",
        "        return i\n",
        "        \n",
        "df['Dining_type'] = df['Dining_type'].apply(simplify_Dining_type)\n",
        "df['Dining_type'].value_counts()"
      ],
      "metadata": {
        "colab": {
          "base_uri": "https://localhost:8080/"
        },
        "id": "Oaf_yBfHcqQI",
        "outputId": "fe28f6fc-fbec-4bec-eba7-36ad48cfcbba"
      },
      "execution_count": null,
      "outputs": [
        {
          "output_type": "execute_result",
          "data": {
            "text/plain": [
              "Quick Bites            10957\n",
              "Casual Dining           6997\n",
              "Others                  2933\n",
              "Cafe                    2396\n",
              "Bar                     1698\n",
              "Dessert Parlor          1360\n",
              "Delivery                1334\n",
              "Takeaway, Delivery      1083\n",
              "Bakery                   667\n",
              "Beverage Shop            414\n",
              "Food Court               384\n",
              "Pub                      305\n",
              "Lounge                   294\n",
              "Fine Dining              256\n",
              "Casual Dining, Cafe      250\n",
              "Sweet Shop               241\n",
              "Pub, Casual Dining       217\n",
              "Name: Dining_type, dtype: int64"
            ]
          },
          "metadata": {},
          "execution_count": 373
        }
      ]
    },
    {
      "cell_type": "code",
      "source": [
        "df.head()"
      ],
      "metadata": {
        "colab": {
          "base_uri": "https://localhost:8080/",
          "height": 206
        },
        "id": "CjgzUygAe_oW",
        "outputId": "ad589496-60d9-4b2a-f701-6b1fdbbe9bad"
      },
      "execution_count": null,
      "outputs": [
        {
          "output_type": "execute_result",
          "data": {
            "text/html": [
              "\n",
              "  <div id=\"df-c249fb75-86e4-469c-bf45-a95eefa9426b\">\n",
              "    <div class=\"colab-df-container\">\n",
              "      <div>\n",
              "<style scoped>\n",
              "    .dataframe tbody tr th:only-of-type {\n",
              "        vertical-align: middle;\n",
              "    }\n",
              "\n",
              "    .dataframe tbody tr th {\n",
              "        vertical-align: top;\n",
              "    }\n",
              "\n",
              "    .dataframe thead th {\n",
              "        text-align: right;\n",
              "    }\n",
              "</style>\n",
              "<table border=\"1\" class=\"dataframe\">\n",
              "  <thead>\n",
              "    <tr style=\"text-align: right;\">\n",
              "      <th></th>\n",
              "      <th>name</th>\n",
              "      <th>online_order</th>\n",
              "      <th>book_table</th>\n",
              "      <th>Ratings</th>\n",
              "      <th>votes</th>\n",
              "      <th>location</th>\n",
              "      <th>Dining_type</th>\n",
              "      <th>cuisines</th>\n",
              "      <th>Cost_per_plate</th>\n",
              "      <th>Type</th>\n",
              "    </tr>\n",
              "  </thead>\n",
              "  <tbody>\n",
              "    <tr>\n",
              "      <th>0</th>\n",
              "      <td>Jalsa</td>\n",
              "      <td>Yes</td>\n",
              "      <td>Yes</td>\n",
              "      <td>4.1</td>\n",
              "      <td>775</td>\n",
              "      <td>Banashankari</td>\n",
              "      <td>Casual Dining</td>\n",
              "      <td>Others</td>\n",
              "      <td>400.0</td>\n",
              "      <td>Dine-out</td>\n",
              "    </tr>\n",
              "    <tr>\n",
              "      <th>1</th>\n",
              "      <td>Spice Elephant</td>\n",
              "      <td>Yes</td>\n",
              "      <td>No</td>\n",
              "      <td>4.1</td>\n",
              "      <td>787</td>\n",
              "      <td>Banashankari</td>\n",
              "      <td>Casual Dining</td>\n",
              "      <td>Others</td>\n",
              "      <td>400.0</td>\n",
              "      <td>Dine-out</td>\n",
              "    </tr>\n",
              "    <tr>\n",
              "      <th>2</th>\n",
              "      <td>San Churro Cafe</td>\n",
              "      <td>Yes</td>\n",
              "      <td>No</td>\n",
              "      <td>3.8</td>\n",
              "      <td>918</td>\n",
              "      <td>Banashankari</td>\n",
              "      <td>Others</td>\n",
              "      <td>Others</td>\n",
              "      <td>400.0</td>\n",
              "      <td>Dine-out</td>\n",
              "    </tr>\n",
              "    <tr>\n",
              "      <th>3</th>\n",
              "      <td>Addhuri Udupi Bhojana</td>\n",
              "      <td>No</td>\n",
              "      <td>No</td>\n",
              "      <td>3.7</td>\n",
              "      <td>88</td>\n",
              "      <td>Banashankari</td>\n",
              "      <td>Quick Bites</td>\n",
              "      <td>Others</td>\n",
              "      <td>150.0</td>\n",
              "      <td>Dine-out</td>\n",
              "    </tr>\n",
              "    <tr>\n",
              "      <th>4</th>\n",
              "      <td>Grand Village</td>\n",
              "      <td>No</td>\n",
              "      <td>No</td>\n",
              "      <td>3.8</td>\n",
              "      <td>166</td>\n",
              "      <td>Basavanagudi</td>\n",
              "      <td>Casual Dining</td>\n",
              "      <td>Others</td>\n",
              "      <td>300.0</td>\n",
              "      <td>Dine-out</td>\n",
              "    </tr>\n",
              "  </tbody>\n",
              "</table>\n",
              "</div>\n",
              "      <button class=\"colab-df-convert\" onclick=\"convertToInteractive('df-c249fb75-86e4-469c-bf45-a95eefa9426b')\"\n",
              "              title=\"Convert this dataframe to an interactive table.\"\n",
              "              style=\"display:none;\">\n",
              "        \n",
              "  <svg xmlns=\"http://www.w3.org/2000/svg\" height=\"24px\"viewBox=\"0 0 24 24\"\n",
              "       width=\"24px\">\n",
              "    <path d=\"M0 0h24v24H0V0z\" fill=\"none\"/>\n",
              "    <path d=\"M18.56 5.44l.94 2.06.94-2.06 2.06-.94-2.06-.94-.94-2.06-.94 2.06-2.06.94zm-11 1L8.5 8.5l.94-2.06 2.06-.94-2.06-.94L8.5 2.5l-.94 2.06-2.06.94zm10 10l.94 2.06.94-2.06 2.06-.94-2.06-.94-.94-2.06-.94 2.06-2.06.94z\"/><path d=\"M17.41 7.96l-1.37-1.37c-.4-.4-.92-.59-1.43-.59-.52 0-1.04.2-1.43.59L10.3 9.45l-7.72 7.72c-.78.78-.78 2.05 0 2.83L4 21.41c.39.39.9.59 1.41.59.51 0 1.02-.2 1.41-.59l7.78-7.78 2.81-2.81c.8-.78.8-2.07 0-2.86zM5.41 20L4 18.59l7.72-7.72 1.47 1.35L5.41 20z\"/>\n",
              "  </svg>\n",
              "      </button>\n",
              "      \n",
              "  <style>\n",
              "    .colab-df-container {\n",
              "      display:flex;\n",
              "      flex-wrap:wrap;\n",
              "      gap: 12px;\n",
              "    }\n",
              "\n",
              "    .colab-df-convert {\n",
              "      background-color: #E8F0FE;\n",
              "      border: none;\n",
              "      border-radius: 50%;\n",
              "      cursor: pointer;\n",
              "      display: none;\n",
              "      fill: #1967D2;\n",
              "      height: 32px;\n",
              "      padding: 0 0 0 0;\n",
              "      width: 32px;\n",
              "    }\n",
              "\n",
              "    .colab-df-convert:hover {\n",
              "      background-color: #E2EBFA;\n",
              "      box-shadow: 0px 1px 2px rgba(60, 64, 67, 0.3), 0px 1px 3px 1px rgba(60, 64, 67, 0.15);\n",
              "      fill: #174EA6;\n",
              "    }\n",
              "\n",
              "    [theme=dark] .colab-df-convert {\n",
              "      background-color: #3B4455;\n",
              "      fill: #D2E3FC;\n",
              "    }\n",
              "\n",
              "    [theme=dark] .colab-df-convert:hover {\n",
              "      background-color: #434B5C;\n",
              "      box-shadow: 0px 1px 3px 1px rgba(0, 0, 0, 0.15);\n",
              "      filter: drop-shadow(0px 1px 2px rgba(0, 0, 0, 0.3));\n",
              "      fill: #FFFFFF;\n",
              "    }\n",
              "  </style>\n",
              "\n",
              "      <script>\n",
              "        const buttonEl =\n",
              "          document.querySelector('#df-c249fb75-86e4-469c-bf45-a95eefa9426b button.colab-df-convert');\n",
              "        buttonEl.style.display =\n",
              "          google.colab.kernel.accessAllowed ? 'block' : 'none';\n",
              "\n",
              "        async function convertToInteractive(key) {\n",
              "          const element = document.querySelector('#df-c249fb75-86e4-469c-bf45-a95eefa9426b');\n",
              "          const dataTable =\n",
              "            await google.colab.kernel.invokeFunction('convertToInteractive',\n",
              "                                                     [key], {});\n",
              "          if (!dataTable) return;\n",
              "\n",
              "          const docLinkHtml = 'Like what you see? Visit the ' +\n",
              "            '<a target=\"_blank\" href=https://colab.research.google.com/notebooks/data_table.ipynb>data table notebook</a>'\n",
              "            + ' to learn more about interactive tables.';\n",
              "          element.innerHTML = '';\n",
              "          dataTable['output_type'] = 'display_data';\n",
              "          await google.colab.output.renderOutput(dataTable, element);\n",
              "          const docLink = document.createElement('div');\n",
              "          docLink.innerHTML = docLinkHtml;\n",
              "          element.appendChild(docLink);\n",
              "        }\n",
              "      </script>\n",
              "    </div>\n",
              "  </div>\n",
              "  "
            ],
            "text/plain": [
              "                    name online_order  ... Cost_per_plate      Type\n",
              "0                  Jalsa          Yes  ...          400.0  Dine-out\n",
              "1         Spice Elephant          Yes  ...          400.0  Dine-out\n",
              "2        San Churro Cafe          Yes  ...          400.0  Dine-out\n",
              "3  Addhuri Udupi Bhojana           No  ...          150.0  Dine-out\n",
              "4          Grand Village           No  ...          300.0  Dine-out\n",
              "\n",
              "[5 rows x 10 columns]"
            ]
          },
          "metadata": {},
          "execution_count": 374
        }
      ]
    },
    {
      "cell_type": "markdown",
      "source": [
        "Cleaning 'Location'"
      ],
      "metadata": {
        "id": "dr3pSJzifK6r"
      }
    },
    {
      "cell_type": "code",
      "source": [
        "df['location'].value_counts()"
      ],
      "metadata": {
        "colab": {
          "base_uri": "https://localhost:8080/"
        },
        "id": "gytjF4n0fRmb",
        "outputId": "5cd0c412-3643-49d7-d4ab-8aaa39b6cd21"
      },
      "execution_count": null,
      "outputs": [
        {
          "output_type": "execute_result",
          "data": {
            "text/plain": [
              "BTM                     2074\n",
              "Whitefield              1814\n",
              "Indiranagar             1692\n",
              "HSR                     1606\n",
              "Marathahalli            1534\n",
              "                        ... \n",
              "Central Bangalore          5\n",
              "Nagarbhavi                 4\n",
              "Rajarajeshwari Nagar       2\n",
              "Jakkur                     1\n",
              "Peenya                     1\n",
              "Name: location, Length: 93, dtype: int64"
            ]
          },
          "metadata": {},
          "execution_count": 375
        }
      ]
    },
    {
      "cell_type": "code",
      "source": [
        "location = df['location'].value_counts()\n",
        "\n",
        "location_temp = location[location<200]\n",
        "\n",
        "def simplify_loc(i):\n",
        "    if i in location_temp:\n",
        "        return 'Others'\n",
        "    else:\n",
        "        return i\n",
        "        \n",
        "df['location'] = df['location'].apply(simplify_loc)\n",
        "df['location'].value_counts()"
      ],
      "metadata": {
        "colab": {
          "base_uri": "https://localhost:8080/"
        },
        "id": "V7qjJW7ffNy-",
        "outputId": "cb79b373-2b36-4ebf-99bb-81a6fe129769"
      },
      "execution_count": null,
      "outputs": [
        {
          "output_type": "execute_result",
          "data": {
            "text/plain": [
              "Others                   3518\n",
              "BTM                      2074\n",
              "Whitefield               1814\n",
              "Indiranagar              1692\n",
              "HSR                      1606\n",
              "Marathahalli             1534\n",
              "Koramangala 5th Block    1427\n",
              "JP Nagar                 1322\n",
              "Electronic City          1213\n",
              "Jayanagar                1102\n",
              "Bannerghatta Road        1020\n",
              "Bellandur                 994\n",
              "Sarjapur Road             874\n",
              "Brigade Road              614\n",
              "New BEL Road              584\n",
              "Banashankari              559\n",
              "Kalyan Nagar              553\n",
              "Malleshwaram              551\n",
              "Brookefield               530\n",
              "MG Road                   527\n",
              "Koramangala 4th Block     519\n",
              "Koramangala 7th Block     511\n",
              "Koramangala 6th Block     507\n",
              "Ulsoor                    496\n",
              "Rajajinagar               458\n",
              "Frazer Town               447\n",
              "Koramangala 1st Block     438\n",
              "Church Street             434\n",
              "Basavanagudi              433\n",
              "Banaswadi                 402\n",
              "Kammanahalli              392\n",
              "Residency Road            379\n",
              "Lavelle Road              379\n",
              "Old Airport Road          349\n",
              "Richmond Road             321\n",
              "Domlur                    280\n",
              "Cunningham Road           256\n",
              "Jeevan Bhima Nagar        234\n",
              "St. Marks Road            226\n",
              "Shanti Nagar              217\n",
              "Name: location, dtype: int64"
            ]
          },
          "metadata": {},
          "execution_count": 376
        }
      ]
    },
    {
      "cell_type": "markdown",
      "source": [
        "**Data Visualization**"
      ],
      "metadata": {
        "id": "pnYsc-d0hMfp"
      }
    },
    {
      "cell_type": "markdown",
      "source": [
        "Ratio of restaurants having online ordering facility\n"
      ],
      "metadata": {
        "id": "7nfeTSu1D8jJ"
      }
    },
    {
      "cell_type": "code",
      "source": [
        "import matplotlib.pyplot as plt\n",
        "from matplotlib import axes\n",
        "\n",
        "\n",
        "names=['Yes','No']\n",
        "colors=['lightskyblue','red']\n",
        "plt.pie(df['online_order'].value_counts(),labels=names, colors=colors, autopct='%1.0f%%',pctdistance=0.25,labeldistance=0.5, radius=2, explode=[0.1,0.0])\n",
        "\n",
        "plt.title(\"Onine Orders\",y=-0.5) \n",
        "plt.show() #Chart shows percentage of online orders"
      ],
      "metadata": {
        "colab": {
          "base_uri": "https://localhost:8080/",
          "height": 430
        },
        "id": "rfIY1ulShQ8U",
        "outputId": "54a27e85-f5a1-4daf-b824-b776d34d01d7"
      },
      "execution_count": null,
      "outputs": [
        {
          "output_type": "display_data",
          "data": {
            "image/png": "[encoded data removed]",
            "text/plain": [
              "<Figure size 432x288 with 1 Axes>"
            ]
          },
          "metadata": {}
        }
      ]
    },
    {
      "cell_type": "markdown",
      "source": [
        "Ratio of restaurants having table booking facility"
      ],
      "metadata": {
        "id": "I3I-HDJTOAHl"
      }
    },
    {
      "cell_type": "code",
      "source": [
        "import matplotlib.pyplot as plt\n",
        "from matplotlib import axes\n",
        "\n",
        "names=['Yes','No']\n",
        "colors=['lightskyblue','red']\n",
        "plt.pie(df['book_table'].value_counts(),labels=names, colors=colors, autopct='%1.0f%%',pctdistance=0.25,labeldistance=0.5, radius=2,explode=[0.2,0.0])\n",
        "\n",
        "plt.title(\"Book Table\",y=-0.5) \n",
        "plt.show() #Chart shows percentage of online orders"
      ],
      "metadata": {
        "colab": {
          "base_uri": "https://localhost:8080/",
          "height": 429
        },
        "id": "uUZnSVbtFWwl",
        "outputId": "91feada7-646d-47b5-d2c9-addbe0a39023"
      },
      "execution_count": null,
      "outputs": [
        {
          "output_type": "display_data",
          "data": {
            "image/png": "[encoded data removed]",
            "text/plain": [
              "<Figure size 432x288 with 1 Axes>"
            ]
          },
          "metadata": {}
        }
      ]
    },
    {
      "cell_type": "markdown",
      "source": [
        "Various types of restaurants"
      ],
      "metadata": {
        "id": "i6E3vW7XsYha"
      }
    },
    {
      "cell_type": "code",
      "source": [
        "names=['Delivery', 'Dine-out', 'Desserts', 'Others', 'Cafes']\n",
        "colors=['lightskyblue', 'red', 'lightblue', 'green', 'gold']\n",
        "plt.pie(df['Type'].value_counts(),labels=names, colors=colors, autopct='%1.0f%%',pctdistance=0.25,labeldistance=0.5, radius=3,explode=[0.1,0.0,0.0,0.0,0.0])\n",
        "plt.title(\"Various types of restraunts\",y=-0.8)\n",
        "plt.show()"
      ],
      "metadata": {
        "colab": {
          "base_uri": "https://localhost:8080/",
          "height": 586
        },
        "id": "Y6mVvBkNpQ_Z",
        "outputId": "8ecdb2a2-da22-4858-bdfe-92d8e16fadeb"
      },
      "execution_count": null,
      "outputs": [
        {
          "output_type": "display_data",
          "data": {
            "image/png": "[encoded data removed]",
            "text/plain": [
              "<Figure size 432x288 with 1 Axes>"
            ]
          },
          "metadata": {}
        }
      ]
    },
    {
      "cell_type": "markdown",
      "source": [
        "Distribution of ratings "
      ],
      "metadata": {
        "id": "EQga_k7XKwD9"
      }
    },
    {
      "cell_type": "code",
      "source": [
        "sns.set_style(style='whitegrid')\n",
        "sns.displot(df['Ratings'],bins=10, kde= True)\n",
        "plt.grid(b=None)\n",
        "plt.title(\"Distribution of Ratings\")"
      ],
      "metadata": {
        "colab": {
          "base_uri": "https://localhost:8080/",
          "height": 402
        },
        "id": "cQ6_PoE8HT7B",
        "outputId": "f7e10d80-5941-42fe-b06f-317642040e3a"
      },
      "execution_count": null,
      "outputs": [
        {
          "output_type": "execute_result",
          "data": {
            "text/plain": [
              "Text(0.5, 1.0, 'Distribution of Ratings')"
            ]
          },
          "metadata": {},
          "execution_count": 380
        },
        {
          "output_type": "display_data",
          "data": {
            "image/png": "[encoded data removed]",
            "text/plain": [
              "<Figure size 360x360 with 1 Axes>"
            ]
          },
          "metadata": {}
        }
      ]
    },
    {
      "cell_type": "markdown",
      "source": [
        "Distribution of cost per plate "
      ],
      "metadata": {
        "id": "_nA-uzQIYVfB"
      }
    },
    {
      "cell_type": "code",
      "source": [
        "sns.set_style(style='whitegrid')\n",
        "sns.displot(df['Cost_per_plate'],bins=30, kde= True)\n",
        "plt.grid(b=None)\n",
        "plt.title(\"Distribution of cost per plate\")\n",
        "#Remove from 2k"
      ],
      "metadata": {
        "colab": {
          "base_uri": "https://localhost:8080/",
          "height": 402
        },
        "id": "ybhhnhzLXtb7",
        "outputId": "a2570d95-f85d-48bd-e019-2d8753fa0256"
      },
      "execution_count": null,
      "outputs": [
        {
          "output_type": "execute_result",
          "data": {
            "text/plain": [
              "Text(0.5, 1.0, 'Distribution of cost per plate')"
            ]
          },
          "metadata": {},
          "execution_count": 381
        },
        {
          "output_type": "display_data",
          "data": {
            "image/png": "[encoded data removed]",
            "text/plain": [
              "<Figure size 360x360 with 1 Axes>"
            ]
          },
          "metadata": {}
        }
      ]
    },
    {
      "cell_type": "markdown",
      "source": [
        "Distribution of votes"
      ],
      "metadata": {
        "id": "o-CekNRXyc4Q"
      }
    },
    {
      "cell_type": "code",
      "source": [
        "sns.set_style(style='whitegrid')\n",
        "sns.displot(df['votes'],bins=30, kde= True)\n",
        "plt.grid(b=None)\n",
        "plt.title(\"Distribution of votes\")"
      ],
      "metadata": {
        "colab": {
          "base_uri": "https://localhost:8080/",
          "height": 402
        },
        "id": "d9LwR4-x2dg_",
        "outputId": "8bd36159-17cd-4a79-8e45-0310bfd3f47f"
      },
      "execution_count": null,
      "outputs": [
        {
          "output_type": "execute_result",
          "data": {
            "text/plain": [
              "Text(0.5, 1.0, 'Distribution of votes')"
            ]
          },
          "metadata": {},
          "execution_count": 382
        },
        {
          "output_type": "display_data",
          "data": {
            "image/png": "[encoded data removed]",
            "text/plain": [
              "<Figure size 360x360 with 1 Axes>"
            ]
          },
          "metadata": {}
        }
      ]
    },
    {
      "cell_type": "markdown",
      "source": [
        "Location Density"
      ],
      "metadata": {
        "id": "zPqa8M6CbaQb"
      }
    },
    {
      "cell_type": "code",
      "source": [
        "plt.figure(figsize = (16,10))\n",
        "ax = sns.countplot(df['location'][df['location'] != \"Others\"])\n",
        "plt.title(\"Locations\")\n",
        "plt.xticks(rotation=90)"
      ],
      "metadata": {
        "colab": {
          "base_uri": "https://localhost:8080/",
          "height": 797
        },
        "id": "x6iKRrU3muW3",
        "outputId": "2626fa0e-068c-4b30-bd8f-511998cac669"
      },
      "execution_count": null,
      "outputs": [
        {
          "output_type": "execute_result",
          "data": {
            "text/plain": [
              "(array([ 0,  1,  2,  3,  4,  5,  6,  7,  8,  9, 10, 11, 12, 13, 14, 15, 16,\n",
              "        17, 18, 19, 20, 21, 22, 23, 24, 25, 26, 27, 28, 29, 30, 31, 32, 33,\n",
              "        34, 35, 36, 37, 38]), <a list of 39 Text major ticklabel objects>)"
            ]
          },
          "metadata": {},
          "execution_count": 383
        },
        {
          "output_type": "display_data",
          "data": {
            "image/png": "[encoded data removed]",
            "text/plain": [
              "<Figure size 1152x720 with 1 Axes>"
            ]
          },
          "metadata": {}
        }
      ]
    },
    {
      "cell_type": "markdown",
      "source": [
        "Popular Dining Types"
      ],
      "metadata": {
        "id": "kxLJ3TrvkVvb"
      }
    },
    {
      "cell_type": "code",
      "source": [
        "plt.figure(figsize = (20,10))\n",
        "sns.countplot(df['Dining_type'][df['Dining_type'] != \"Others\"],order=(df['Dining_type'][df['Dining_type']!='Others']).value_counts().index)\n",
        "plt.title('Popular dining types')\n",
        "plt.xticks(rotation=90)"
      ],
      "metadata": {
        "colab": {
          "base_uri": "https://localhost:8080/",
          "height": 760
        },
        "id": "Siwrt15shfiw",
        "outputId": "25bbd11d-5789-4f44-ce7b-b880b5d3ccc4"
      },
      "execution_count": null,
      "outputs": [
        {
          "output_type": "execute_result",
          "data": {
            "text/plain": [
              "(array([ 0,  1,  2,  3,  4,  5,  6,  7,  8,  9, 10, 11, 12, 13, 14, 15]),\n",
              " <a list of 16 Text major ticklabel objects>)"
            ]
          },
          "metadata": {},
          "execution_count": 384
        },
        {
          "output_type": "display_data",
          "data": {
            "image/png": "[encoded data removed]",
            "text/plain": [
              "<Figure size 1440x720 with 1 Axes>"
            ]
          },
          "metadata": {}
        }
      ]
    },
    {
      "cell_type": "markdown",
      "source": [
        "Popular cuisines"
      ],
      "metadata": {
        "id": "W8PnhmJBONoD"
      }
    },
    {
      "cell_type": "code",
      "source": [
        "plt.figure(figsize = (16,10))\n",
        "sns.set(style='dark')\n",
        "ax = sns.countplot(df['cuisines'][df['cuisines'] != \"Others\"], order= df['cuisines'][df['cuisines'] != \"Others\"].value_counts().index)\n",
        "plt.title(\"Popular Cuisines\")\n",
        "plt.xticks(rotation=90)"
      ],
      "metadata": {
        "colab": {
          "base_uri": "https://localhost:8080/",
          "height": 849
        },
        "id": "f8W_LM8bMdJp",
        "outputId": "10c5d41f-36cf-4af7-af6b-cfb707c0ec12"
      },
      "execution_count": null,
      "outputs": [
        {
          "output_type": "execute_result",
          "data": {
            "text/plain": [
              "(array([ 0,  1,  2,  3,  4,  5,  6,  7,  8,  9, 10, 11, 12, 13, 14, 15, 16]),\n",
              " <a list of 17 Text major ticklabel objects>)"
            ]
          },
          "metadata": {},
          "execution_count": 385
        },
        {
          "output_type": "display_data",
          "data": {
            "image/png": "[encoded data removed]",
            "text/plain": [
              "<Figure size 1152x720 with 1 Axes>"
            ]
          },
          "metadata": {}
        }
      ]
    },
    {
      "cell_type": "markdown",
      "source": [
        "Most popular restraunts"
      ],
      "metadata": {
        "id": "wR0-Mg7vBveb"
      }
    },
    {
      "cell_type": "code",
      "source": [
        "plt.figure(figsize = (14,10))\n",
        "sns.set(style='dark')\n",
        "sns.barplot(x=df['name'].value_counts()[0:5].index,y=df['name'].value_counts()[0:5])\n",
        "plt.title(\"Popular restaurants\")\n",
        "plt.xlabel('Restaurantst Name')\n",
        "plt.ylabel('Count')\n",
        "#Graph shows no.of outlets each restraunt has"
      ],
      "metadata": {
        "colab": {
          "base_uri": "https://localhost:8080/",
          "height": 644
        },
        "id": "ov_E1UKB90hC",
        "outputId": "2fd4edc0-f44f-4f96-ebff-0a5241eac3c5"
      },
      "execution_count": null,
      "outputs": [
        {
          "output_type": "execute_result",
          "data": {
            "text/plain": [
              "Text(0, 0.5, 'Count')"
            ]
          },
          "metadata": {},
          "execution_count": 386
        },
        {
          "output_type": "display_data",
          "data": {
            "image/png": "[encoded data removed]",
            "text/plain": [
              "<Figure size 1008x720 with 1 Axes>"
            ]
          },
          "metadata": {}
        }
      ]
    },
    {
      "cell_type": "markdown",
      "source": [
        "Cuisines vs Cost per plate"
      ],
      "metadata": {
        "id": "3hHdatOOTiqy"
      }
    },
    {
      "cell_type": "code",
      "source": [
        "plt.figure(figsize = (30,10))\n",
        "sns.set(style='dark')\n",
        "\n",
        "x=df['cuisines'][df['cuisines'] != \"Others\"]\n",
        "y=df['Cost_per_plate']\n",
        "\n",
        "sns.barplot(x,y,ci=0)\n",
        "plt.title(\"Cuisines vs Cost\")\n",
        "plt.xlabel('Cuisines')\n",
        "plt.ylabel('Cost per plate')\n",
        "plt.xticks(rotation=40)"
      ],
      "metadata": {
        "colab": {
          "base_uri": "https://localhost:8080/",
          "height": 575
        },
        "id": "WF21Mzc5TtLn",
        "outputId": "36295020-ed73-4f9f-871e-b97f2353ddaa"
      },
      "execution_count": null,
      "outputs": [
        {
          "output_type": "execute_result",
          "data": {
            "text/plain": [
              "(array([ 0,  1,  2,  3,  4,  5,  6,  7,  8,  9, 10, 11, 12, 13, 14, 15, 16]),\n",
              " <a list of 17 Text major ticklabel objects>)"
            ]
          },
          "metadata": {},
          "execution_count": 387
        },
        {
          "output_type": "display_data",
          "data": {
            "image/png": "[encoded data removed]",
            "text/plain": [
              "<Figure size 2160x720 with 1 Axes>"
            ]
          },
          "metadata": {}
        }
      ]
    },
    {
      "cell_type": "markdown",
      "source": [
        "Location vs Cost"
      ],
      "metadata": {
        "id": "E6tgem-YYid6"
      }
    },
    {
      "cell_type": "code",
      "source": [
        "plt.figure(figsize = (30,10))\n",
        "sns.set(style='dark')\n",
        "\n",
        "x=df['location']\n",
        "y=df['Cost_per_plate']\n",
        "\n",
        "sns.barplot(x,y,ci=0)\n",
        "plt.title(\"Location vs Cost\")\n",
        "plt.xlabel('Location')\n",
        "plt.ylabel('Cost per plate')\n",
        "plt.xticks(rotation=90)"
      ],
      "metadata": {
        "colab": {
          "base_uri": "https://localhost:8080/",
          "height": 591
        },
        "id": "3xjaErHNYlAU",
        "outputId": "36492ac9-f4b4-423b-9f58-e1a051251bba"
      },
      "execution_count": null,
      "outputs": [
        {
          "output_type": "execute_result",
          "data": {
            "text/plain": [
              "(array([ 0,  1,  2,  3,  4,  5,  6,  7,  8,  9, 10, 11, 12, 13, 14, 15, 16,\n",
              "        17, 18, 19, 20, 21, 22, 23, 24, 25, 26, 27, 28, 29, 30, 31, 32, 33,\n",
              "        34, 35, 36, 37, 38, 39]), <a list of 40 Text major ticklabel objects>)"
            ]
          },
          "metadata": {},
          "execution_count": 388
        },
        {
          "output_type": "display_data",
          "data": {
            "image/png": "[encoded data removed]",
            "text/plain": [
              "<Figure size 2160x720 with 1 Axes>"
            ]
          },
          "metadata": {}
        }
      ]
    },
    {
      "cell_type": "markdown",
      "source": [
        "Top Rated Cuisnes by the user"
      ],
      "metadata": {
        "id": "feHWaO-WCjeK"
      }
    },
    {
      "cell_type": "code",
      "source": [
        "print(\"Top Rated Cuisines\")\n",
        "df.groupby('cuisines')['Ratings'].max().nlargest(5)"
      ],
      "metadata": {
        "colab": {
          "base_uri": "https://localhost:8080/"
        },
        "id": "N-QgzTPNEyQ1",
        "outputId": "c92af0ef-b2f1-4103-b709-7cc244057c1c"
      },
      "execution_count": null,
      "outputs": [
        {
          "output_type": "stream",
          "name": "stdout",
          "text": [
            "Top Rated Cuisines\n"
          ]
        },
        {
          "output_type": "execute_result",
          "data": {
            "text/plain": [
              "cuisines\n",
              "Desserts               4.9\n",
              "Ice Cream, Desserts    4.9\n",
              "North Indian           4.9\n",
              "Others                 4.9\n",
              "Bakery, Desserts       4.8\n",
              "Name: Ratings, dtype: float64"
            ]
          },
          "metadata": {},
          "execution_count": 389
        }
      ]
    },
    {
      "cell_type": "markdown",
      "source": [
        "Top rated restaurants"
      ],
      "metadata": {
        "id": "DbnIACQ9cevL"
      }
    },
    {
      "cell_type": "code",
      "source": [
        "print(\"Top rated restaurants\")\n",
        "df.groupby('name')['Ratings'].max().nlargest(5)"
      ],
      "metadata": {
        "colab": {
          "base_uri": "https://localhost:8080/"
        },
        "id": "QeBUdboqcd89",
        "outputId": "34bf548e-ac0b-4906-a338-e413d98b06a3"
      },
      "execution_count": null,
      "outputs": [
        {
          "output_type": "stream",
          "name": "stdout",
          "text": [
            "Top rated restaurants\n"
          ]
        },
        {
          "output_type": "execute_result",
          "data": {
            "text/plain": [
              "name\n",
              "AB's - Absolute Barbecues         4.9\n",
              "Asia Kitchen By Mainland China    4.9\n",
              "Belgian Waffle Factory            4.9\n",
              "Byg Brewski Brewing Company       4.9\n",
              "Flechazo                          4.9\n",
              "Name: Ratings, dtype: float64"
            ]
          },
          "metadata": {},
          "execution_count": 390
        }
      ]
    },
    {
      "cell_type": "markdown",
      "source": [
        "Price vs Rating"
      ],
      "metadata": {
        "id": "D_PMtLsUnt2E"
      }
    },
    {
      "cell_type": "code",
      "source": [
        "plt.figure(figsize = (6,6))\n",
        "sns.boxplot(data=df,x = 'online_order', y = 'Ratings')\n",
        "#From this graph we can tell wheather rating of a restraunt is effected when online order is available or not"
      ],
      "metadata": {
        "colab": {
          "base_uri": "https://localhost:8080/",
          "height": 411
        },
        "id": "bZ1Qy84YnwtK",
        "outputId": "f98fe272-c998-4a4c-dbd0-389222178e37"
      },
      "execution_count": null,
      "outputs": [
        {
          "output_type": "execute_result",
          "data": {
            "text/plain": [
              "<matplotlib.axes._subplots.AxesSubplot at 0x7f98ac7c7690>"
            ]
          },
          "metadata": {},
          "execution_count": 391
        },
        {
          "output_type": "display_data",
          "data": {
            "image/png": "[encoded data removed]",
            "text/plain": [
              "<Figure size 432x432 with 1 Axes>"
            ]
          },
          "metadata": {}
        }
      ]
    },
    {
      "cell_type": "markdown",
      "source": [
        "**Preparing the data for ML models**"
      ],
      "metadata": {
        "id": "RZsilsTP2QpG"
      }
    },
    {
      "cell_type": "code",
      "source": [
        "import numpy as np\n",
        "import pandas as pd\n",
        "import matplotlib.pyplot as plt\n",
        "import seaborn as sns"
      ],
      "metadata": {
        "id": "d3WNNoTN2VFY"
      },
      "execution_count": null,
      "outputs": []
    },
    {
      "cell_type": "code",
      "source": [
        "# Import label encoder\n",
        "from sklearn import preprocessing\n",
        " \n",
        "# label_encoder object knows how to understand word labels.\n",
        "label_encoder = preprocessing.LabelEncoder()\n",
        "\n",
        "df['location']= label_encoder.fit_transform(df['location'])\n",
        "print('Location:',df['location'].unique())\n",
        "\n",
        "\n",
        "df['cuisines']= label_encoder.fit_transform(df['cuisines'])\n",
        "print('Cuisines:',df['cuisines'].unique())\n",
        "\n",
        "df['Dining_type']= label_encoder.fit_transform(df['Dining_type'])\n",
        "print('Dining Type:',df['Dining_type'].unique())\n",
        "\n",
        "df['Type']= label_encoder.fit_transform(df['Type'])\n",
        "print('Type:',df['Type'].unique())"
      ],
      "metadata": {
        "colab": {
          "base_uri": "https://localhost:8080/"
        },
        "id": "f7E5FwTw7Rty",
        "outputId": "f12595fc-5ca2-4d4f-c8c6-ee98a312f658"
      },
      "execution_count": null,
      "outputs": [
        {
          "output_type": "stream",
          "name": "stdout",
          "text": [
            "Location: [ 1  4 31 16 15  3  0 11 13 28 36 22 34 24 21  5 35 39 30 14 20 12 26  6\n",
            " 25  8 38 33 37  9 10 17 27 19 23  7 32  2 18 29]\n",
            "Cuisines: [15 11  3  1  2 16 12  9  4  0  8 10  6 17  5  7 13 14]\n",
            "Dining Type: [ 4 11 14  5  3  6  7 12  0 16  8  2 15  1 13 10  9]\n",
            "Type: [3 0 1 2 4]\n"
          ]
        }
      ]
    },
    {
      "cell_type": "markdown",
      "source": [
        "Finding the correlation "
      ],
      "metadata": {
        "id": "H0idIgDK8_0A"
      }
    },
    {
      "cell_type": "code",
      "source": [
        "#For finding correlation\n",
        "df['online_order']=df['online_order'].replace({'No':0,'Yes':1})\n",
        "df['book_table']=df['book_table'].replace({'No':0,'Yes':1})"
      ],
      "metadata": {
        "id": "HtzPPib496gc"
      },
      "execution_count": null,
      "outputs": []
    },
    {
      "cell_type": "code",
      "source": [
        "continous_col=['Ratings','votes','Cost_per_plate','online_order','book_table','location','cuisines','Dining_type','Type','online_order']\n",
        "\n",
        "#Correlation matrix\n",
        "correlation_df=df[continous_col].corr()\n",
        "correlation_df"
      ],
      "metadata": {
        "colab": {
          "base_uri": "https://localhost:8080/",
          "height": 363
        },
        "id": "HjCP4NiT8cC9",
        "outputId": "7d16ce87-b31f-4d71-d54a-469a1472efa1"
      },
      "execution_count": null,
      "outputs": [
        {
          "output_type": "execute_result",
          "data": {
            "text/html": [
              "\n",
              "  <div id=\"df-e17bb8b2-f50a-43bd-9082-4ee0c003889d\">\n",
              "    <div class=\"colab-df-container\">\n",
              "      <div>\n",
              "<style scoped>\n",
              "    .dataframe tbody tr th:only-of-type {\n",
              "        vertical-align: middle;\n",
              "    }\n",
              "\n",
              "    .dataframe tbody tr th {\n",
              "        vertical-align: top;\n",
              "    }\n",
              "\n",
              "    .dataframe thead th {\n",
              "        text-align: right;\n",
              "    }\n",
              "</style>\n",
              "<table border=\"1\" class=\"dataframe\">\n",
              "  <thead>\n",
              "    <tr style=\"text-align: right;\">\n",
              "      <th></th>\n",
              "      <th>Ratings</th>\n",
              "      <th>votes</th>\n",
              "      <th>Cost_per_plate</th>\n",
              "      <th>online_order</th>\n",
              "      <th>book_table</th>\n",
              "      <th>location</th>\n",
              "      <th>cuisines</th>\n",
              "      <th>Dining_type</th>\n",
              "      <th>Type</th>\n",
              "      <th>online_order</th>\n",
              "    </tr>\n",
              "  </thead>\n",
              "  <tbody>\n",
              "    <tr>\n",
              "      <th>Ratings</th>\n",
              "      <td>1.000000</td>\n",
              "      <td>0.444486</td>\n",
              "      <td>0.248317</td>\n",
              "      <td>0.034832</td>\n",
              "      <td>0.438150</td>\n",
              "      <td>0.048402</td>\n",
              "      <td>0.105450</td>\n",
              "      <td>-0.215584</td>\n",
              "      <td>0.080041</td>\n",
              "      <td>0.034832</td>\n",
              "    </tr>\n",
              "    <tr>\n",
              "      <th>votes</th>\n",
              "      <td>0.444486</td>\n",
              "      <td>1.000000</td>\n",
              "      <td>0.247163</td>\n",
              "      <td>0.013605</td>\n",
              "      <td>0.400850</td>\n",
              "      <td>0.022787</td>\n",
              "      <td>0.115980</td>\n",
              "      <td>-0.174189</td>\n",
              "      <td>0.122318</td>\n",
              "      <td>0.013605</td>\n",
              "    </tr>\n",
              "    <tr>\n",
              "      <th>Cost_per_plate</th>\n",
              "      <td>0.248317</td>\n",
              "      <td>0.247163</td>\n",
              "      <td>1.000000</td>\n",
              "      <td>-0.079854</td>\n",
              "      <td>0.363634</td>\n",
              "      <td>0.150276</td>\n",
              "      <td>0.083313</td>\n",
              "      <td>-0.180874</td>\n",
              "      <td>0.195380</td>\n",
              "      <td>-0.079854</td>\n",
              "    </tr>\n",
              "    <tr>\n",
              "      <th>online_order</th>\n",
              "      <td>0.034832</td>\n",
              "      <td>0.013605</td>\n",
              "      <td>-0.079854</td>\n",
              "      <td>1.000000</td>\n",
              "      <td>-0.023001</td>\n",
              "      <td>-0.055446</td>\n",
              "      <td>0.043461</td>\n",
              "      <td>-0.020034</td>\n",
              "      <td>-0.235037</td>\n",
              "      <td>1.000000</td>\n",
              "    </tr>\n",
              "    <tr>\n",
              "      <th>book_table</th>\n",
              "      <td>0.438150</td>\n",
              "      <td>0.400850</td>\n",
              "      <td>0.363634</td>\n",
              "      <td>-0.023001</td>\n",
              "      <td>1.000000</td>\n",
              "      <td>0.061833</td>\n",
              "      <td>0.147374</td>\n",
              "      <td>-0.304536</td>\n",
              "      <td>0.213931</td>\n",
              "      <td>-0.023001</td>\n",
              "    </tr>\n",
              "    <tr>\n",
              "      <th>location</th>\n",
              "      <td>0.048402</td>\n",
              "      <td>0.022787</td>\n",
              "      <td>0.150276</td>\n",
              "      <td>-0.055446</td>\n",
              "      <td>0.061833</td>\n",
              "      <td>1.000000</td>\n",
              "      <td>-0.002361</td>\n",
              "      <td>-0.037977</td>\n",
              "      <td>0.034824</td>\n",
              "      <td>-0.055446</td>\n",
              "    </tr>\n",
              "    <tr>\n",
              "      <th>cuisines</th>\n",
              "      <td>0.105450</td>\n",
              "      <td>0.115980</td>\n",
              "      <td>0.083313</td>\n",
              "      <td>0.043461</td>\n",
              "      <td>0.147374</td>\n",
              "      <td>-0.002361</td>\n",
              "      <td>1.000000</td>\n",
              "      <td>0.074862</td>\n",
              "      <td>0.092458</td>\n",
              "      <td>0.043461</td>\n",
              "    </tr>\n",
              "    <tr>\n",
              "      <th>Dining_type</th>\n",
              "      <td>-0.215584</td>\n",
              "      <td>-0.174189</td>\n",
              "      <td>-0.180874</td>\n",
              "      <td>-0.020034</td>\n",
              "      <td>-0.304536</td>\n",
              "      <td>-0.037977</td>\n",
              "      <td>0.074862</td>\n",
              "      <td>1.000000</td>\n",
              "      <td>-0.022338</td>\n",
              "      <td>-0.020034</td>\n",
              "    </tr>\n",
              "    <tr>\n",
              "      <th>Type</th>\n",
              "      <td>0.080041</td>\n",
              "      <td>0.122318</td>\n",
              "      <td>0.195380</td>\n",
              "      <td>-0.235037</td>\n",
              "      <td>0.213931</td>\n",
              "      <td>0.034824</td>\n",
              "      <td>0.092458</td>\n",
              "      <td>-0.022338</td>\n",
              "      <td>1.000000</td>\n",
              "      <td>-0.235037</td>\n",
              "    </tr>\n",
              "    <tr>\n",
              "      <th>online_order</th>\n",
              "      <td>0.034832</td>\n",
              "      <td>0.013605</td>\n",
              "      <td>-0.079854</td>\n",
              "      <td>1.000000</td>\n",
              "      <td>-0.023001</td>\n",
              "      <td>-0.055446</td>\n",
              "      <td>0.043461</td>\n",
              "      <td>-0.020034</td>\n",
              "      <td>-0.235037</td>\n",
              "      <td>1.000000</td>\n",
              "    </tr>\n",
              "  </tbody>\n",
              "</table>\n",
              "</div>\n",
              "      <button class=\"colab-df-convert\" onclick=\"convertToInteractive('df-e17bb8b2-f50a-43bd-9082-4ee0c003889d')\"\n",
              "              title=\"Convert this dataframe to an interactive table.\"\n",
              "              style=\"display:none;\">\n",
              "        \n",
              "  <svg xmlns=\"http://www.w3.org/2000/svg\" height=\"24px\"viewBox=\"0 0 24 24\"\n",
              "       width=\"24px\">\n",
              "    <path d=\"M0 0h24v24H0V0z\" fill=\"none\"/>\n",
              "    <path d=\"M18.56 5.44l.94 2.06.94-2.06 2.06-.94-2.06-.94-.94-2.06-.94 2.06-2.06.94zm-11 1L8.5 8.5l.94-2.06 2.06-.94-2.06-.94L8.5 2.5l-.94 2.06-2.06.94zm10 10l.94 2.06.94-2.06 2.06-.94-2.06-.94-.94-2.06-.94 2.06-2.06.94z\"/><path d=\"M17.41 7.96l-1.37-1.37c-.4-.4-.92-.59-1.43-.59-.52 0-1.04.2-1.43.59L10.3 9.45l-7.72 7.72c-.78.78-.78 2.05 0 2.83L4 21.41c.39.39.9.59 1.41.59.51 0 1.02-.2 1.41-.59l7.78-7.78 2.81-2.81c.8-.78.8-2.07 0-2.86zM5.41 20L4 18.59l7.72-7.72 1.47 1.35L5.41 20z\"/>\n",
              "  </svg>\n",
              "      </button>\n",
              "      \n",
              "  <style>\n",
              "    .colab-df-container {\n",
              "      display:flex;\n",
              "      flex-wrap:wrap;\n",
              "      gap: 12px;\n",
              "    }\n",
              "\n",
              "    .colab-df-convert {\n",
              "      background-color: #E8F0FE;\n",
              "      border: none;\n",
              "      border-radius: 50%;\n",
              "      cursor: pointer;\n",
              "      display: none;\n",
              "      fill: #1967D2;\n",
              "      height: 32px;\n",
              "      padding: 0 0 0 0;\n",
              "      width: 32px;\n",
              "    }\n",
              "\n",
              "    .colab-df-convert:hover {\n",
              "      background-color: #E2EBFA;\n",
              "      box-shadow: 0px 1px 2px rgba(60, 64, 67, 0.3), 0px 1px 3px 1px rgba(60, 64, 67, 0.15);\n",
              "      fill: #174EA6;\n",
              "    }\n",
              "\n",
              "    [theme=dark] .colab-df-convert {\n",
              "      background-color: #3B4455;\n",
              "      fill: #D2E3FC;\n",
              "    }\n",
              "\n",
              "    [theme=dark] .colab-df-convert:hover {\n",
              "      background-color: #434B5C;\n",
              "      box-shadow: 0px 1px 3px 1px rgba(0, 0, 0, 0.15);\n",
              "      filter: drop-shadow(0px 1px 2px rgba(0, 0, 0, 0.3));\n",
              "      fill: #FFFFFF;\n",
              "    }\n",
              "  </style>\n",
              "\n",
              "      <script>\n",
              "        const buttonEl =\n",
              "          document.querySelector('#df-e17bb8b2-f50a-43bd-9082-4ee0c003889d button.colab-df-convert');\n",
              "        buttonEl.style.display =\n",
              "          google.colab.kernel.accessAllowed ? 'block' : 'none';\n",
              "\n",
              "        async function convertToInteractive(key) {\n",
              "          const element = document.querySelector('#df-e17bb8b2-f50a-43bd-9082-4ee0c003889d');\n",
              "          const dataTable =\n",
              "            await google.colab.kernel.invokeFunction('convertToInteractive',\n",
              "                                                     [key], {});\n",
              "          if (!dataTable) return;\n",
              "\n",
              "          const docLinkHtml = 'Like what you see? Visit the ' +\n",
              "            '<a target=\"_blank\" href=https://colab.research.google.com/notebooks/data_table.ipynb>data table notebook</a>'\n",
              "            + ' to learn more about interactive tables.';\n",
              "          element.innerHTML = '';\n",
              "          dataTable['output_type'] = 'display_data';\n",
              "          await google.colab.output.renderOutput(dataTable, element);\n",
              "          const docLink = document.createElement('div');\n",
              "          docLink.innerHTML = docLinkHtml;\n",
              "          element.appendChild(docLink);\n",
              "        }\n",
              "      </script>\n",
              "    </div>\n",
              "  </div>\n",
              "  "
            ],
            "text/plain": [
              "                 Ratings     votes  ...      Type  online_order\n",
              "Ratings         1.000000  0.444486  ...  0.080041      0.034832\n",
              "votes           0.444486  1.000000  ...  0.122318      0.013605\n",
              "Cost_per_plate  0.248317  0.247163  ...  0.195380     -0.079854\n",
              "online_order    0.034832  0.013605  ... -0.235037      1.000000\n",
              "book_table      0.438150  0.400850  ...  0.213931     -0.023001\n",
              "location        0.048402  0.022787  ...  0.034824     -0.055446\n",
              "cuisines        0.105450  0.115980  ...  0.092458      0.043461\n",
              "Dining_type    -0.215584 -0.174189  ... -0.022338     -0.020034\n",
              "Type            0.080041  0.122318  ...  1.000000     -0.235037\n",
              "online_order    0.034832  0.013605  ... -0.235037      1.000000\n",
              "\n",
              "[10 rows x 10 columns]"
            ]
          },
          "metadata": {},
          "execution_count": 395
        }
      ]
    },
    {
      "cell_type": "code",
      "source": [
        "#Finding cols where absolute corr>0.2 with target var\n",
        "correlation_df['Ratings'][abs(correlation_df['Ratings'])>0.2]"
      ],
      "metadata": {
        "colab": {
          "base_uri": "https://localhost:8080/"
        },
        "id": "HamIxw-39Js-",
        "outputId": "2c3212ae-a647-4223-d413-9058625f612e"
      },
      "execution_count": null,
      "outputs": [
        {
          "output_type": "execute_result",
          "data": {
            "text/plain": [
              "Ratings           1.000000\n",
              "votes             0.444486\n",
              "Cost_per_plate    0.248317\n",
              "book_table        0.438150\n",
              "Dining_type      -0.215584\n",
              "Name: Ratings, dtype: float64"
            ]
          },
          "metadata": {},
          "execution_count": 396
        }
      ]
    },
    {
      "cell_type": "markdown",
      "source": [
        "Predictors='votes','Cost_per_plate','book_table'\n",
        "\n",
        "Target='Ratings'"
      ],
      "metadata": {
        "id": "YmQNH95g_E-2"
      }
    },
    {
      "cell_type": "code",
      "source": [
        "ml_df=df.drop(['name'],axis=1)\n",
        "#ml_df=df\n",
        "ml_df.head()"
      ],
      "metadata": {
        "colab": {
          "base_uri": "https://localhost:8080/",
          "height": 206
        },
        "id": "k1spRbexA1gF",
        "outputId": "9b9327af-3724-4b34-e253-bff519fd1c33"
      },
      "execution_count": null,
      "outputs": [
        {
          "output_type": "execute_result",
          "data": {
            "text/html": [
              "\n",
              "  <div id=\"df-1fd4dd30-6578-47b5-9f5e-fe74af3686f3\">\n",
              "    <div class=\"colab-df-container\">\n",
              "      <div>\n",
              "<style scoped>\n",
              "    .dataframe tbody tr th:only-of-type {\n",
              "        vertical-align: middle;\n",
              "    }\n",
              "\n",
              "    .dataframe tbody tr th {\n",
              "        vertical-align: top;\n",
              "    }\n",
              "\n",
              "    .dataframe thead th {\n",
              "        text-align: right;\n",
              "    }\n",
              "</style>\n",
              "<table border=\"1\" class=\"dataframe\">\n",
              "  <thead>\n",
              "    <tr style=\"text-align: right;\">\n",
              "      <th></th>\n",
              "      <th>online_order</th>\n",
              "      <th>book_table</th>\n",
              "      <th>Ratings</th>\n",
              "      <th>votes</th>\n",
              "      <th>location</th>\n",
              "      <th>Dining_type</th>\n",
              "      <th>cuisines</th>\n",
              "      <th>Cost_per_plate</th>\n",
              "      <th>Type</th>\n",
              "    </tr>\n",
              "  </thead>\n",
              "  <tbody>\n",
              "    <tr>\n",
              "      <th>0</th>\n",
              "      <td>1</td>\n",
              "      <td>1</td>\n",
              "      <td>4.1</td>\n",
              "      <td>775</td>\n",
              "      <td>1</td>\n",
              "      <td>4</td>\n",
              "      <td>15</td>\n",
              "      <td>400.0</td>\n",
              "      <td>3</td>\n",
              "    </tr>\n",
              "    <tr>\n",
              "      <th>1</th>\n",
              "      <td>1</td>\n",
              "      <td>0</td>\n",
              "      <td>4.1</td>\n",
              "      <td>787</td>\n",
              "      <td>1</td>\n",
              "      <td>4</td>\n",
              "      <td>15</td>\n",
              "      <td>400.0</td>\n",
              "      <td>3</td>\n",
              "    </tr>\n",
              "    <tr>\n",
              "      <th>2</th>\n",
              "      <td>1</td>\n",
              "      <td>0</td>\n",
              "      <td>3.8</td>\n",
              "      <td>918</td>\n",
              "      <td>1</td>\n",
              "      <td>11</td>\n",
              "      <td>15</td>\n",
              "      <td>400.0</td>\n",
              "      <td>3</td>\n",
              "    </tr>\n",
              "    <tr>\n",
              "      <th>3</th>\n",
              "      <td>0</td>\n",
              "      <td>0</td>\n",
              "      <td>3.7</td>\n",
              "      <td>88</td>\n",
              "      <td>1</td>\n",
              "      <td>14</td>\n",
              "      <td>15</td>\n",
              "      <td>150.0</td>\n",
              "      <td>3</td>\n",
              "    </tr>\n",
              "    <tr>\n",
              "      <th>4</th>\n",
              "      <td>0</td>\n",
              "      <td>0</td>\n",
              "      <td>3.8</td>\n",
              "      <td>166</td>\n",
              "      <td>4</td>\n",
              "      <td>4</td>\n",
              "      <td>15</td>\n",
              "      <td>300.0</td>\n",
              "      <td>3</td>\n",
              "    </tr>\n",
              "  </tbody>\n",
              "</table>\n",
              "</div>\n",
              "      <button class=\"colab-df-convert\" onclick=\"convertToInteractive('df-1fd4dd30-6578-47b5-9f5e-fe74af3686f3')\"\n",
              "              title=\"Convert this dataframe to an interactive table.\"\n",
              "              style=\"display:none;\">\n",
              "        \n",
              "  <svg xmlns=\"http://www.w3.org/2000/svg\" height=\"24px\"viewBox=\"0 0 24 24\"\n",
              "       width=\"24px\">\n",
              "    <path d=\"M0 0h24v24H0V0z\" fill=\"none\"/>\n",
              "    <path d=\"M18.56 5.44l.94 2.06.94-2.06 2.06-.94-2.06-.94-.94-2.06-.94 2.06-2.06.94zm-11 1L8.5 8.5l.94-2.06 2.06-.94-2.06-.94L8.5 2.5l-.94 2.06-2.06.94zm10 10l.94 2.06.94-2.06 2.06-.94-2.06-.94-.94-2.06-.94 2.06-2.06.94z\"/><path d=\"M17.41 7.96l-1.37-1.37c-.4-.4-.92-.59-1.43-.59-.52 0-1.04.2-1.43.59L10.3 9.45l-7.72 7.72c-.78.78-.78 2.05 0 2.83L4 21.41c.39.39.9.59 1.41.59.51 0 1.02-.2 1.41-.59l7.78-7.78 2.81-2.81c.8-.78.8-2.07 0-2.86zM5.41 20L4 18.59l7.72-7.72 1.47 1.35L5.41 20z\"/>\n",
              "  </svg>\n",
              "      </button>\n",
              "      \n",
              "  <style>\n",
              "    .colab-df-container {\n",
              "      display:flex;\n",
              "      flex-wrap:wrap;\n",
              "      gap: 12px;\n",
              "    }\n",
              "\n",
              "    .colab-df-convert {\n",
              "      background-color: #E8F0FE;\n",
              "      border: none;\n",
              "      border-radius: 50%;\n",
              "      cursor: pointer;\n",
              "      display: none;\n",
              "      fill: #1967D2;\n",
              "      height: 32px;\n",
              "      padding: 0 0 0 0;\n",
              "      width: 32px;\n",
              "    }\n",
              "\n",
              "    .colab-df-convert:hover {\n",
              "      background-color: #E2EBFA;\n",
              "      box-shadow: 0px 1px 2px rgba(60, 64, 67, 0.3), 0px 1px 3px 1px rgba(60, 64, 67, 0.15);\n",
              "      fill: #174EA6;\n",
              "    }\n",
              "\n",
              "    [theme=dark] .colab-df-convert {\n",
              "      background-color: #3B4455;\n",
              "      fill: #D2E3FC;\n",
              "    }\n",
              "\n",
              "    [theme=dark] .colab-df-convert:hover {\n",
              "      background-color: #434B5C;\n",
              "      box-shadow: 0px 1px 3px 1px rgba(0, 0, 0, 0.15);\n",
              "      filter: drop-shadow(0px 1px 2px rgba(0, 0, 0, 0.3));\n",
              "      fill: #FFFFFF;\n",
              "    }\n",
              "  </style>\n",
              "\n",
              "      <script>\n",
              "        const buttonEl =\n",
              "          document.querySelector('#df-1fd4dd30-6578-47b5-9f5e-fe74af3686f3 button.colab-df-convert');\n",
              "        buttonEl.style.display =\n",
              "          google.colab.kernel.accessAllowed ? 'block' : 'none';\n",
              "\n",
              "        async function convertToInteractive(key) {\n",
              "          const element = document.querySelector('#df-1fd4dd30-6578-47b5-9f5e-fe74af3686f3');\n",
              "          const dataTable =\n",
              "            await google.colab.kernel.invokeFunction('convertToInteractive',\n",
              "                                                     [key], {});\n",
              "          if (!dataTable) return;\n",
              "\n",
              "          const docLinkHtml = 'Like what you see? Visit the ' +\n",
              "            '<a target=\"_blank\" href=https://colab.research.google.com/notebooks/data_table.ipynb>data table notebook</a>'\n",
              "            + ' to learn more about interactive tables.';\n",
              "          element.innerHTML = '';\n",
              "          dataTable['output_type'] = 'display_data';\n",
              "          await google.colab.output.renderOutput(dataTable, element);\n",
              "          const docLink = document.createElement('div');\n",
              "          docLink.innerHTML = docLinkHtml;\n",
              "          element.appendChild(docLink);\n",
              "        }\n",
              "      </script>\n",
              "    </div>\n",
              "  </div>\n",
              "  "
            ],
            "text/plain": [
              "   online_order  book_table  Ratings  ...  cuisines  Cost_per_plate  Type\n",
              "0             1           1      4.1  ...        15           400.0     3\n",
              "1             1           0      4.1  ...        15           400.0     3\n",
              "2             1           0      3.8  ...        15           400.0     3\n",
              "3             0           0      3.7  ...        15           150.0     3\n",
              "4             0           0      3.8  ...        15           300.0     3\n",
              "\n",
              "[5 rows x 9 columns]"
            ]
          },
          "metadata": {},
          "execution_count": 397
        }
      ]
    },
    {
      "cell_type": "code",
      "source": [
        "from sklearn.model_selection import train_test_split\n",
        "\n",
        "col=['book_table','votes','Cost_per_plate','Dining_type']\n",
        "X=ml_df[col]\n",
        "\n",
        "y=ml_df['Ratings']  # Labels\n",
        "\n",
        "#Spliting dataset into training set and test set\n",
        "X_train, X_test, y_train, y_test = train_test_split(X, y, test_size=0.3,random_state=42) "
      ],
      "metadata": {
        "id": "v62a_U60_AjD"
      },
      "execution_count": null,
      "outputs": []
    },
    {
      "cell_type": "markdown",
      "source": [
        "**Machine Learning Models**"
      ],
      "metadata": {
        "id": "BvK9HC1b8zB0"
      }
    },
    {
      "cell_type": "markdown",
      "source": [
        "Multiple Linear Regression"
      ],
      "metadata": {
        "id": "yk9DLsk__ssa"
      }
    },
    {
      "cell_type": "code",
      "source": [
        "from pydoc import tempfilepager\n",
        "from sklearn.linear_model import LinearRegression\n",
        "from sklearn import metrics\n",
        "\n",
        "model = LinearRegression()\n",
        "\n",
        "temp=model.fit(X_train,y_train)\n",
        "y_pred=model.predict(X_test)\n",
        "\n",
        "print('R2:', metrics.r2_score(y_train,temp.predict(X_train)))\n",
        "y_pred"
      ],
      "metadata": {
        "colab": {
          "base_uri": "https://localhost:8080/"
        },
        "id": "nzGqiLXkCxeT",
        "outputId": "085bfd88-e6df-46f2-9841-01aa1cfc981f"
      },
      "execution_count": null,
      "outputs": [
        {
          "output_type": "stream",
          "name": "stdout",
          "text": [
            "R2: 0.28594598843727415\n"
          ]
        },
        {
          "output_type": "execute_result",
          "data": {
            "text/plain": [
              "array([3.63119806, 3.79823367, 4.23992751, ..., 3.69223738, 3.67979108,\n",
              "       3.61415589])"
            ]
          },
          "metadata": {},
          "execution_count": 399
        }
      ]
    },
    {
      "cell_type": "code",
      "source": [
        "comp = pd.DataFrame({ \"actual\": y_test, \"pred\": y_pred })\n",
        "comp \n",
        "#Actual value vs Predicted value"
      ],
      "metadata": {
        "colab": {
          "base_uri": "https://localhost:8080/",
          "height": 424
        },
        "id": "-Ic8c2WDM9hI",
        "outputId": "7a148b16-a69d-4da0-8e14-72b2847f76cc"
      },
      "execution_count": null,
      "outputs": [
        {
          "output_type": "execute_result",
          "data": {
            "text/html": [
              "\n",
              "  <div id=\"df-59bc34df-b66c-48df-bca8-94751ebacd3a\">\n",
              "    <div class=\"colab-df-container\">\n",
              "      <div>\n",
              "<style scoped>\n",
              "    .dataframe tbody tr th:only-of-type {\n",
              "        vertical-align: middle;\n",
              "    }\n",
              "\n",
              "    .dataframe tbody tr th {\n",
              "        vertical-align: top;\n",
              "    }\n",
              "\n",
              "    .dataframe thead th {\n",
              "        text-align: right;\n",
              "    }\n",
              "</style>\n",
              "<table border=\"1\" class=\"dataframe\">\n",
              "  <thead>\n",
              "    <tr style=\"text-align: right;\">\n",
              "      <th></th>\n",
              "      <th>actual</th>\n",
              "      <th>pred</th>\n",
              "    </tr>\n",
              "  </thead>\n",
              "  <tbody>\n",
              "    <tr>\n",
              "      <th>20708</th>\n",
              "      <td>3.753177</td>\n",
              "      <td>3.631198</td>\n",
              "    </tr>\n",
              "    <tr>\n",
              "      <th>50136</th>\n",
              "      <td>3.900000</td>\n",
              "      <td>3.798234</td>\n",
              "    </tr>\n",
              "    <tr>\n",
              "      <th>35263</th>\n",
              "      <td>4.000000</td>\n",
              "      <td>4.239928</td>\n",
              "    </tr>\n",
              "    <tr>\n",
              "      <th>627</th>\n",
              "      <td>3.753177</td>\n",
              "      <td>3.634428</td>\n",
              "    </tr>\n",
              "    <tr>\n",
              "      <th>10855</th>\n",
              "      <td>4.200000</td>\n",
              "      <td>3.723417</td>\n",
              "    </tr>\n",
              "    <tr>\n",
              "      <th>...</th>\n",
              "      <td>...</td>\n",
              "      <td>...</td>\n",
              "    </tr>\n",
              "    <tr>\n",
              "      <th>10467</th>\n",
              "      <td>3.400000</td>\n",
              "      <td>3.602361</td>\n",
              "    </tr>\n",
              "    <tr>\n",
              "      <th>5585</th>\n",
              "      <td>4.200000</td>\n",
              "      <td>3.774304</td>\n",
              "    </tr>\n",
              "    <tr>\n",
              "      <th>49664</th>\n",
              "      <td>3.800000</td>\n",
              "      <td>3.692237</td>\n",
              "    </tr>\n",
              "    <tr>\n",
              "      <th>4166</th>\n",
              "      <td>3.700000</td>\n",
              "      <td>3.679791</td>\n",
              "    </tr>\n",
              "    <tr>\n",
              "      <th>9356</th>\n",
              "      <td>3.400000</td>\n",
              "      <td>3.614156</td>\n",
              "    </tr>\n",
              "  </tbody>\n",
              "</table>\n",
              "<p>9536 rows × 2 columns</p>\n",
              "</div>\n",
              "      <button class=\"colab-df-convert\" onclick=\"convertToInteractive('df-59bc34df-b66c-48df-bca8-94751ebacd3a')\"\n",
              "              title=\"Convert this dataframe to an interactive table.\"\n",
              "              style=\"display:none;\">\n",
              "        \n",
              "  <svg xmlns=\"http://www.w3.org/2000/svg\" height=\"24px\"viewBox=\"0 0 24 24\"\n",
              "       width=\"24px\">\n",
              "    <path d=\"M0 0h24v24H0V0z\" fill=\"none\"/>\n",
              "    <path d=\"M18.56 5.44l.94 2.06.94-2.06 2.06-.94-2.06-.94-.94-2.06-.94 2.06-2.06.94zm-11 1L8.5 8.5l.94-2.06 2.06-.94-2.06-.94L8.5 2.5l-.94 2.06-2.06.94zm10 10l.94 2.06.94-2.06 2.06-.94-2.06-.94-.94-2.06-.94 2.06-2.06.94z\"/><path d=\"M17.41 7.96l-1.37-1.37c-.4-.4-.92-.59-1.43-.59-.52 0-1.04.2-1.43.59L10.3 9.45l-7.72 7.72c-.78.78-.78 2.05 0 2.83L4 21.41c.39.39.9.59 1.41.59.51 0 1.02-.2 1.41-.59l7.78-7.78 2.81-2.81c.8-.78.8-2.07 0-2.86zM5.41 20L4 18.59l7.72-7.72 1.47 1.35L5.41 20z\"/>\n",
              "  </svg>\n",
              "      </button>\n",
              "      \n",
              "  <style>\n",
              "    .colab-df-container {\n",
              "      display:flex;\n",
              "      flex-wrap:wrap;\n",
              "      gap: 12px;\n",
              "    }\n",
              "\n",
              "    .colab-df-convert {\n",
              "      background-color: #E8F0FE;\n",
              "      border: none;\n",
              "      border-radius: 50%;\n",
              "      cursor: pointer;\n",
              "      display: none;\n",
              "      fill: #1967D2;\n",
              "      height: 32px;\n",
              "      padding: 0 0 0 0;\n",
              "      width: 32px;\n",
              "    }\n",
              "\n",
              "    .colab-df-convert:hover {\n",
              "      background-color: #E2EBFA;\n",
              "      box-shadow: 0px 1px 2px rgba(60, 64, 67, 0.3), 0px 1px 3px 1px rgba(60, 64, 67, 0.15);\n",
              "      fill: #174EA6;\n",
              "    }\n",
              "\n",
              "    [theme=dark] .colab-df-convert {\n",
              "      background-color: #3B4455;\n",
              "      fill: #D2E3FC;\n",
              "    }\n",
              "\n",
              "    [theme=dark] .colab-df-convert:hover {\n",
              "      background-color: #434B5C;\n",
              "      box-shadow: 0px 1px 3px 1px rgba(0, 0, 0, 0.15);\n",
              "      filter: drop-shadow(0px 1px 2px rgba(0, 0, 0, 0.3));\n",
              "      fill: #FFFFFF;\n",
              "    }\n",
              "  </style>\n",
              "\n",
              "      <script>\n",
              "        const buttonEl =\n",
              "          document.querySelector('#df-59bc34df-b66c-48df-bca8-94751ebacd3a button.colab-df-convert');\n",
              "        buttonEl.style.display =\n",
              "          google.colab.kernel.accessAllowed ? 'block' : 'none';\n",
              "\n",
              "        async function convertToInteractive(key) {\n",
              "          const element = document.querySelector('#df-59bc34df-b66c-48df-bca8-94751ebacd3a');\n",
              "          const dataTable =\n",
              "            await google.colab.kernel.invokeFunction('convertToInteractive',\n",
              "                                                     [key], {});\n",
              "          if (!dataTable) return;\n",
              "\n",
              "          const docLinkHtml = 'Like what you see? Visit the ' +\n",
              "            '<a target=\"_blank\" href=https://colab.research.google.com/notebooks/data_table.ipynb>data table notebook</a>'\n",
              "            + ' to learn more about interactive tables.';\n",
              "          element.innerHTML = '';\n",
              "          dataTable['output_type'] = 'display_data';\n",
              "          await google.colab.output.renderOutput(dataTable, element);\n",
              "          const docLink = document.createElement('div');\n",
              "          docLink.innerHTML = docLinkHtml;\n",
              "          element.appendChild(docLink);\n",
              "        }\n",
              "      </script>\n",
              "    </div>\n",
              "  </div>\n",
              "  "
            ],
            "text/plain": [
              "         actual      pred\n",
              "20708  3.753177  3.631198\n",
              "50136  3.900000  3.798234\n",
              "35263  4.000000  4.239928\n",
              "627    3.753177  3.634428\n",
              "10855  4.200000  3.723417\n",
              "...         ...       ...\n",
              "10467  3.400000  3.602361\n",
              "5585   4.200000  3.774304\n",
              "49664  3.800000  3.692237\n",
              "4166   3.700000  3.679791\n",
              "9356   3.400000  3.614156\n",
              "\n",
              "[9536 rows x 2 columns]"
            ]
          },
          "metadata": {},
          "execution_count": 400
        }
      ]
    },
    {
      "cell_type": "code",
      "source": [
        "# importing r2_score module\n",
        "from sklearn.metrics import r2_score\n",
        "from sklearn.metrics import mean_squared_error\n",
        "# predicting the accuracy score\n",
        "score=r2_score(y_test,y_pred)\n",
        "print('r2 socre is',score)\n",
        "print('mean_sqrd_error is==',mean_squared_error(y_test,y_pred))\n",
        "print('root_mean_squared error of is==',np.sqrt(mean_squared_error(y_test,y_pred)))"
      ],
      "metadata": {
        "colab": {
          "base_uri": "https://localhost:8080/"
        },
        "id": "rVeNoo3oLs1N",
        "outputId": "49960c06-9f47-4ee9-f806-a1792f57f545"
      },
      "execution_count": null,
      "outputs": [
        {
          "output_type": "stream",
          "name": "stdout",
          "text": [
            "r2 socre is 0.28571029089012423\n",
            "mean_sqrd_error is== 0.12305808985021209\n",
            "root_mean_squared error of is== 0.3507963652180736\n"
          ]
        }
      ]
    },
    {
      "cell_type": "markdown",
      "source": [
        "**Decision Tree Regressor**"
      ],
      "metadata": {
        "id": "kOF54vJCU8pW"
      }
    },
    {
      "cell_type": "code",
      "source": [
        "from sklearn.tree import DecisionTreeRegressor\n",
        "\n",
        "Reg_model=DecisionTreeRegressor(max_depth=None,criterion='mse')\n",
        "\n",
        "print(Reg_model)\n",
        "\n",
        "Reg_model.fit(X_train,y_train)\n",
        "y_pred=Reg_model.predict(X_test)"
      ],
      "metadata": {
        "colab": {
          "base_uri": "https://localhost:8080/"
        },
        "id": "0lQ6_S1vRC6k",
        "outputId": "344828ec-f9e4-4513-ede1-7ac668e26c2e"
      },
      "execution_count": null,
      "outputs": [
        {
          "output_type": "stream",
          "name": "stdout",
          "text": [
            "DecisionTreeRegressor(criterion='mse')\n"
          ]
        }
      ]
    },
    {
      "cell_type": "code",
      "source": [
        "comp = pd.DataFrame({ \"actual\": y_test, \"pred\": y_pred })\n",
        "comp \n",
        "#Actual value vs Predicted value"
      ],
      "metadata": {
        "colab": {
          "base_uri": "https://localhost:8080/",
          "height": 424
        },
        "id": "cXhELeY2T-9v",
        "outputId": "df83d657-0e04-48e5-f9a2-d2d3f8c90fc3"
      },
      "execution_count": null,
      "outputs": [
        {
          "output_type": "execute_result",
          "data": {
            "text/html": [
              "\n",
              "  <div id=\"df-86de1b12-0a02-4d36-bc7c-9b815eead440\">\n",
              "    <div class=\"colab-df-container\">\n",
              "      <div>\n",
              "<style scoped>\n",
              "    .dataframe tbody tr th:only-of-type {\n",
              "        vertical-align: middle;\n",
              "    }\n",
              "\n",
              "    .dataframe tbody tr th {\n",
              "        vertical-align: top;\n",
              "    }\n",
              "\n",
              "    .dataframe thead th {\n",
              "        text-align: right;\n",
              "    }\n",
              "</style>\n",
              "<table border=\"1\" class=\"dataframe\">\n",
              "  <thead>\n",
              "    <tr style=\"text-align: right;\">\n",
              "      <th></th>\n",
              "      <th>actual</th>\n",
              "      <th>pred</th>\n",
              "    </tr>\n",
              "  </thead>\n",
              "  <tbody>\n",
              "    <tr>\n",
              "      <th>20708</th>\n",
              "      <td>3.753177</td>\n",
              "      <td>3.753177</td>\n",
              "    </tr>\n",
              "    <tr>\n",
              "      <th>50136</th>\n",
              "      <td>3.900000</td>\n",
              "      <td>3.900000</td>\n",
              "    </tr>\n",
              "    <tr>\n",
              "      <th>35263</th>\n",
              "      <td>4.000000</td>\n",
              "      <td>4.000000</td>\n",
              "    </tr>\n",
              "    <tr>\n",
              "      <th>627</th>\n",
              "      <td>3.753177</td>\n",
              "      <td>3.753177</td>\n",
              "    </tr>\n",
              "    <tr>\n",
              "      <th>10855</th>\n",
              "      <td>4.200000</td>\n",
              "      <td>4.200000</td>\n",
              "    </tr>\n",
              "    <tr>\n",
              "      <th>...</th>\n",
              "      <td>...</td>\n",
              "      <td>...</td>\n",
              "    </tr>\n",
              "    <tr>\n",
              "      <th>10467</th>\n",
              "      <td>3.400000</td>\n",
              "      <td>3.320000</td>\n",
              "    </tr>\n",
              "    <tr>\n",
              "      <th>5585</th>\n",
              "      <td>4.200000</td>\n",
              "      <td>3.900000</td>\n",
              "    </tr>\n",
              "    <tr>\n",
              "      <th>49664</th>\n",
              "      <td>3.800000</td>\n",
              "      <td>3.800000</td>\n",
              "    </tr>\n",
              "    <tr>\n",
              "      <th>4166</th>\n",
              "      <td>3.700000</td>\n",
              "      <td>3.700000</td>\n",
              "    </tr>\n",
              "    <tr>\n",
              "      <th>9356</th>\n",
              "      <td>3.400000</td>\n",
              "      <td>3.247059</td>\n",
              "    </tr>\n",
              "  </tbody>\n",
              "</table>\n",
              "<p>9536 rows × 2 columns</p>\n",
              "</div>\n",
              "      <button class=\"colab-df-convert\" onclick=\"convertToInteractive('df-86de1b12-0a02-4d36-bc7c-9b815eead440')\"\n",
              "              title=\"Convert this dataframe to an interactive table.\"\n",
              "              style=\"display:none;\">\n",
              "        \n",
              "  <svg xmlns=\"http://www.w3.org/2000/svg\" height=\"24px\"viewBox=\"0 0 24 24\"\n",
              "       width=\"24px\">\n",
              "    <path d=\"M0 0h24v24H0V0z\" fill=\"none\"/>\n",
              "    <path d=\"M18.56 5.44l.94 2.06.94-2.06 2.06-.94-2.06-.94-.94-2.06-.94 2.06-2.06.94zm-11 1L8.5 8.5l.94-2.06 2.06-.94-2.06-.94L8.5 2.5l-.94 2.06-2.06.94zm10 10l.94 2.06.94-2.06 2.06-.94-2.06-.94-.94-2.06-.94 2.06-2.06.94z\"/><path d=\"M17.41 7.96l-1.37-1.37c-.4-.4-.92-.59-1.43-.59-.52 0-1.04.2-1.43.59L10.3 9.45l-7.72 7.72c-.78.78-.78 2.05 0 2.83L4 21.41c.39.39.9.59 1.41.59.51 0 1.02-.2 1.41-.59l7.78-7.78 2.81-2.81c.8-.78.8-2.07 0-2.86zM5.41 20L4 18.59l7.72-7.72 1.47 1.35L5.41 20z\"/>\n",
              "  </svg>\n",
              "      </button>\n",
              "      \n",
              "  <style>\n",
              "    .colab-df-container {\n",
              "      display:flex;\n",
              "      flex-wrap:wrap;\n",
              "      gap: 12px;\n",
              "    }\n",
              "\n",
              "    .colab-df-convert {\n",
              "      background-color: #E8F0FE;\n",
              "      border: none;\n",
              "      border-radius: 50%;\n",
              "      cursor: pointer;\n",
              "      display: none;\n",
              "      fill: #1967D2;\n",
              "      height: 32px;\n",
              "      padding: 0 0 0 0;\n",
              "      width: 32px;\n",
              "    }\n",
              "\n",
              "    .colab-df-convert:hover {\n",
              "      background-color: #E2EBFA;\n",
              "      box-shadow: 0px 1px 2px rgba(60, 64, 67, 0.3), 0px 1px 3px 1px rgba(60, 64, 67, 0.15);\n",
              "      fill: #174EA6;\n",
              "    }\n",
              "\n",
              "    [theme=dark] .colab-df-convert {\n",
              "      background-color: #3B4455;\n",
              "      fill: #D2E3FC;\n",
              "    }\n",
              "\n",
              "    [theme=dark] .colab-df-convert:hover {\n",
              "      background-color: #434B5C;\n",
              "      box-shadow: 0px 1px 3px 1px rgba(0, 0, 0, 0.15);\n",
              "      filter: drop-shadow(0px 1px 2px rgba(0, 0, 0, 0.3));\n",
              "      fill: #FFFFFF;\n",
              "    }\n",
              "  </style>\n",
              "\n",
              "      <script>\n",
              "        const buttonEl =\n",
              "          document.querySelector('#df-86de1b12-0a02-4d36-bc7c-9b815eead440 button.colab-df-convert');\n",
              "        buttonEl.style.display =\n",
              "          google.colab.kernel.accessAllowed ? 'block' : 'none';\n",
              "\n",
              "        async function convertToInteractive(key) {\n",
              "          const element = document.querySelector('#df-86de1b12-0a02-4d36-bc7c-9b815eead440');\n",
              "          const dataTable =\n",
              "            await google.colab.kernel.invokeFunction('convertToInteractive',\n",
              "                                                     [key], {});\n",
              "          if (!dataTable) return;\n",
              "\n",
              "          const docLinkHtml = 'Like what you see? Visit the ' +\n",
              "            '<a target=\"_blank\" href=https://colab.research.google.com/notebooks/data_table.ipynb>data table notebook</a>'\n",
              "            + ' to learn more about interactive tables.';\n",
              "          element.innerHTML = '';\n",
              "          dataTable['output_type'] = 'display_data';\n",
              "          await google.colab.output.renderOutput(dataTable, element);\n",
              "          const docLink = document.createElement('div');\n",
              "          docLink.innerHTML = docLinkHtml;\n",
              "          element.appendChild(docLink);\n",
              "        }\n",
              "      </script>\n",
              "    </div>\n",
              "  </div>\n",
              "  "
            ],
            "text/plain": [
              "         actual      pred\n",
              "20708  3.753177  3.753177\n",
              "50136  3.900000  3.900000\n",
              "35263  4.000000  4.000000\n",
              "627    3.753177  3.753177\n",
              "10855  4.200000  4.200000\n",
              "...         ...       ...\n",
              "10467  3.400000  3.320000\n",
              "5585   4.200000  3.900000\n",
              "49664  3.800000  3.800000\n",
              "4166   3.700000  3.700000\n",
              "9356   3.400000  3.247059\n",
              "\n",
              "[9536 rows x 2 columns]"
            ]
          },
          "metadata": {},
          "execution_count": 403
        }
      ]
    },
    {
      "cell_type": "code",
      "source": [
        "from sklearn import metrics\n",
        "\n",
        "print('R2 value:', metrics.r2_score(y_train,Reg_model.predict(X_train)))\n",
        "\n",
        "%matplotlib inline\n",
        "feature_importances= pd.Series(Reg_model.feature_importances_,index=col)\n",
        "feature_importances.nlargest(10).plot(kind='barh')"
      ],
      "metadata": {
        "colab": {
          "base_uri": "https://localhost:8080/",
          "height": 303
        },
        "id": "7kd_Xpk9Rrco",
        "outputId": "1c1d82c7-46c9-4e12-d950-8531927678c1"
      },
      "execution_count": null,
      "outputs": [
        {
          "output_type": "stream",
          "name": "stdout",
          "text": [
            "R2 value: 0.9190847015394467\n"
          ]
        },
        {
          "output_type": "execute_result",
          "data": {
            "text/plain": [
              "<matplotlib.axes._subplots.AxesSubplot at 0x7f98ac62f410>"
            ]
          },
          "metadata": {},
          "execution_count": 404
        },
        {
          "output_type": "display_data",
          "data": {
            "image/png": "[encoded data removed]",
            "text/plain": [
              "<Figure size 432x288 with 1 Axes>"
            ]
          },
          "metadata": {
            "needs_background": "light"
          }
        }
      ]
    },
    {
      "cell_type": "markdown",
      "source": [
        "Knn Regression"
      ],
      "metadata": {
        "id": "fwezNKyJBLYi"
      }
    },
    {
      "cell_type": "code",
      "source": [
        "from sklearn.preprocessing import MinMaxScaler\n",
        "scaler = MinMaxScaler(feature_range=(0, 1))\n",
        "\n",
        "X_train_scaled = scaler.fit_transform(X_train)\n",
        "X_train = pd.DataFrame(X_train_scaled)\n",
        "\n",
        "X_test_scaled = scaler.fit_transform(X_test)\n",
        "X_test = pd.DataFrame(X_test_scaled)"
      ],
      "metadata": {
        "id": "ghtFA_tyBNtH"
      },
      "execution_count": null,
      "outputs": []
    },
    {
      "cell_type": "code",
      "source": [
        "#import required packages\n",
        "from sklearn import neighbors\n",
        "from sklearn.metrics import mean_squared_error \n",
        "from math import sqrt\n",
        "import matplotlib.pyplot as plt\n",
        "%matplotlib inline"
      ],
      "metadata": {
        "id": "gWRtMxZfBYYH"
      },
      "execution_count": null,
      "outputs": []
    },
    {
      "cell_type": "code",
      "source": [
        "rmse_val = [] #to store rmse values for different k\n",
        "for K in range(30):\n",
        "    K = K+1\n",
        "    model = neighbors.KNeighborsRegressor(n_neighbors = K)\n",
        "\n",
        "    model.fit(X_train, y_train)  \n",
        "    pred=model.predict(X_test) \n",
        "    error = sqrt(mean_squared_error(y_test,pred))\n",
        "    rmse_val.append(error)\n",
        "    print('RMSE value for k= ' , K , 'is:', error)"
      ],
      "metadata": {
        "colab": {
          "base_uri": "https://localhost:8080/"
        },
        "id": "JCbHTiSTBegH",
        "outputId": "e28a03a5-83c5-410c-a883-443fe0c7cbe0"
      },
      "execution_count": null,
      "outputs": [
        {
          "output_type": "stream",
          "name": "stdout",
          "text": [
            "RMSE value for k=  1 is: 0.42398572196772855\n",
            "RMSE value for k=  2 is: 0.37537948101349883\n",
            "RMSE value for k=  3 is: 0.3513351949957059\n",
            "RMSE value for k=  4 is: 0.34232061909285283\n",
            "RMSE value for k=  5 is: 0.3367728607750341\n",
            "RMSE value for k=  6 is: 0.33250441310779466\n",
            "RMSE value for k=  7 is: 0.3304277373633237\n",
            "RMSE value for k=  8 is: 0.32829985671522205\n",
            "RMSE value for k=  9 is: 0.32573819663584813\n",
            "RMSE value for k=  10 is: 0.3246536641476335\n",
            "RMSE value for k=  11 is: 0.32338233502733993\n",
            "RMSE value for k=  12 is: 0.3222717760012997\n",
            "RMSE value for k=  13 is: 0.32177108658834813\n",
            "RMSE value for k=  14 is: 0.3217570820801443\n",
            "RMSE value for k=  15 is: 0.3215803917831906\n",
            "RMSE value for k=  16 is: 0.32104511285449583\n",
            "RMSE value for k=  17 is: 0.32065216004495417\n",
            "RMSE value for k=  18 is: 0.3205750680903589\n",
            "RMSE value for k=  19 is: 0.3205721833201159\n",
            "RMSE value for k=  20 is: 0.32067915975492284\n",
            "RMSE value for k=  21 is: 0.32083061843630273\n",
            "RMSE value for k=  22 is: 0.32070815918703416\n",
            "RMSE value for k=  23 is: 0.32066536263784173\n",
            "RMSE value for k=  24 is: 0.32057394789887617\n",
            "RMSE value for k=  25 is: 0.3204218263564163\n",
            "RMSE value for k=  26 is: 0.31996295062933844\n",
            "RMSE value for k=  27 is: 0.3199466275878636\n",
            "RMSE value for k=  28 is: 0.31982359604165084\n",
            "RMSE value for k=  29 is: 0.31996306366563476\n",
            "RMSE value for k=  30 is: 0.32001620689937027\n"
          ]
        }
      ]
    },
    {
      "cell_type": "code",
      "source": [
        "curve = pd.DataFrame(rmse_val) #elbow curve \n",
        "curve.plot()"
      ],
      "metadata": {
        "colab": {
          "base_uri": "https://localhost:8080/",
          "height": 285
        },
        "id": "6NQSeJQgBqnW",
        "outputId": "da62729e-a3f3-4ac4-af7f-7757af79cc6c"
      },
      "execution_count": null,
      "outputs": [
        {
          "output_type": "execute_result",
          "data": {
            "text/plain": [
              "<matplotlib.axes._subplots.AxesSubplot at 0x7f98b42acd10>"
            ]
          },
          "metadata": {},
          "execution_count": 320
        },
        {
          "output_type": "display_data",
          "data": {
            "image/png": "[encoded data removed]",
            "text/plain": [
              "<Figure size 432x288 with 1 Axes>"
            ]
          },
          "metadata": {
            "needs_background": "light"
          }
        }
      ]
    },
    {
      "cell_type": "code",
      "source": [
        "from sklearn.model_selection import GridSearchCV\n",
        "params = {'n_neighbors':[2,3,4,5,6,7,8,9]}\n",
        "\n",
        "knn = neighbors.KNeighborsRegressor()\n",
        "\n",
        "model = GridSearchCV(knn, params, cv=5)\n",
        "model.fit(X_train,y_train)\n",
        "model.best_params_"
      ],
      "metadata": {
        "colab": {
          "base_uri": "https://localhost:8080/"
        },
        "id": "rca-7JkrCQWe",
        "outputId": "287c5ba8-087c-4787-db68-4211fa3e72c9"
      },
      "execution_count": null,
      "outputs": [
        {
          "output_type": "execute_result",
          "data": {
            "text/plain": [
              "{'n_neighbors': 9}"
            ]
          },
          "metadata": {},
          "execution_count": 321
        }
      ]
    },
    {
      "cell_type": "code",
      "source": [
        "from sklearn.neighbors import KNeighborsRegressor\n",
        "\n",
        "reg = KNeighborsRegressor(n_neighbors=9)\n",
        "# fit the model using the training data and training targets\n",
        "reg.fit(X_train, y_train)"
      ],
      "metadata": {
        "colab": {
          "base_uri": "https://localhost:8080/"
        },
        "id": "pOxq1dMpCtul",
        "outputId": "d9f34967-5f1c-40f4-9aa0-516dca5b19e7"
      },
      "execution_count": null,
      "outputs": [
        {
          "output_type": "execute_result",
          "data": {
            "text/plain": [
              "KNeighborsRegressor(n_neighbors=9)"
            ]
          },
          "metadata": {},
          "execution_count": 322
        }
      ]
    },
    {
      "cell_type": "code",
      "source": [
        "print(reg.score(X_test,y_test))"
      ],
      "metadata": {
        "colab": {
          "base_uri": "https://localhost:8080/"
        },
        "id": "Tge0Jta4Cz5g",
        "outputId": "b4f40020-49e6-487e-a831-42875f325f03"
      },
      "execution_count": null,
      "outputs": [
        {
          "output_type": "stream",
          "name": "stdout",
          "text": [
            "0.3841122032114066\n"
          ]
        }
      ]
    },
    {
      "cell_type": "markdown",
      "source": [
        "Predicting whether table booking facility is available or not"
      ],
      "metadata": {
        "id": "__f1N8aVIoPz"
      }
    },
    {
      "cell_type": "markdown",
      "source": [
        "**Logistic Regression**"
      ],
      "metadata": {
        "id": "Jhx3muYN_CIq"
      }
    },
    {
      "cell_type": "code",
      "source": [
        "#Finding cols where absolute corr>0.2 with target var\n",
        "correlation_df['book_table'][abs(correlation_df['book_table'])>0.2]"
      ],
      "metadata": {
        "colab": {
          "base_uri": "https://localhost:8080/"
        },
        "id": "_nZIlWitIFyT",
        "outputId": "3d8865dc-da3a-47cb-f5ab-87aac95b31a6"
      },
      "execution_count": null,
      "outputs": [
        {
          "output_type": "execute_result",
          "data": {
            "text/plain": [
              "Ratings           0.438150\n",
              "votes             0.400850\n",
              "Cost_per_plate    0.363634\n",
              "book_table        1.000000\n",
              "Dining_type      -0.304536\n",
              "Type              0.213931\n",
              "Name: book_table, dtype: float64"
            ]
          },
          "metadata": {},
          "execution_count": 324
        }
      ]
    },
    {
      "cell_type": "code",
      "source": [
        "from sklearn.model_selection import train_test_split\n",
        "\n",
        "col=['Ratings','votes','Cost_per_plate','Dining_type','Type']\n",
        "X=ml_df[col]\n",
        "\n",
        "y=ml_df['book_table']  # Labels\n",
        "\n",
        "#Spliting dataset into training set and test set\n",
        "X_train, X_test, y_train, y_test = train_test_split(X, y, test_size=0.3,random_state=42) "
      ],
      "metadata": {
        "id": "6ABKc4KRIv3v"
      },
      "execution_count": null,
      "outputs": []
    },
    {
      "cell_type": "code",
      "source": [
        "from pydoc import tempfilepager\n",
        "from sklearn.linear_model import LogisticRegression\n",
        "from sklearn import metrics\n",
        "\n",
        "model = LogisticRegression(solver='liblinear', random_state=0)\n",
        "model.fit(X_train,y_train)\n",
        "\n",
        "model = LogisticRegression(solver='liblinear', random_state=0).fit(X_train, y_train)"
      ],
      "metadata": {
        "id": "S72evzqBKSSf"
      },
      "execution_count": null,
      "outputs": []
    },
    {
      "cell_type": "code",
      "source": [
        "#Feature scaling\n",
        "from sklearn.preprocessing import StandardScaler\n",
        "sc_x = StandardScaler()\n",
        "X_train = sc_x.fit_transform(X_train)\n",
        "X_test = sc_x.transform(X_test)\n",
        " \n",
        "print (X_train[0:10, :])"
      ],
      "metadata": {
        "colab": {
          "base_uri": "https://localhost:8080/"
        },
        "id": "FesaU6p6AGbA",
        "outputId": "b69bbad8-8736-4bf1-f4f1-fef92b1e304d"
      },
      "execution_count": null,
      "outputs": [
        {
          "output_type": "stream",
          "name": "stdout",
          "text": [
            "[[ 2.26778941e+00  4.07898169e+00 -7.99080122e-01 -1.52194186e+00\n",
            "   9.60319782e-01]\n",
            " [-2.03967659e+00 -1.38262430e-01 -6.82005255e-02  1.03849880e+00\n",
            "  -8.82944120e-01]\n",
            " [ 1.31057474e+00  2.49077504e-02  6.62679071e-01  4.47627876e-01\n",
            "  -8.82944120e-01]\n",
            " [ 8.31967407e-01 -2.47042551e-01  4.19052539e-01 -9.31070938e-01\n",
            "   9.60319782e-01]\n",
            " [-1.08246192e+00 -3.49779331e-01 -7.99080122e-01  1.03849880e+00\n",
            "   9.60319782e-01]\n",
            " [ 8.31967407e-01  1.47430213e+00 -4.33640324e-01 -1.12802791e+00\n",
            "  -1.80457607e+00]\n",
            " [ 2.00748368e-03 -3.94097158e-01 -3.11827058e-01 -1.71889883e+00\n",
            "   3.86878311e-02]\n",
            " [ 5.92663741e-01 -3.05461504e-01 -6.82005255e-02 -3.40200018e-01\n",
            "   9.60319782e-01]\n",
            " [-6.03854592e-01 -3.76974361e-01  5.36127405e-02 -9.31070938e-01\n",
            "  -8.82944120e-01]\n",
            " [-1.80037292e+00 -3.65894905e-01  5.36127405e-02  1.03849880e+00\n",
            "  -8.82944120e-01]]\n"
          ]
        }
      ]
    },
    {
      "cell_type": "code",
      "source": [
        "from sklearn.linear_model import LogisticRegression\n",
        "classifier = LogisticRegression(random_state = 0)\n",
        "classifier.fit(X_train, y_train)"
      ],
      "metadata": {
        "colab": {
          "base_uri": "https://localhost:8080/"
        },
        "id": "WkcTj9zqARss",
        "outputId": "faac1d93-6c4c-4027-e016-b261e0df428b"
      },
      "execution_count": null,
      "outputs": [
        {
          "output_type": "execute_result",
          "data": {
            "text/plain": [
              "LogisticRegression(random_state=0)"
            ]
          },
          "metadata": {},
          "execution_count": 328
        }
      ]
    },
    {
      "cell_type": "code",
      "source": [
        "y_pred = classifier.predict(X_test)"
      ],
      "metadata": {
        "id": "3fLp0YIjAYsQ"
      },
      "execution_count": null,
      "outputs": []
    },
    {
      "cell_type": "code",
      "source": [
        "from sklearn.metrics import confusion_matrix\n",
        "cm = confusion_matrix(y_test, y_pred)\n",
        " \n",
        "print (\"Confusion Matrix : \\n\", cm)"
      ],
      "metadata": {
        "colab": {
          "base_uri": "https://localhost:8080/"
        },
        "id": "zOi_jVohAcaN",
        "outputId": "6f8ddd4c-9bc5-41e9-c4ba-fbcabf363f65"
      },
      "execution_count": null,
      "outputs": [
        {
          "output_type": "stream",
          "name": "stdout",
          "text": [
            "Confusion Matrix : \n",
            " [[7638  332]\n",
            " [ 808  758]]\n"
          ]
        }
      ]
    },
    {
      "cell_type": "code",
      "source": [
        "from sklearn.metrics import accuracy_score\n",
        "print (\"Accuracy : \", accuracy_score(y_test, y_pred))"
      ],
      "metadata": {
        "colab": {
          "base_uri": "https://localhost:8080/"
        },
        "id": "EkzgafruAgCc",
        "outputId": "37b30278-ac36-4443-90ee-650305378cfd"
      },
      "execution_count": null,
      "outputs": [
        {
          "output_type": "stream",
          "name": "stdout",
          "text": [
            "Accuracy :  0.8804530201342282\n"
          ]
        }
      ]
    },
    {
      "cell_type": "code",
      "source": [
        "comp = pd.DataFrame({ \"actual\": y_test, \"pred\": y_pred })\n",
        "comp \n",
        "#Actual value vs Predicted value"
      ],
      "metadata": {
        "colab": {
          "base_uri": "https://localhost:8080/",
          "height": 424
        },
        "id": "cI1H4xKQ_UnF",
        "outputId": "8ecc510b-4311-4eef-a7bc-73643b40c135"
      },
      "execution_count": null,
      "outputs": [
        {
          "output_type": "execute_result",
          "data": {
            "text/html": [
              "\n",
              "  <div id=\"df-bd9c219d-829f-43c8-a7cf-b99045b5d705\">\n",
              "    <div class=\"colab-df-container\">\n",
              "      <div>\n",
              "<style scoped>\n",
              "    .dataframe tbody tr th:only-of-type {\n",
              "        vertical-align: middle;\n",
              "    }\n",
              "\n",
              "    .dataframe tbody tr th {\n",
              "        vertical-align: top;\n",
              "    }\n",
              "\n",
              "    .dataframe thead th {\n",
              "        text-align: right;\n",
              "    }\n",
              "</style>\n",
              "<table border=\"1\" class=\"dataframe\">\n",
              "  <thead>\n",
              "    <tr style=\"text-align: right;\">\n",
              "      <th></th>\n",
              "      <th>actual</th>\n",
              "      <th>pred</th>\n",
              "    </tr>\n",
              "  </thead>\n",
              "  <tbody>\n",
              "    <tr>\n",
              "      <th>20708</th>\n",
              "      <td>0</td>\n",
              "      <td>0</td>\n",
              "    </tr>\n",
              "    <tr>\n",
              "      <th>50136</th>\n",
              "      <td>0</td>\n",
              "      <td>0</td>\n",
              "    </tr>\n",
              "    <tr>\n",
              "      <th>35263</th>\n",
              "      <td>1</td>\n",
              "      <td>0</td>\n",
              "    </tr>\n",
              "    <tr>\n",
              "      <th>627</th>\n",
              "      <td>0</td>\n",
              "      <td>0</td>\n",
              "    </tr>\n",
              "    <tr>\n",
              "      <th>10855</th>\n",
              "      <td>0</td>\n",
              "      <td>1</td>\n",
              "    </tr>\n",
              "    <tr>\n",
              "      <th>...</th>\n",
              "      <td>...</td>\n",
              "      <td>...</td>\n",
              "    </tr>\n",
              "    <tr>\n",
              "      <th>10467</th>\n",
              "      <td>0</td>\n",
              "      <td>0</td>\n",
              "    </tr>\n",
              "    <tr>\n",
              "      <th>5585</th>\n",
              "      <td>0</td>\n",
              "      <td>0</td>\n",
              "    </tr>\n",
              "    <tr>\n",
              "      <th>49664</th>\n",
              "      <td>0</td>\n",
              "      <td>0</td>\n",
              "    </tr>\n",
              "    <tr>\n",
              "      <th>4166</th>\n",
              "      <td>0</td>\n",
              "      <td>0</td>\n",
              "    </tr>\n",
              "    <tr>\n",
              "      <th>9356</th>\n",
              "      <td>0</td>\n",
              "      <td>0</td>\n",
              "    </tr>\n",
              "  </tbody>\n",
              "</table>\n",
              "<p>9536 rows × 2 columns</p>\n",
              "</div>\n",
              "      <button class=\"colab-df-convert\" onclick=\"convertToInteractive('df-bd9c219d-829f-43c8-a7cf-b99045b5d705')\"\n",
              "              title=\"Convert this dataframe to an interactive table.\"\n",
              "              style=\"display:none;\">\n",
              "        \n",
              "  <svg xmlns=\"http://www.w3.org/2000/svg\" height=\"24px\"viewBox=\"0 0 24 24\"\n",
              "       width=\"24px\">\n",
              "    <path d=\"M0 0h24v24H0V0z\" fill=\"none\"/>\n",
              "    <path d=\"M18.56 5.44l.94 2.06.94-2.06 2.06-.94-2.06-.94-.94-2.06-.94 2.06-2.06.94zm-11 1L8.5 8.5l.94-2.06 2.06-.94-2.06-.94L8.5 2.5l-.94 2.06-2.06.94zm10 10l.94 2.06.94-2.06 2.06-.94-2.06-.94-.94-2.06-.94 2.06-2.06.94z\"/><path d=\"M17.41 7.96l-1.37-1.37c-.4-.4-.92-.59-1.43-.59-.52 0-1.04.2-1.43.59L10.3 9.45l-7.72 7.72c-.78.78-.78 2.05 0 2.83L4 21.41c.39.39.9.59 1.41.59.51 0 1.02-.2 1.41-.59l7.78-7.78 2.81-2.81c.8-.78.8-2.07 0-2.86zM5.41 20L4 18.59l7.72-7.72 1.47 1.35L5.41 20z\"/>\n",
              "  </svg>\n",
              "      </button>\n",
              "      \n",
              "  <style>\n",
              "    .colab-df-container {\n",
              "      display:flex;\n",
              "      flex-wrap:wrap;\n",
              "      gap: 12px;\n",
              "    }\n",
              "\n",
              "    .colab-df-convert {\n",
              "      background-color: #E8F0FE;\n",
              "      border: none;\n",
              "      border-radius: 50%;\n",
              "      cursor: pointer;\n",
              "      display: none;\n",
              "      fill: #1967D2;\n",
              "      height: 32px;\n",
              "      padding: 0 0 0 0;\n",
              "      width: 32px;\n",
              "    }\n",
              "\n",
              "    .colab-df-convert:hover {\n",
              "      background-color: #E2EBFA;\n",
              "      box-shadow: 0px 1px 2px rgba(60, 64, 67, 0.3), 0px 1px 3px 1px rgba(60, 64, 67, 0.15);\n",
              "      fill: #174EA6;\n",
              "    }\n",
              "\n",
              "    [theme=dark] .colab-df-convert {\n",
              "      background-color: #3B4455;\n",
              "      fill: #D2E3FC;\n",
              "    }\n",
              "\n",
              "    [theme=dark] .colab-df-convert:hover {\n",
              "      background-color: #434B5C;\n",
              "      box-shadow: 0px 1px 3px 1px rgba(0, 0, 0, 0.15);\n",
              "      filter: drop-shadow(0px 1px 2px rgba(0, 0, 0, 0.3));\n",
              "      fill: #FFFFFF;\n",
              "    }\n",
              "  </style>\n",
              "\n",
              "      <script>\n",
              "        const buttonEl =\n",
              "          document.querySelector('#df-bd9c219d-829f-43c8-a7cf-b99045b5d705 button.colab-df-convert');\n",
              "        buttonEl.style.display =\n",
              "          google.colab.kernel.accessAllowed ? 'block' : 'none';\n",
              "\n",
              "        async function convertToInteractive(key) {\n",
              "          const element = document.querySelector('#df-bd9c219d-829f-43c8-a7cf-b99045b5d705');\n",
              "          const dataTable =\n",
              "            await google.colab.kernel.invokeFunction('convertToInteractive',\n",
              "                                                     [key], {});\n",
              "          if (!dataTable) return;\n",
              "\n",
              "          const docLinkHtml = 'Like what you see? Visit the ' +\n",
              "            '<a target=\"_blank\" href=https://colab.research.google.com/notebooks/data_table.ipynb>data table notebook</a>'\n",
              "            + ' to learn more about interactive tables.';\n",
              "          element.innerHTML = '';\n",
              "          dataTable['output_type'] = 'display_data';\n",
              "          await google.colab.output.renderOutput(dataTable, element);\n",
              "          const docLink = document.createElement('div');\n",
              "          docLink.innerHTML = docLinkHtml;\n",
              "          element.appendChild(docLink);\n",
              "        }\n",
              "      </script>\n",
              "    </div>\n",
              "  </div>\n",
              "  "
            ],
            "text/plain": [
              "       actual  pred\n",
              "20708       0     0\n",
              "50136       0     0\n",
              "35263       1     0\n",
              "627         0     0\n",
              "10855       0     1\n",
              "...       ...   ...\n",
              "10467       0     0\n",
              "5585        0     0\n",
              "49664       0     0\n",
              "4166        0     0\n",
              "9356        0     0\n",
              "\n",
              "[9536 rows x 2 columns]"
            ]
          },
          "metadata": {},
          "execution_count": 332
        }
      ]
    },
    {
      "cell_type": "markdown",
      "source": [
        "Random forest classifier"
      ],
      "metadata": {
        "id": "3zgQ4sL5oF-6"
      }
    },
    {
      "cell_type": "code",
      "source": [
        "from sklearn.ensemble import RandomForestClassifier\n",
        "\n",
        "clf=RandomForestClassifier(n_estimators=100)\n",
        "\n",
        "clf.fit(X_train,y_train)\n",
        "\n",
        "y_pred=clf.predict(X_test)"
      ],
      "metadata": {
        "id": "CQmeecB4oDvF"
      },
      "execution_count": null,
      "outputs": []
    },
    {
      "cell_type": "code",
      "source": [
        "from sklearn import metrics\n",
        "print(\"Accuracy:\",metrics.accuracy_score(y_test, y_pred))"
      ],
      "metadata": {
        "colab": {
          "base_uri": "https://localhost:8080/"
        },
        "id": "dtxBYdjppWdD",
        "outputId": "8212887e-b2fb-4432-8e9a-fec98f1929a1"
      },
      "execution_count": null,
      "outputs": [
        {
          "output_type": "stream",
          "name": "stdout",
          "text": [
            "Accuracy: 0.9380243288590604\n"
          ]
        }
      ]
    },
    {
      "cell_type": "code",
      "source": [
        "comp = pd.DataFrame({ \"actual\": y_test, \"pred\": y_pred })\n",
        "comp "
      ],
      "metadata": {
        "colab": {
          "base_uri": "https://localhost:8080/",
          "height": 424
        },
        "id": "b9iRicOopoC1",
        "outputId": "aa816c24-b500-4474-b572-b71c0caec79f"
      },
      "execution_count": null,
      "outputs": [
        {
          "output_type": "execute_result",
          "data": {
            "text/html": [
              "\n",
              "  <div id=\"df-2e399730-f6ee-44a1-a939-63abcd20bb28\">\n",
              "    <div class=\"colab-df-container\">\n",
              "      <div>\n",
              "<style scoped>\n",
              "    .dataframe tbody tr th:only-of-type {\n",
              "        vertical-align: middle;\n",
              "    }\n",
              "\n",
              "    .dataframe tbody tr th {\n",
              "        vertical-align: top;\n",
              "    }\n",
              "\n",
              "    .dataframe thead th {\n",
              "        text-align: right;\n",
              "    }\n",
              "</style>\n",
              "<table border=\"1\" class=\"dataframe\">\n",
              "  <thead>\n",
              "    <tr style=\"text-align: right;\">\n",
              "      <th></th>\n",
              "      <th>actual</th>\n",
              "      <th>pred</th>\n",
              "    </tr>\n",
              "  </thead>\n",
              "  <tbody>\n",
              "    <tr>\n",
              "      <th>20708</th>\n",
              "      <td>0</td>\n",
              "      <td>0</td>\n",
              "    </tr>\n",
              "    <tr>\n",
              "      <th>50136</th>\n",
              "      <td>0</td>\n",
              "      <td>0</td>\n",
              "    </tr>\n",
              "    <tr>\n",
              "      <th>35263</th>\n",
              "      <td>1</td>\n",
              "      <td>1</td>\n",
              "    </tr>\n",
              "    <tr>\n",
              "      <th>627</th>\n",
              "      <td>0</td>\n",
              "      <td>0</td>\n",
              "    </tr>\n",
              "    <tr>\n",
              "      <th>10855</th>\n",
              "      <td>0</td>\n",
              "      <td>0</td>\n",
              "    </tr>\n",
              "    <tr>\n",
              "      <th>...</th>\n",
              "      <td>...</td>\n",
              "      <td>...</td>\n",
              "    </tr>\n",
              "    <tr>\n",
              "      <th>10467</th>\n",
              "      <td>0</td>\n",
              "      <td>0</td>\n",
              "    </tr>\n",
              "    <tr>\n",
              "      <th>5585</th>\n",
              "      <td>0</td>\n",
              "      <td>0</td>\n",
              "    </tr>\n",
              "    <tr>\n",
              "      <th>49664</th>\n",
              "      <td>0</td>\n",
              "      <td>0</td>\n",
              "    </tr>\n",
              "    <tr>\n",
              "      <th>4166</th>\n",
              "      <td>0</td>\n",
              "      <td>0</td>\n",
              "    </tr>\n",
              "    <tr>\n",
              "      <th>9356</th>\n",
              "      <td>0</td>\n",
              "      <td>0</td>\n",
              "    </tr>\n",
              "  </tbody>\n",
              "</table>\n",
              "<p>9536 rows × 2 columns</p>\n",
              "</div>\n",
              "      <button class=\"colab-df-convert\" onclick=\"convertToInteractive('df-2e399730-f6ee-44a1-a939-63abcd20bb28')\"\n",
              "              title=\"Convert this dataframe to an interactive table.\"\n",
              "              style=\"display:none;\">\n",
              "        \n",
              "  <svg xmlns=\"http://www.w3.org/2000/svg\" height=\"24px\"viewBox=\"0 0 24 24\"\n",
              "       width=\"24px\">\n",
              "    <path d=\"M0 0h24v24H0V0z\" fill=\"none\"/>\n",
              "    <path d=\"M18.56 5.44l.94 2.06.94-2.06 2.06-.94-2.06-.94-.94-2.06-.94 2.06-2.06.94zm-11 1L8.5 8.5l.94-2.06 2.06-.94-2.06-.94L8.5 2.5l-.94 2.06-2.06.94zm10 10l.94 2.06.94-2.06 2.06-.94-2.06-.94-.94-2.06-.94 2.06-2.06.94z\"/><path d=\"M17.41 7.96l-1.37-1.37c-.4-.4-.92-.59-1.43-.59-.52 0-1.04.2-1.43.59L10.3 9.45l-7.72 7.72c-.78.78-.78 2.05 0 2.83L4 21.41c.39.39.9.59 1.41.59.51 0 1.02-.2 1.41-.59l7.78-7.78 2.81-2.81c.8-.78.8-2.07 0-2.86zM5.41 20L4 18.59l7.72-7.72 1.47 1.35L5.41 20z\"/>\n",
              "  </svg>\n",
              "      </button>\n",
              "      \n",
              "  <style>\n",
              "    .colab-df-container {\n",
              "      display:flex;\n",
              "      flex-wrap:wrap;\n",
              "      gap: 12px;\n",
              "    }\n",
              "\n",
              "    .colab-df-convert {\n",
              "      background-color: #E8F0FE;\n",
              "      border: none;\n",
              "      border-radius: 50%;\n",
              "      cursor: pointer;\n",
              "      display: none;\n",
              "      fill: #1967D2;\n",
              "      height: 32px;\n",
              "      padding: 0 0 0 0;\n",
              "      width: 32px;\n",
              "    }\n",
              "\n",
              "    .colab-df-convert:hover {\n",
              "      background-color: #E2EBFA;\n",
              "      box-shadow: 0px 1px 2px rgba(60, 64, 67, 0.3), 0px 1px 3px 1px rgba(60, 64, 67, 0.15);\n",
              "      fill: #174EA6;\n",
              "    }\n",
              "\n",
              "    [theme=dark] .colab-df-convert {\n",
              "      background-color: #3B4455;\n",
              "      fill: #D2E3FC;\n",
              "    }\n",
              "\n",
              "    [theme=dark] .colab-df-convert:hover {\n",
              "      background-color: #434B5C;\n",
              "      box-shadow: 0px 1px 3px 1px rgba(0, 0, 0, 0.15);\n",
              "      filter: drop-shadow(0px 1px 2px rgba(0, 0, 0, 0.3));\n",
              "      fill: #FFFFFF;\n",
              "    }\n",
              "  </style>\n",
              "\n",
              "      <script>\n",
              "        const buttonEl =\n",
              "          document.querySelector('#df-2e399730-f6ee-44a1-a939-63abcd20bb28 button.colab-df-convert');\n",
              "        buttonEl.style.display =\n",
              "          google.colab.kernel.accessAllowed ? 'block' : 'none';\n",
              "\n",
              "        async function convertToInteractive(key) {\n",
              "          const element = document.querySelector('#df-2e399730-f6ee-44a1-a939-63abcd20bb28');\n",
              "          const dataTable =\n",
              "            await google.colab.kernel.invokeFunction('convertToInteractive',\n",
              "                                                     [key], {});\n",
              "          if (!dataTable) return;\n",
              "\n",
              "          const docLinkHtml = 'Like what you see? Visit the ' +\n",
              "            '<a target=\"_blank\" href=https://colab.research.google.com/notebooks/data_table.ipynb>data table notebook</a>'\n",
              "            + ' to learn more about interactive tables.';\n",
              "          element.innerHTML = '';\n",
              "          dataTable['output_type'] = 'display_data';\n",
              "          await google.colab.output.renderOutput(dataTable, element);\n",
              "          const docLink = document.createElement('div');\n",
              "          docLink.innerHTML = docLinkHtml;\n",
              "          element.appendChild(docLink);\n",
              "        }\n",
              "      </script>\n",
              "    </div>\n",
              "  </div>\n",
              "  "
            ],
            "text/plain": [
              "       actual  pred\n",
              "20708       0     0\n",
              "50136       0     0\n",
              "35263       1     1\n",
              "627         0     0\n",
              "10855       0     0\n",
              "...       ...   ...\n",
              "10467       0     0\n",
              "5585        0     0\n",
              "49664       0     0\n",
              "4166        0     0\n",
              "9356        0     0\n",
              "\n",
              "[9536 rows x 2 columns]"
            ]
          },
          "metadata": {},
          "execution_count": 335
        }
      ]
    },
    {
      "cell_type": "markdown",
      "source": [
        "**Improving the model**"
      ],
      "metadata": {
        "id": "1PMn8pdBAqRl"
      }
    },
    {
      "cell_type": "code",
      "source": [
        "import warnings\n",
        "warnings.filterwarnings('ignore')\n",
        "plt.figure(figsize=(16,5))\n",
        "plt.subplot(1,2,1)\n",
        "sns.distplot(df['Ratings'])\n",
        "plt.subplot(1,2,2)\n",
        "sns.distplot(df['votes'])\n",
        "plt.show()"
      ],
      "metadata": {
        "colab": {
          "base_uri": "https://localhost:8080/",
          "height": 339
        },
        "outputId": "3c471f6a-f030-4d0b-ca19-6229e1ff890b",
        "id": "p3wyRqklBaj4"
      },
      "execution_count": null,
      "outputs": [
        {
          "output_type": "display_data",
          "data": {
            "image/png": "[encoded data removed]",
            "text/plain": [
              "<Figure size 1152x360 with 2 Axes>"
            ]
          },
          "metadata": {
            "needs_background": "light"
          }
        }
      ]
    },
    {
      "cell_type": "markdown",
      "source": [
        "Finding outliers"
      ],
      "metadata": {
        "id": "ivLadDRBBym_"
      }
    },
    {
      "cell_type": "code",
      "source": [
        "print(\"Highest allowed\",df['Ratings'].mean() + 3*df['Ratings'].std())\n",
        "print(\"Lowest allowed\",df['Ratings'].mean() - 3*df['Ratings'].std())"
      ],
      "metadata": {
        "colab": {
          "base_uri": "https://localhost:8080/"
        },
        "id": "NrOaOq2d4Azi",
        "outputId": "6ead2269-63e1-4a04-ca75-0cb953c16561"
      },
      "execution_count": null,
      "outputs": [
        {
          "output_type": "stream",
          "name": "stdout",
          "text": [
            "Highest allowed 5.005889615795405\n",
            "Lowest allowed 2.5035316809515837\n"
          ]
        }
      ]
    },
    {
      "cell_type": "markdown",
      "source": [
        "Outliers"
      ],
      "metadata": {
        "id": "urtLLOk3B285"
      }
    },
    {
      "cell_type": "code",
      "source": [
        "df[(df['Ratings'] > 5.005889615795405) | (df['Ratings'] <2.5035316809515837)]"
      ],
      "metadata": {
        "id": "IzJ4O2Ve961T",
        "colab": {
          "base_uri": "https://localhost:8080/",
          "height": 424
        },
        "outputId": "e2c3855e-7382-470f-b87c-be5774a85db8"
      },
      "execution_count": null,
      "outputs": [
        {
          "output_type": "execute_result",
          "data": {
            "text/html": [
              "\n",
              "  <div id=\"df-8a5435d3-a4c6-4027-bc72-9d6b3c9d8bdf\">\n",
              "    <div class=\"colab-df-container\">\n",
              "      <div>\n",
              "<style scoped>\n",
              "    .dataframe tbody tr th:only-of-type {\n",
              "        vertical-align: middle;\n",
              "    }\n",
              "\n",
              "    .dataframe tbody tr th {\n",
              "        vertical-align: top;\n",
              "    }\n",
              "\n",
              "    .dataframe thead th {\n",
              "        text-align: right;\n",
              "    }\n",
              "</style>\n",
              "<table border=\"1\" class=\"dataframe\">\n",
              "  <thead>\n",
              "    <tr style=\"text-align: right;\">\n",
              "      <th></th>\n",
              "      <th>name</th>\n",
              "      <th>online_order</th>\n",
              "      <th>book_table</th>\n",
              "      <th>Ratings</th>\n",
              "      <th>votes</th>\n",
              "      <th>location</th>\n",
              "      <th>Dining_type</th>\n",
              "      <th>cuisines</th>\n",
              "      <th>Cost_per_plate</th>\n",
              "      <th>Type</th>\n",
              "    </tr>\n",
              "  </thead>\n",
              "  <tbody>\n",
              "    <tr>\n",
              "      <th>206</th>\n",
              "      <td>Dal Tadkaa</td>\n",
              "      <td>1</td>\n",
              "      <td>0</td>\n",
              "      <td>2.5</td>\n",
              "      <td>247</td>\n",
              "      <td>1</td>\n",
              "      <td>4</td>\n",
              "      <td>11</td>\n",
              "      <td>250.0</td>\n",
              "      <td>1</td>\n",
              "    </tr>\n",
              "    <tr>\n",
              "      <th>265</th>\n",
              "      <td>The Chaat Shop</td>\n",
              "      <td>1</td>\n",
              "      <td>0</td>\n",
              "      <td>2.5</td>\n",
              "      <td>35</td>\n",
              "      <td>4</td>\n",
              "      <td>14</td>\n",
              "      <td>8</td>\n",
              "      <td>100.0</td>\n",
              "      <td>1</td>\n",
              "    </tr>\n",
              "    <tr>\n",
              "      <th>587</th>\n",
              "      <td>Dal Tadkaa</td>\n",
              "      <td>1</td>\n",
              "      <td>0</td>\n",
              "      <td>2.5</td>\n",
              "      <td>247</td>\n",
              "      <td>1</td>\n",
              "      <td>4</td>\n",
              "      <td>11</td>\n",
              "      <td>225.0</td>\n",
              "      <td>3</td>\n",
              "    </tr>\n",
              "    <tr>\n",
              "      <th>1067</th>\n",
              "      <td>Grills &amp; Rolls</td>\n",
              "      <td>1</td>\n",
              "      <td>0</td>\n",
              "      <td>2.5</td>\n",
              "      <td>321</td>\n",
              "      <td>15</td>\n",
              "      <td>14</td>\n",
              "      <td>15</td>\n",
              "      <td>200.0</td>\n",
              "      <td>1</td>\n",
              "    </tr>\n",
              "    <tr>\n",
              "      <th>1532</th>\n",
              "      <td>Mast Kalandar</td>\n",
              "      <td>0</td>\n",
              "      <td>0</td>\n",
              "      <td>2.4</td>\n",
              "      <td>183</td>\n",
              "      <td>3</td>\n",
              "      <td>6</td>\n",
              "      <td>11</td>\n",
              "      <td>250.0</td>\n",
              "      <td>1</td>\n",
              "    </tr>\n",
              "    <tr>\n",
              "      <th>...</th>\n",
              "      <td>...</td>\n",
              "      <td>...</td>\n",
              "      <td>...</td>\n",
              "      <td>...</td>\n",
              "      <td>...</td>\n",
              "      <td>...</td>\n",
              "      <td>...</td>\n",
              "      <td>...</td>\n",
              "      <td>...</td>\n",
              "      <td>...</td>\n",
              "    </tr>\n",
              "    <tr>\n",
              "      <th>51310</th>\n",
              "      <td>Imperia Restaurant</td>\n",
              "      <td>1</td>\n",
              "      <td>0</td>\n",
              "      <td>2.5</td>\n",
              "      <td>129</td>\n",
              "      <td>39</td>\n",
              "      <td>4</td>\n",
              "      <td>15</td>\n",
              "      <td>500.0</td>\n",
              "      <td>3</td>\n",
              "    </tr>\n",
              "    <tr>\n",
              "      <th>51476</th>\n",
              "      <td>Ammi's Biryani</td>\n",
              "      <td>0</td>\n",
              "      <td>0</td>\n",
              "      <td>2.5</td>\n",
              "      <td>131</td>\n",
              "      <td>39</td>\n",
              "      <td>14</td>\n",
              "      <td>15</td>\n",
              "      <td>500.0</td>\n",
              "      <td>3</td>\n",
              "    </tr>\n",
              "    <tr>\n",
              "      <th>51611</th>\n",
              "      <td>Chung Wah</td>\n",
              "      <td>0</td>\n",
              "      <td>0</td>\n",
              "      <td>2.5</td>\n",
              "      <td>73</td>\n",
              "      <td>31</td>\n",
              "      <td>4</td>\n",
              "      <td>15</td>\n",
              "      <td>800.0</td>\n",
              "      <td>3</td>\n",
              "    </tr>\n",
              "    <tr>\n",
              "      <th>51677</th>\n",
              "      <td>Bhagini</td>\n",
              "      <td>0</td>\n",
              "      <td>0</td>\n",
              "      <td>2.5</td>\n",
              "      <td>81</td>\n",
              "      <td>39</td>\n",
              "      <td>1</td>\n",
              "      <td>15</td>\n",
              "      <td>800.0</td>\n",
              "      <td>4</td>\n",
              "    </tr>\n",
              "    <tr>\n",
              "      <th>51711</th>\n",
              "      <td>Bhagini</td>\n",
              "      <td>0</td>\n",
              "      <td>0</td>\n",
              "      <td>2.5</td>\n",
              "      <td>81</td>\n",
              "      <td>39</td>\n",
              "      <td>1</td>\n",
              "      <td>15</td>\n",
              "      <td>800.0</td>\n",
              "      <td>4</td>\n",
              "    </tr>\n",
              "  </tbody>\n",
              "</table>\n",
              "<p>178 rows × 10 columns</p>\n",
              "</div>\n",
              "      <button class=\"colab-df-convert\" onclick=\"convertToInteractive('df-8a5435d3-a4c6-4027-bc72-9d6b3c9d8bdf')\"\n",
              "              title=\"Convert this dataframe to an interactive table.\"\n",
              "              style=\"display:none;\">\n",
              "        \n",
              "  <svg xmlns=\"http://www.w3.org/2000/svg\" height=\"24px\"viewBox=\"0 0 24 24\"\n",
              "       width=\"24px\">\n",
              "    <path d=\"M0 0h24v24H0V0z\" fill=\"none\"/>\n",
              "    <path d=\"M18.56 5.44l.94 2.06.94-2.06 2.06-.94-2.06-.94-.94-2.06-.94 2.06-2.06.94zm-11 1L8.5 8.5l.94-2.06 2.06-.94-2.06-.94L8.5 2.5l-.94 2.06-2.06.94zm10 10l.94 2.06.94-2.06 2.06-.94-2.06-.94-.94-2.06-.94 2.06-2.06.94z\"/><path d=\"M17.41 7.96l-1.37-1.37c-.4-.4-.92-.59-1.43-.59-.52 0-1.04.2-1.43.59L10.3 9.45l-7.72 7.72c-.78.78-.78 2.05 0 2.83L4 21.41c.39.39.9.59 1.41.59.51 0 1.02-.2 1.41-.59l7.78-7.78 2.81-2.81c.8-.78.8-2.07 0-2.86zM5.41 20L4 18.59l7.72-7.72 1.47 1.35L5.41 20z\"/>\n",
              "  </svg>\n",
              "      </button>\n",
              "      \n",
              "  <style>\n",
              "    .colab-df-container {\n",
              "      display:flex;\n",
              "      flex-wrap:wrap;\n",
              "      gap: 12px;\n",
              "    }\n",
              "\n",
              "    .colab-df-convert {\n",
              "      background-color: #E8F0FE;\n",
              "      border: none;\n",
              "      border-radius: 50%;\n",
              "      cursor: pointer;\n",
              "      display: none;\n",
              "      fill: #1967D2;\n",
              "      height: 32px;\n",
              "      padding: 0 0 0 0;\n",
              "      width: 32px;\n",
              "    }\n",
              "\n",
              "    .colab-df-convert:hover {\n",
              "      background-color: #E2EBFA;\n",
              "      box-shadow: 0px 1px 2px rgba(60, 64, 67, 0.3), 0px 1px 3px 1px rgba(60, 64, 67, 0.15);\n",
              "      fill: #174EA6;\n",
              "    }\n",
              "\n",
              "    [theme=dark] .colab-df-convert {\n",
              "      background-color: #3B4455;\n",
              "      fill: #D2E3FC;\n",
              "    }\n",
              "\n",
              "    [theme=dark] .colab-df-convert:hover {\n",
              "      background-color: #434B5C;\n",
              "      box-shadow: 0px 1px 3px 1px rgba(0, 0, 0, 0.15);\n",
              "      filter: drop-shadow(0px 1px 2px rgba(0, 0, 0, 0.3));\n",
              "      fill: #FFFFFF;\n",
              "    }\n",
              "  </style>\n",
              "\n",
              "      <script>\n",
              "        const buttonEl =\n",
              "          document.querySelector('#df-8a5435d3-a4c6-4027-bc72-9d6b3c9d8bdf button.colab-df-convert');\n",
              "        buttonEl.style.display =\n",
              "          google.colab.kernel.accessAllowed ? 'block' : 'none';\n",
              "\n",
              "        async function convertToInteractive(key) {\n",
              "          const element = document.querySelector('#df-8a5435d3-a4c6-4027-bc72-9d6b3c9d8bdf');\n",
              "          const dataTable =\n",
              "            await google.colab.kernel.invokeFunction('convertToInteractive',\n",
              "                                                     [key], {});\n",
              "          if (!dataTable) return;\n",
              "\n",
              "          const docLinkHtml = 'Like what you see? Visit the ' +\n",
              "            '<a target=\"_blank\" href=https://colab.research.google.com/notebooks/data_table.ipynb>data table notebook</a>'\n",
              "            + ' to learn more about interactive tables.';\n",
              "          element.innerHTML = '';\n",
              "          dataTable['output_type'] = 'display_data';\n",
              "          await google.colab.output.renderOutput(dataTable, element);\n",
              "          const docLink = document.createElement('div');\n",
              "          docLink.innerHTML = docLinkHtml;\n",
              "          element.appendChild(docLink);\n",
              "        }\n",
              "      </script>\n",
              "    </div>\n",
              "  </div>\n",
              "  "
            ],
            "text/plain": [
              "                     name  online_order  ...  Cost_per_plate  Type\n",
              "206            Dal Tadkaa             1  ...           250.0     1\n",
              "265        The Chaat Shop             1  ...           100.0     1\n",
              "587            Dal Tadkaa             1  ...           225.0     3\n",
              "1067       Grills & Rolls             1  ...           200.0     1\n",
              "1532        Mast Kalandar             0  ...           250.0     1\n",
              "...                   ...           ...  ...             ...   ...\n",
              "51310  Imperia Restaurant             1  ...           500.0     3\n",
              "51476      Ammi's Biryani             0  ...           500.0     3\n",
              "51611           Chung Wah             0  ...           800.0     3\n",
              "51677             Bhagini             0  ...           800.0     4\n",
              "51711             Bhagini             0  ...           800.0     4\n",
              "\n",
              "[178 rows x 10 columns]"
            ]
          },
          "metadata": {},
          "execution_count": 338
        }
      ]
    },
    {
      "cell_type": "markdown",
      "source": [
        "Removing the outliers"
      ],
      "metadata": {
        "id": "ZrlUmYH8B7Ga"
      }
    },
    {
      "cell_type": "code",
      "source": [
        "new_df = df[(df['Ratings'] <5.005889615795405) & (df['Ratings'] >  2.5035316809515837)]"
      ],
      "metadata": {
        "id": "958mrdxP4yhy"
      },
      "execution_count": null,
      "outputs": []
    },
    {
      "cell_type": "markdown",
      "source": [
        "Capping on outliers"
      ],
      "metadata": {
        "id": "9znaE4IOB7SC"
      }
    },
    {
      "cell_type": "code",
      "source": [
        "upper_limit = df['Ratings'].mean() + 3*df['Ratings'].std()\n",
        "lower_limit = df['Ratings'].mean() - 3*df['Ratings'].std()"
      ],
      "metadata": {
        "id": "jk8nr1XL5TCn"
      },
      "execution_count": null,
      "outputs": []
    },
    {
      "cell_type": "code",
      "source": [
        "df['Ratings'] = np.where(\n",
        "    df['Ratings']>upper_limit,\n",
        "    upper_limit,\n",
        "    np.where(\n",
        "        df['Ratings']<lower_limit,\n",
        "        lower_limit,\n",
        "        df['Ratings']\n",
        "    )\n",
        ")"
      ],
      "metadata": {
        "id": "ccgj1R4q5kQg"
      },
      "execution_count": null,
      "outputs": []
    },
    {
      "cell_type": "code",
      "source": [
        "df['Ratings'].describe()"
      ],
      "metadata": {
        "colab": {
          "base_uri": "https://localhost:8080/"
        },
        "id": "d7qIQOam5tJu",
        "outputId": "52fe8a96-0706-4e9c-c67c-3f218afff2e3"
      },
      "execution_count": null,
      "outputs": [
        {
          "output_type": "execute_result",
          "data": {
            "text/plain": [
              "count    31786.000000\n",
              "mean         3.755596\n",
              "std          0.414052\n",
              "min          2.503532\n",
              "25%          3.500000\n",
              "50%          3.753177\n",
              "75%          4.000000\n",
              "max          4.900000\n",
              "Name: Ratings, dtype: float64"
            ]
          },
          "metadata": {},
          "execution_count": 342
        }
      ]
    },
    {
      "cell_type": "markdown",
      "source": [
        "Similary, remove the outliers for df['votes']"
      ],
      "metadata": {
        "id": "pb0lkBYCCEwH"
      }
    },
    {
      "cell_type": "code",
      "source": [
        "print(\"Highest allowed\",df['votes'].mean() + 3*df['votes'].std())\n",
        "print(\"Lowest allowed\",df['votes'].mean() - 3*df['votes'].std())"
      ],
      "metadata": {
        "colab": {
          "base_uri": "https://localhost:8080/"
        },
        "id": "9E6I9vD06yDE",
        "outputId": "133efce6-570b-4217-a142-ecfa2a5b39b6"
      },
      "execution_count": null,
      "outputs": [
        {
          "output_type": "stream",
          "name": "stdout",
          "text": [
            "Highest allowed 3329.925660011424\n",
            "Lowest allowed -2549.486347106372\n"
          ]
        }
      ]
    },
    {
      "cell_type": "code",
      "source": [
        "df[(df['votes'] > 3329.925660011424) | (df['votes'] <-2549.486347106372)]"
      ],
      "metadata": {
        "colab": {
          "base_uri": "https://localhost:8080/",
          "height": 424
        },
        "id": "ruMo6sBe69LR",
        "outputId": "9b4b765a-0caa-41fe-cd55-75e1971944f8"
      },
      "execution_count": null,
      "outputs": [
        {
          "output_type": "execute_result",
          "data": {
            "text/html": [
              "\n",
              "  <div id=\"df-9c5982cf-b472-4f97-9bd3-b22c5f4cc0e6\">\n",
              "    <div class=\"colab-df-container\">\n",
              "      <div>\n",
              "<style scoped>\n",
              "    .dataframe tbody tr th:only-of-type {\n",
              "        vertical-align: middle;\n",
              "    }\n",
              "\n",
              "    .dataframe tbody tr th {\n",
              "        vertical-align: top;\n",
              "    }\n",
              "\n",
              "    .dataframe thead th {\n",
              "        text-align: right;\n",
              "    }\n",
              "</style>\n",
              "<table border=\"1\" class=\"dataframe\">\n",
              "  <thead>\n",
              "    <tr style=\"text-align: right;\">\n",
              "      <th></th>\n",
              "      <th>name</th>\n",
              "      <th>online_order</th>\n",
              "      <th>book_table</th>\n",
              "      <th>Ratings</th>\n",
              "      <th>votes</th>\n",
              "      <th>location</th>\n",
              "      <th>Dining_type</th>\n",
              "      <th>cuisines</th>\n",
              "      <th>Cost_per_plate</th>\n",
              "      <th>Type</th>\n",
              "    </tr>\n",
              "  </thead>\n",
              "  <tbody>\n",
              "    <tr>\n",
              "      <th>38</th>\n",
              "      <td>Empire Restaurant</td>\n",
              "      <td>1</td>\n",
              "      <td>0</td>\n",
              "      <td>4.4</td>\n",
              "      <td>4884</td>\n",
              "      <td>16</td>\n",
              "      <td>4</td>\n",
              "      <td>15</td>\n",
              "      <td>375.0</td>\n",
              "      <td>1</td>\n",
              "    </tr>\n",
              "    <tr>\n",
              "      <th>86</th>\n",
              "      <td>Meghana Foods</td>\n",
              "      <td>1</td>\n",
              "      <td>0</td>\n",
              "      <td>4.4</td>\n",
              "      <td>4401</td>\n",
              "      <td>16</td>\n",
              "      <td>4</td>\n",
              "      <td>15</td>\n",
              "      <td>300.0</td>\n",
              "      <td>1</td>\n",
              "    </tr>\n",
              "    <tr>\n",
              "      <th>769</th>\n",
              "      <td>Vidyarthi Bhavan</td>\n",
              "      <td>0</td>\n",
              "      <td>0</td>\n",
              "      <td>4.4</td>\n",
              "      <td>4460</td>\n",
              "      <td>4</td>\n",
              "      <td>14</td>\n",
              "      <td>16</td>\n",
              "      <td>300.0</td>\n",
              "      <td>3</td>\n",
              "    </tr>\n",
              "    <tr>\n",
              "      <th>868</th>\n",
              "      <td>Barbeque Nation</td>\n",
              "      <td>0</td>\n",
              "      <td>1</td>\n",
              "      <td>4.7</td>\n",
              "      <td>3845</td>\n",
              "      <td>15</td>\n",
              "      <td>4</td>\n",
              "      <td>15</td>\n",
              "      <td>450.0</td>\n",
              "      <td>3</td>\n",
              "    </tr>\n",
              "    <tr>\n",
              "      <th>909</th>\n",
              "      <td>Onesta</td>\n",
              "      <td>1</td>\n",
              "      <td>1</td>\n",
              "      <td>4.4</td>\n",
              "      <td>4381</td>\n",
              "      <td>15</td>\n",
              "      <td>5</td>\n",
              "      <td>15</td>\n",
              "      <td>250.0</td>\n",
              "      <td>0</td>\n",
              "    </tr>\n",
              "    <tr>\n",
              "      <th>...</th>\n",
              "      <td>...</td>\n",
              "      <td>...</td>\n",
              "      <td>...</td>\n",
              "      <td>...</td>\n",
              "      <td>...</td>\n",
              "      <td>...</td>\n",
              "      <td>...</td>\n",
              "      <td>...</td>\n",
              "      <td>...</td>\n",
              "      <td>...</td>\n",
              "    </tr>\n",
              "    <tr>\n",
              "      <th>51071</th>\n",
              "      <td>Chili's American Grill &amp; Bar</td>\n",
              "      <td>1</td>\n",
              "      <td>0</td>\n",
              "      <td>4.6</td>\n",
              "      <td>4957</td>\n",
              "      <td>39</td>\n",
              "      <td>4</td>\n",
              "      <td>15</td>\n",
              "      <td>1400.0</td>\n",
              "      <td>3</td>\n",
              "    </tr>\n",
              "    <tr>\n",
              "      <th>51649</th>\n",
              "      <td>Biergarten</td>\n",
              "      <td>0</td>\n",
              "      <td>1</td>\n",
              "      <td>4.7</td>\n",
              "      <td>7064</td>\n",
              "      <td>39</td>\n",
              "      <td>11</td>\n",
              "      <td>15</td>\n",
              "      <td>2400.0</td>\n",
              "      <td>4</td>\n",
              "    </tr>\n",
              "    <tr>\n",
              "      <th>51650</th>\n",
              "      <td>Windmills Craftworks</td>\n",
              "      <td>0</td>\n",
              "      <td>0</td>\n",
              "      <td>4.6</td>\n",
              "      <td>5954</td>\n",
              "      <td>39</td>\n",
              "      <td>11</td>\n",
              "      <td>15</td>\n",
              "      <td>2500.0</td>\n",
              "      <td>4</td>\n",
              "    </tr>\n",
              "    <tr>\n",
              "      <th>51685</th>\n",
              "      <td>Biergarten</td>\n",
              "      <td>0</td>\n",
              "      <td>1</td>\n",
              "      <td>4.7</td>\n",
              "      <td>7064</td>\n",
              "      <td>39</td>\n",
              "      <td>11</td>\n",
              "      <td>15</td>\n",
              "      <td>2400.0</td>\n",
              "      <td>4</td>\n",
              "    </tr>\n",
              "    <tr>\n",
              "      <th>51686</th>\n",
              "      <td>Windmills Craftworks</td>\n",
              "      <td>0</td>\n",
              "      <td>0</td>\n",
              "      <td>4.6</td>\n",
              "      <td>5954</td>\n",
              "      <td>39</td>\n",
              "      <td>11</td>\n",
              "      <td>15</td>\n",
              "      <td>2500.0</td>\n",
              "      <td>4</td>\n",
              "    </tr>\n",
              "  </tbody>\n",
              "</table>\n",
              "<p>660 rows × 10 columns</p>\n",
              "</div>\n",
              "      <button class=\"colab-df-convert\" onclick=\"convertToInteractive('df-9c5982cf-b472-4f97-9bd3-b22c5f4cc0e6')\"\n",
              "              title=\"Convert this dataframe to an interactive table.\"\n",
              "              style=\"display:none;\">\n",
              "        \n",
              "  <svg xmlns=\"http://www.w3.org/2000/svg\" height=\"24px\"viewBox=\"0 0 24 24\"\n",
              "       width=\"24px\">\n",
              "    <path d=\"M0 0h24v24H0V0z\" fill=\"none\"/>\n",
              "    <path d=\"M18.56 5.44l.94 2.06.94-2.06 2.06-.94-2.06-.94-.94-2.06-.94 2.06-2.06.94zm-11 1L8.5 8.5l.94-2.06 2.06-.94-2.06-.94L8.5 2.5l-.94 2.06-2.06.94zm10 10l.94 2.06.94-2.06 2.06-.94-2.06-.94-.94-2.06-.94 2.06-2.06.94z\"/><path d=\"M17.41 7.96l-1.37-1.37c-.4-.4-.92-.59-1.43-.59-.52 0-1.04.2-1.43.59L10.3 9.45l-7.72 7.72c-.78.78-.78 2.05 0 2.83L4 21.41c.39.39.9.59 1.41.59.51 0 1.02-.2 1.41-.59l7.78-7.78 2.81-2.81c.8-.78.8-2.07 0-2.86zM5.41 20L4 18.59l7.72-7.72 1.47 1.35L5.41 20z\"/>\n",
              "  </svg>\n",
              "      </button>\n",
              "      \n",
              "  <style>\n",
              "    .colab-df-container {\n",
              "      display:flex;\n",
              "      flex-wrap:wrap;\n",
              "      gap: 12px;\n",
              "    }\n",
              "\n",
              "    .colab-df-convert {\n",
              "      background-color: #E8F0FE;\n",
              "      border: none;\n",
              "      border-radius: 50%;\n",
              "      cursor: pointer;\n",
              "      display: none;\n",
              "      fill: #1967D2;\n",
              "      height: 32px;\n",
              "      padding: 0 0 0 0;\n",
              "      width: 32px;\n",
              "    }\n",
              "\n",
              "    .colab-df-convert:hover {\n",
              "      background-color: #E2EBFA;\n",
              "      box-shadow: 0px 1px 2px rgba(60, 64, 67, 0.3), 0px 1px 3px 1px rgba(60, 64, 67, 0.15);\n",
              "      fill: #174EA6;\n",
              "    }\n",
              "\n",
              "    [theme=dark] .colab-df-convert {\n",
              "      background-color: #3B4455;\n",
              "      fill: #D2E3FC;\n",
              "    }\n",
              "\n",
              "    [theme=dark] .colab-df-convert:hover {\n",
              "      background-color: #434B5C;\n",
              "      box-shadow: 0px 1px 3px 1px rgba(0, 0, 0, 0.15);\n",
              "      filter: drop-shadow(0px 1px 2px rgba(0, 0, 0, 0.3));\n",
              "      fill: #FFFFFF;\n",
              "    }\n",
              "  </style>\n",
              "\n",
              "      <script>\n",
              "        const buttonEl =\n",
              "          document.querySelector('#df-9c5982cf-b472-4f97-9bd3-b22c5f4cc0e6 button.colab-df-convert');\n",
              "        buttonEl.style.display =\n",
              "          google.colab.kernel.accessAllowed ? 'block' : 'none';\n",
              "\n",
              "        async function convertToInteractive(key) {\n",
              "          const element = document.querySelector('#df-9c5982cf-b472-4f97-9bd3-b22c5f4cc0e6');\n",
              "          const dataTable =\n",
              "            await google.colab.kernel.invokeFunction('convertToInteractive',\n",
              "                                                     [key], {});\n",
              "          if (!dataTable) return;\n",
              "\n",
              "          const docLinkHtml = 'Like what you see? Visit the ' +\n",
              "            '<a target=\"_blank\" href=https://colab.research.google.com/notebooks/data_table.ipynb>data table notebook</a>'\n",
              "            + ' to learn more about interactive tables.';\n",
              "          element.innerHTML = '';\n",
              "          dataTable['output_type'] = 'display_data';\n",
              "          await google.colab.output.renderOutput(dataTable, element);\n",
              "          const docLink = document.createElement('div');\n",
              "          docLink.innerHTML = docLinkHtml;\n",
              "          element.appendChild(docLink);\n",
              "        }\n",
              "      </script>\n",
              "    </div>\n",
              "  </div>\n",
              "  "
            ],
            "text/plain": [
              "                               name  online_order  ...  Cost_per_plate  Type\n",
              "38                Empire Restaurant             1  ...           375.0     1\n",
              "86                    Meghana Foods             1  ...           300.0     1\n",
              "769                Vidyarthi Bhavan             0  ...           300.0     3\n",
              "868                 Barbeque Nation             0  ...           450.0     3\n",
              "909                          Onesta             1  ...           250.0     0\n",
              "...                             ...           ...  ...             ...   ...\n",
              "51071  Chili's American Grill & Bar             1  ...          1400.0     3\n",
              "51649                    Biergarten             0  ...          2400.0     4\n",
              "51650          Windmills Craftworks             0  ...          2500.0     4\n",
              "51685                    Biergarten             0  ...          2400.0     4\n",
              "51686          Windmills Craftworks             0  ...          2500.0     4\n",
              "\n",
              "[660 rows x 10 columns]"
            ]
          },
          "metadata": {},
          "execution_count": 344
        }
      ]
    },
    {
      "cell_type": "code",
      "source": [
        "new_df = df[(df['votes'] <3329.925660011424) & (df['votes'] > -2549.486347106372)]"
      ],
      "metadata": {
        "id": "INlaEqU57AiL"
      },
      "execution_count": null,
      "outputs": []
    },
    {
      "cell_type": "code",
      "source": [
        "upper_limit = df['votes'].mean() + 3*df['votes'].std()\n",
        "lower_limit = df['votes'].mean() - 3*df['votes'].std()"
      ],
      "metadata": {
        "id": "TrD7ovGH7Anw"
      },
      "execution_count": null,
      "outputs": []
    },
    {
      "cell_type": "code",
      "source": [
        "df['votes'] = np.where(\n",
        "    df['votes']>upper_limit,\n",
        "    upper_limit,\n",
        "    np.where(\n",
        "        df['votes']<lower_limit,\n",
        "        lower_limit,\n",
        "        df['votes']\n",
        "    )\n",
        ")"
      ],
      "metadata": {
        "id": "IOyq_prj71xu"
      },
      "execution_count": null,
      "outputs": []
    },
    {
      "cell_type": "code",
      "source": [
        "df['votes'].describe()"
      ],
      "metadata": {
        "colab": {
          "base_uri": "https://localhost:8080/"
        },
        "id": "9iwxGbKB716t",
        "outputId": "3c964d07-f0e2-46ac-d761-33d9517a592c"
      },
      "execution_count": null,
      "outputs": [
        {
          "output_type": "execute_result",
          "data": {
            "text/plain": [
              "count    31786.000000\n",
              "mean       344.824701\n",
              "std        675.780493\n",
              "min          0.000000\n",
              "25%         11.000000\n",
              "50%         66.000000\n",
              "75%        310.000000\n",
              "max       3329.925660\n",
              "Name: votes, dtype: float64"
            ]
          },
          "metadata": {},
          "execution_count": 348
        }
      ]
    },
    {
      "cell_type": "code",
      "source": [
        "import warnings\n",
        "warnings.filterwarnings('ignore')\n",
        "plt.figure(figsize=(16,5))\n",
        "plt.subplot(1,2,1)\n",
        "sns.distplot(df['votes'])"
      ],
      "metadata": {
        "colab": {
          "base_uri": "https://localhost:8080/",
          "height": 356
        },
        "id": "tN_VBJL55tSh",
        "outputId": "f6b3094a-97eb-4e3c-9256-65d899fe3822"
      },
      "execution_count": null,
      "outputs": [
        {
          "output_type": "execute_result",
          "data": {
            "text/plain": [
              "<matplotlib.axes._subplots.AxesSubplot at 0x7f98aec474d0>"
            ]
          },
          "metadata": {},
          "execution_count": 349
        },
        {
          "output_type": "display_data",
          "data": {
            "image/png": "[encoded data removed]",
            "text/plain": [
              "<Figure size 1152x360 with 1 Axes>"
            ]
          },
          "metadata": {
            "needs_background": "light"
          }
        }
      ]
    },
    {
      "cell_type": "markdown",
      "source": [
        "Before:\n",
        "\n",
        "![image.png](data:image/png;base64,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)"
      ],
      "metadata": {
        "id": "52XkRF4jAslI"
      }
    },
    {
      "cell_type": "markdown",
      "source": [
        "After:\n",
        "\n",
        "\n",
        "\n",
        "![image.png](data:image/png;base64,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)"
      ],
      "metadata": {
        "id": "058HmUcFA1Ai"
      }
    }
  ]
}